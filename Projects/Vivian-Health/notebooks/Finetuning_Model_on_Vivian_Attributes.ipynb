{
  "cells": [
    {
      "cell_type": "markdown",
      "metadata": {
        "id": "view-in-github",
        "colab_type": "text"
      },
      "source": [
        "<a href=\"https://colab.research.google.com/github/johnmcdonnell/CategoryFlashcards/blob/master/Projects/Vivian-Health/notebooks/Finetuning_Model_on_Vivian_Attributes.ipynb\" target=\"_parent\"><img src=\"https://colab.research.google.com/assets/colab-badge.svg\" alt=\"Open In Colab\"/></a>"
      ]
    },
    {
      "cell_type": "markdown",
      "metadata": {
        "id": "XGyjjcuwCmqT"
      },
      "source": [
        "# Fine Tuning a Model to classify Vivian Attributes\n",
        "\n",
        "Vivian would like to consistently tag its listings with a number of attributes that are described in natural language text. John has used the non-fine-tuned embeddings from sentences combined with some obvious regexes. This works fairly well for \"discipline,\" but isn't really adequate for shift time or specialty.\n",
        "\n",
        "The idea here is to fine tune a version of BERT to learn the indicators of interest that indicate these categories. This has two potential advantages\n",
        "1. Increased accuracy\n",
        "2. Easy portability to other potential Koya clients (if it can be done without too much fussiness)"
      ]
    },
    {
      "cell_type": "code",
      "execution_count": null,
      "metadata": {
        "colab": {
          "base_uri": "https://localhost:8080/"
        },
        "id": "Sn-yqpf2DhYR",
        "outputId": "2f867f3d-ba8d-4020-e81f-d83cf20b238a"
      },
      "outputs": [
        {
          "name": "stdout",
          "output_type": "stream",
          "text": [
            "Looking in indexes: https://pypi.org/simple, https://us-python.pkg.dev/colab-wheels/public/simple/\n",
            "Collecting html2text\n",
            "  Downloading html2text-2020.1.16-py3-none-any.whl (32 kB)\n",
            "Collecting transformers\n",
            "  Downloading transformers-4.21.0-py3-none-any.whl (4.7 MB)\n",
            "\u001b[K     |████████████████████████████████| 4.7 MB 6.9 MB/s \n",
            "\u001b[?25hCollecting datasets\n",
            "  Downloading datasets-2.4.0-py3-none-any.whl (365 kB)\n",
            "\u001b[K     |████████████████████████████████| 365 kB 14.8 MB/s \n",
            "\u001b[?25hRequirement already satisfied: importlib-metadata in /usr/local/lib/python3.7/dist-packages (from transformers) (4.12.0)\n",
            "Requirement already satisfied: numpy>=1.17 in /usr/local/lib/python3.7/dist-packages (from transformers) (1.21.6)\n",
            "Collecting tokenizers!=0.11.3,<0.13,>=0.11.1\n",
            "  Downloading tokenizers-0.12.1-cp37-cp37m-manylinux_2_12_x86_64.manylinux2010_x86_64.whl (6.6 MB)\n",
            "\u001b[K     |████████████████████████████████| 6.6 MB 47.9 MB/s \n",
            "\u001b[?25hRequirement already satisfied: requests in /usr/local/lib/python3.7/dist-packages (from transformers) (2.23.0)\n",
            "Requirement already satisfied: regex!=2019.12.17 in /usr/local/lib/python3.7/dist-packages (from transformers) (2022.6.2)\n",
            "Collecting pyyaml>=5.1\n",
            "  Downloading PyYAML-6.0-cp37-cp37m-manylinux_2_5_x86_64.manylinux1_x86_64.manylinux_2_12_x86_64.manylinux2010_x86_64.whl (596 kB)\n",
            "\u001b[K     |████████████████████████████████| 596 kB 70.9 MB/s \n",
            "\u001b[?25hRequirement already satisfied: filelock in /usr/local/lib/python3.7/dist-packages (from transformers) (3.7.1)\n",
            "Collecting huggingface-hub<1.0,>=0.1.0\n",
            "  Downloading huggingface_hub-0.8.1-py3-none-any.whl (101 kB)\n",
            "\u001b[K     |████████████████████████████████| 101 kB 14.2 MB/s \n",
            "\u001b[?25hRequirement already satisfied: tqdm>=4.27 in /usr/local/lib/python3.7/dist-packages (from transformers) (4.64.0)\n",
            "Requirement already satisfied: packaging>=20.0 in /usr/local/lib/python3.7/dist-packages (from transformers) (21.3)\n",
            "Requirement already satisfied: typing-extensions>=3.7.4.3 in /usr/local/lib/python3.7/dist-packages (from huggingface-hub<1.0,>=0.1.0->transformers) (4.1.1)\n",
            "Requirement already satisfied: pyparsing!=3.0.5,>=2.0.2 in /usr/local/lib/python3.7/dist-packages (from packaging>=20.0->transformers) (3.0.9)\n",
            "Collecting responses<0.19\n",
            "  Downloading responses-0.18.0-py3-none-any.whl (38 kB)\n",
            "Collecting xxhash\n",
            "  Downloading xxhash-3.0.0-cp37-cp37m-manylinux_2_17_x86_64.manylinux2014_x86_64.whl (212 kB)\n",
            "\u001b[K     |████████████████████████████████| 212 kB 73.7 MB/s \n",
            "\u001b[?25hCollecting fsspec[http]>=2021.11.1\n",
            "  Downloading fsspec-2022.7.1-py3-none-any.whl (141 kB)\n",
            "\u001b[K     |████████████████████████████████| 141 kB 75.6 MB/s \n",
            "\u001b[?25hRequirement already satisfied: dill<0.3.6 in /usr/local/lib/python3.7/dist-packages (from datasets) (0.3.5.1)\n",
            "Requirement already satisfied: aiohttp in /usr/local/lib/python3.7/dist-packages (from datasets) (3.8.1)\n",
            "Requirement already satisfied: pandas in /usr/local/lib/python3.7/dist-packages (from datasets) (1.3.5)\n",
            "Requirement already satisfied: multiprocess in /usr/local/lib/python3.7/dist-packages (from datasets) (0.70.13)\n",
            "Requirement already satisfied: pyarrow>=6.0.0 in /usr/local/lib/python3.7/dist-packages (from datasets) (6.0.1)\n",
            "Requirement already satisfied: idna<3,>=2.5 in /usr/local/lib/python3.7/dist-packages (from requests->transformers) (2.10)\n",
            "Requirement already satisfied: certifi>=2017.4.17 in /usr/local/lib/python3.7/dist-packages (from requests->transformers) (2022.6.15)\n",
            "Requirement already satisfied: chardet<4,>=3.0.2 in /usr/local/lib/python3.7/dist-packages (from requests->transformers) (3.0.4)\n",
            "Requirement already satisfied: urllib3!=1.25.0,!=1.25.1,<1.26,>=1.21.1 in /usr/local/lib/python3.7/dist-packages (from requests->transformers) (1.24.3)\n",
            "Collecting urllib3!=1.25.0,!=1.25.1,<1.26,>=1.21.1\n",
            "  Downloading urllib3-1.25.11-py2.py3-none-any.whl (127 kB)\n",
            "\u001b[K     |████████████████████████████████| 127 kB 64.3 MB/s \n",
            "\u001b[?25hRequirement already satisfied: multidict<7.0,>=4.5 in /usr/local/lib/python3.7/dist-packages (from aiohttp->datasets) (6.0.2)\n",
            "Requirement already satisfied: charset-normalizer<3.0,>=2.0 in /usr/local/lib/python3.7/dist-packages (from aiohttp->datasets) (2.1.0)\n",
            "Requirement already satisfied: yarl<2.0,>=1.0 in /usr/local/lib/python3.7/dist-packages (from aiohttp->datasets) (1.7.2)\n",
            "Requirement already satisfied: attrs>=17.3.0 in /usr/local/lib/python3.7/dist-packages (from aiohttp->datasets) (21.4.0)\n",
            "Requirement already satisfied: asynctest==0.13.0 in /usr/local/lib/python3.7/dist-packages (from aiohttp->datasets) (0.13.0)\n",
            "Requirement already satisfied: aiosignal>=1.1.2 in /usr/local/lib/python3.7/dist-packages (from aiohttp->datasets) (1.2.0)\n",
            "Requirement already satisfied: async-timeout<5.0,>=4.0.0a3 in /usr/local/lib/python3.7/dist-packages (from aiohttp->datasets) (4.0.2)\n",
            "Requirement already satisfied: frozenlist>=1.1.1 in /usr/local/lib/python3.7/dist-packages (from aiohttp->datasets) (1.3.0)\n",
            "Requirement already satisfied: zipp>=0.5 in /usr/local/lib/python3.7/dist-packages (from importlib-metadata->transformers) (3.8.1)\n",
            "Requirement already satisfied: python-dateutil>=2.7.3 in /usr/local/lib/python3.7/dist-packages (from pandas->datasets) (2.8.2)\n",
            "Requirement already satisfied: pytz>=2017.3 in /usr/local/lib/python3.7/dist-packages (from pandas->datasets) (2022.1)\n",
            "Requirement already satisfied: six>=1.5 in /usr/local/lib/python3.7/dist-packages (from python-dateutil>=2.7.3->pandas->datasets) (1.15.0)\n",
            "Installing collected packages: urllib3, pyyaml, fsspec, xxhash, tokenizers, responses, huggingface-hub, transformers, html2text, datasets\n",
            "  Attempting uninstall: urllib3\n",
            "    Found existing installation: urllib3 1.24.3\n",
            "    Uninstalling urllib3-1.24.3:\n",
            "      Successfully uninstalled urllib3-1.24.3\n",
            "  Attempting uninstall: pyyaml\n",
            "    Found existing installation: PyYAML 3.13\n",
            "    Uninstalling PyYAML-3.13:\n",
            "      Successfully uninstalled PyYAML-3.13\n",
            "\u001b[31mERROR: pip's dependency resolver does not currently take into account all the packages that are installed. This behaviour is the source of the following dependency conflicts.\n",
            "datascience 0.10.6 requires folium==0.2.1, but you have folium 0.8.3 which is incompatible.\u001b[0m\n",
            "Successfully installed datasets-2.4.0 fsspec-2022.7.1 html2text-2020.1.16 huggingface-hub-0.8.1 pyyaml-6.0 responses-0.18.0 tokenizers-0.12.1 transformers-4.21.0 urllib3-1.25.11 xxhash-3.0.0\n"
          ]
        }
      ],
      "source": [
        "\n",
        "!pip install html2text transformers datasets"
      ]
    },
    {
      "cell_type": "code",
      "execution_count": null,
      "metadata": {
        "id": "rKNa42PZDHde"
      },
      "outputs": [],
      "source": [
        "import os\n",
        "import numpy as np\n",
        "import pandas as pd\n",
        "import html2text\n",
        "\n",
        "from sklearn.model_selection import train_test_split\n",
        "import torch\n",
        "import transformers\n",
        "\n",
        "import datasets"
      ]
    },
    {
      "cell_type": "code",
      "execution_count": null,
      "metadata": {
        "colab": {
          "base_uri": "https://localhost:8080/"
        },
        "id": "BBoh-IOACisB",
        "outputId": "3dd87edb-4f3c-4d83-b530-abe0bc2efbb2"
      },
      "outputs": [
        {
          "name": "stdout",
          "output_type": "stream",
          "text": [
            "Mounted at /content/drive\n"
          ]
        }
      ],
      "source": [
        "from google.colab import drive\n",
        "drive.mount('/content/drive')\n",
        "\n",
        "data_dir = '/content/drive/MyDrive/Vivian Project'\n",
        "transformer_dir = '/content/drive/MyDrive/Vivian Project/Transformer Fine Tuning'"
      ]
    },
    {
      "cell_type": "code",
      "execution_count": null,
      "metadata": {
        "colab": {
          "base_uri": "https://localhost:8080/"
        },
        "id": "ILUppJjbC2cd",
        "outputId": "fd886c46-b1f2-450c-d31b-dd6e1313f5cb"
      },
      "outputs": [
        {
          "name": "stdout",
          "output_type": "stream",
          "text": [
            "PyTorch version: 1.12.0+cu113\n",
            "TPU available?: False\n",
            "Is MPS (Metal Performance Shader) built? False\n",
            "Is MPS available? False\n",
            "Is CUDA available? True\n",
            "Using device: cuda\n"
          ]
        }
      ],
      "source": [
        "print(f\"PyTorch version: {torch.__version__}\")\n",
        "\n",
        "print(f\"TPU available?: {'COLAB_TPU_ADDR' in os.environ}\")\n",
        "\n",
        "# Check PyTorch has access to MPS (Metal Performance Shader, Apple's GPU architecture)\n",
        "print(f\"Is MPS (Metal Performance Shader) built? {torch.backends.mps.is_built()}\")\n",
        "print(f\"Is MPS available? {torch.backends.mps.is_available()}\")\n",
        "print(f\"Is CUDA available? {torch.cuda.is_available()}\")\n",
        "\n",
        "\n",
        "if 'COLAB_TPU_ADDR' in os.environ:\n",
        "  # This means we've got a Colab TPU\n",
        "  # (John was not able to get this running)\n",
        "  # TPU reference here: https://colab.research.google.com/github/pytorch/xla/blob/master/contrib/colab/getting-started.ipynb\n",
        "  # Advice here https://github.com/pytorch/xla\n",
        "  # …and here https://github.com/pytorch/xla/issues/3186\n",
        "  os.system('pip install cloud-tpu-client==0.10 https://storage.googleapis.com/tpu-pytorch/wheels/torch_xla-1.11-cp37-cp37m-linux_x86_64.whl')\n",
        "  import torch_xla.core.xla_model as xm\n",
        "  device = xm.xla_device()\n",
        "elif torch.backends.mps.is_available():\n",
        "  device = \"mps\"\n",
        "elif torch.cuda.is_available():\n",
        "  device = \"cuda\"\n",
        "else:\n",
        "  device = \"cpu\"\n",
        "\n",
        "print(f\"Using device: {device}\")"
      ]
    },
    {
      "cell_type": "markdown",
      "metadata": {
        "id": "_dk6uiIuDVAA"
      },
      "source": [
        "# Prep the data"
      ]
    },
    {
      "cell_type": "code",
      "execution_count": null,
      "metadata": {
        "id": "JQT1OXOQDFVe"
      },
      "outputs": [],
      "source": [
        "job_descriptions = pd.read_csv(f'{data_dir}/tagged_job_descriptions.csv')\n",
        "\n",
        "# Dropping nan job_ids\n",
        "job_descriptions = job_descriptions.dropna(subset=['job_id']).set_index('job_id')"
      ]
    },
    {
      "cell_type": "code",
      "execution_count": null,
      "metadata": {
        "id": "XWss1BzMDUCX"
      },
      "outputs": [],
      "source": [
        "text_maker = html2text.HTML2Text()\n",
        "\n",
        "def remove_html_tags(string):\n",
        "    #return BeautifulSoup(string, \"lxml\").text\n",
        "    return text_maker.handle(string)\n"
      ]
    },
    {
      "cell_type": "code",
      "execution_count": null,
      "metadata": {
        "colab": {
          "base_uri": "https://localhost:8080/"
        },
        "id": "gsOxSIQrDW_n",
        "outputId": "6abeb03d-4cd1-4d76-e0b9-98927bd079d6"
      },
      "outputs": [
        {
          "output_type": "stream",
          "name": "stdout",
          "text": [
            "CPU times: user 2min 6s, sys: 288 ms, total: 2min 6s\n",
            "Wall time: 2min 12s\n"
          ]
        }
      ],
      "source": [
        "%%time\n",
        "\n",
        "def concatenate_title_with_description(row):\n",
        "    \"\"\"Concatenates job title with the description, also removes HTML tags from description\"\"\"\n",
        "    if pd.notnull(row['job_title']) and pd.notnull(row['description']):\n",
        "        concatenated = f\"\"\"title: {row['job_title']}\n",
        "        description: {remove_html_tags(row['description'])}\"\"\".strip()\n",
        "    elif pd.notnull(row['job_title']):\n",
        "        concatenated = f\"title: {row['job_title']}\"\n",
        "    elif pd.notnull(row['description']):\n",
        "        concatenated = f\"description: {remove_html_tags(row['description'])}\"\n",
        "    else:\n",
        "        concatenated = None\n",
        "    return concatenated\n",
        "\n",
        "job_descriptions['title_plus_description'] = job_descriptions.apply(concatenate_title_with_description, axis=1)"
      ]
    },
    {
      "cell_type": "code",
      "execution_count": null,
      "metadata": {
        "colab": {
          "base_uri": "https://localhost:8080/"
        },
        "id": "iC6IoWBuSI5a",
        "outputId": "e95267d1-043d-4996-daf5-a7a91d64d724"
      },
      "outputs": [
        {
          "name": "stdout",
          "output_type": "stream",
          "text": [
            "CPU times: user 186 ms, sys: 131 ms, total: 317 ms\n",
            "Wall time: 325 ms\n"
          ]
        }
      ],
      "source": [
        "%%time\n",
        "# For train/test, \n",
        "\n",
        "# Needed, a column named text and one named labels\n",
        "\n",
        "has_shift_label = job_descriptions['shift'].notnull()\n",
        "labelled_data = job_descriptions.loc[has_shift_label, ['title_plus_description', 'shift']]\n",
        "\n",
        "train_df, test_df = train_test_split(labelled_data, test_size=0.2)\n",
        "\n",
        "dataset_shifts = datasets.DatasetDict({'train': datasets.Dataset.from_pandas(train_df),\n",
        "                                'test': datasets.Dataset.from_pandas(test_df)\n",
        "                                })\n",
        "\n",
        "dataset_shifts = dataset_shifts.rename_column(\"title_plus_description\", \"text\")\n",
        "dataset_shifts = dataset_shifts.rename_column(\"shift\", \"label\")\n",
        "#dataset_shifts = dataset_shifts.class_encode_column('label')\n"
      ]
    },
    {
      "cell_type": "code",
      "execution_count": null,
      "metadata": {
        "colab": {
          "base_uri": "https://localhost:8080/"
        },
        "id": "2Cm51sTYDomH",
        "outputId": "4979c06b-6300-4997-cef8-1a18138dc95b"
      },
      "outputs": [
        {
          "output_type": "stream",
          "name": "stderr",
          "text": [
            "loading configuration file https://huggingface.co/bert-base-cased/resolve/main/config.json from cache at /root/.cache/huggingface/transformers/a803e0468a8fe090683bdc453f4fac622804f49de86d7cecaee92365d4a0f829.a64a22196690e0e82ead56f388a3ef3a50de93335926ccfa20610217db589307\n",
            "Model config BertConfig {\n",
            "  \"_name_or_path\": \"bert-base-cased\",\n",
            "  \"architectures\": [\n",
            "    \"BertForMaskedLM\"\n",
            "  ],\n",
            "  \"attention_probs_dropout_prob\": 0.1,\n",
            "  \"classifier_dropout\": null,\n",
            "  \"gradient_checkpointing\": false,\n",
            "  \"hidden_act\": \"gelu\",\n",
            "  \"hidden_dropout_prob\": 0.1,\n",
            "  \"hidden_size\": 768,\n",
            "  \"initializer_range\": 0.02,\n",
            "  \"intermediate_size\": 3072,\n",
            "  \"layer_norm_eps\": 1e-12,\n",
            "  \"max_position_embeddings\": 512,\n",
            "  \"model_type\": \"bert\",\n",
            "  \"num_attention_heads\": 12,\n",
            "  \"num_hidden_layers\": 12,\n",
            "  \"pad_token_id\": 0,\n",
            "  \"position_embedding_type\": \"absolute\",\n",
            "  \"transformers_version\": \"4.21.0\",\n",
            "  \"type_vocab_size\": 2,\n",
            "  \"use_cache\": true,\n",
            "  \"vocab_size\": 28996\n",
            "}\n",
            "\n",
            "loading file https://huggingface.co/bert-base-cased/resolve/main/vocab.txt from cache at /root/.cache/huggingface/transformers/6508e60ab3c1200bffa26c95f4b58ac6b6d95fba4db1f195f632fa3cd7bc64cc.437aa611e89f6fc6675a049d2b5545390adbc617e7d655286421c191d2be2791\n",
            "loading file https://huggingface.co/bert-base-cased/resolve/main/tokenizer.json from cache at /root/.cache/huggingface/transformers/226a307193a9f4344264cdc76a12988448a25345ba172f2c7421f3b6810fddad.3dab63143af66769bbb35e3811f75f7e16b2320e12b7935e216bd6159ce6d9a6\n",
            "loading file https://huggingface.co/bert-base-cased/resolve/main/added_tokens.json from cache at None\n",
            "loading file https://huggingface.co/bert-base-cased/resolve/main/special_tokens_map.json from cache at None\n",
            "loading file https://huggingface.co/bert-base-cased/resolve/main/tokenizer_config.json from cache at /root/.cache/huggingface/transformers/ec84e86ee39bfe112543192cf981deebf7e6cbe8c91b8f7f8f63c9be44366158.ec5c189f89475aac7d8cbd243960a0655cfadc3d0474da8ff2ed0bf1699c2a5f\n",
            "loading configuration file https://huggingface.co/bert-base-cased/resolve/main/config.json from cache at /root/.cache/huggingface/transformers/a803e0468a8fe090683bdc453f4fac622804f49de86d7cecaee92365d4a0f829.a64a22196690e0e82ead56f388a3ef3a50de93335926ccfa20610217db589307\n",
            "Model config BertConfig {\n",
            "  \"_name_or_path\": \"bert-base-cased\",\n",
            "  \"architectures\": [\n",
            "    \"BertForMaskedLM\"\n",
            "  ],\n",
            "  \"attention_probs_dropout_prob\": 0.1,\n",
            "  \"classifier_dropout\": null,\n",
            "  \"gradient_checkpointing\": false,\n",
            "  \"hidden_act\": \"gelu\",\n",
            "  \"hidden_dropout_prob\": 0.1,\n",
            "  \"hidden_size\": 768,\n",
            "  \"initializer_range\": 0.02,\n",
            "  \"intermediate_size\": 3072,\n",
            "  \"layer_norm_eps\": 1e-12,\n",
            "  \"max_position_embeddings\": 512,\n",
            "  \"model_type\": \"bert\",\n",
            "  \"num_attention_heads\": 12,\n",
            "  \"num_hidden_layers\": 12,\n",
            "  \"pad_token_id\": 0,\n",
            "  \"position_embedding_type\": \"absolute\",\n",
            "  \"transformers_version\": \"4.21.0\",\n",
            "  \"type_vocab_size\": 2,\n",
            "  \"use_cache\": true,\n",
            "  \"vocab_size\": 28996\n",
            "}\n",
            "\n"
          ]
        }
      ],
      "source": [
        "from transformers import AutoTokenizer\n",
        "tokenizer = AutoTokenizer.from_pretrained(\"bert-base-cased\") #, padding=True, max_length = 512)\n",
        "\n",
        "def preprocess_data(examples):\n",
        "  encoding = tokenizer(examples['text'], padding='max_length', truncation=True)\n",
        "  encoding['token_count'] = [np.sum(x) for x in encoding['attention_mask']]\n",
        "  encoding['is_max_count'] = [x == 512 for x in encoding['token_count']]\n",
        "  return encoding\n"
      ]
    },
    {
      "cell_type": "code",
      "execution_count": null,
      "metadata": {
        "colab": {
          "base_uri": "https://localhost:8080/",
          "height": 117,
          "referenced_widgets": [
            "1f4871d953f1468da285a831b2f968fd",
            "95e5d2cd58c5404fb4ce60b02b3cbe2d",
            "5954306ec4f54a0aa6df3985f2d82917",
            "a3a73d92eeb54261931d092909a5f256",
            "e1f2e0bb0917433591f709a9c1b7f796",
            "3be317a32558430c9afefe948b62b5b4",
            "02bcda77c9f74570a2c870c3a3b1c547",
            "2e0ebde5fef1409d8f7c48a73611bad8",
            "e25d02af487a40fea5c3c7f6346faf33",
            "1aeb8db409d64f039e53e1264082fc8f",
            "46cfe5edb79042c4a324d59222abc08d",
            "45fdeab0033b44949a548d9b560bc2cf",
            "553afb97c2b94de08340a9b1d6ad03c7",
            "42ca5c96d3bd4feea5cdca0fa418a9d4",
            "5c42cde8cddd4a57b13caa3dfce1d052",
            "027b026b8a754be98ad46a3364509379",
            "0dbe696b6b894967be210652acbb7a93",
            "dad43216556947ef98ae1d892257eff0",
            "f09a775574cf4c3fb918ca13aca02183",
            "9f925958b7344beb85c671b549d3e58f",
            "547bcd165ad946ccbedce30eda504182",
            "4549fac9e44541a8a60a7301f6df38aa"
          ]
        },
        "id": "k8q5LkhoEBsR",
        "outputId": "15d85417-e86f-48dd-dbef-5ec4f3ac0279"
      },
      "outputs": [
        {
          "data": {
            "application/vnd.jupyter.widget-view+json": {
              "model_id": "1f4871d953f1468da285a831b2f968fd",
              "version_major": 2,
              "version_minor": 0
            },
            "text/plain": [
              "  0%|          | 0/29 [00:00<?, ?ba/s]"
            ]
          },
          "metadata": {},
          "output_type": "display_data"
        },
        {
          "data": {
            "application/vnd.jupyter.widget-view+json": {
              "model_id": "45fdeab0033b44949a548d9b560bc2cf",
              "version_major": 2,
              "version_minor": 0
            },
            "text/plain": [
              "  0%|          | 0/8 [00:00<?, ?ba/s]"
            ]
          },
          "metadata": {},
          "output_type": "display_data"
        },
        {
          "name": "stdout",
          "output_type": "stream",
          "text": [
            "CPU times: user 1min 43s, sys: 1.48 s, total: 1min 45s\n",
            "Wall time: 1min 8s\n"
          ]
        }
      ],
      "source": [
        "%%time\n",
        "\n",
        "tokenized_dataset_shift = dataset_shifts.map(preprocess_data, batched=True)\n",
        "\n",
        "\n"
      ]
    },
    {
      "cell_type": "code",
      "execution_count": null,
      "metadata": {
        "colab": {
          "base_uri": "https://localhost:8080/",
          "height": 160
        },
        "id": "V3SOlvpb8SWd",
        "outputId": "fba57265-d26d-46c7-ae53-9a8bb96128d1"
      },
      "outputs": [
        {
          "name": "stdout",
          "output_type": "stream",
          "text": [
            "Label for job_id corney_hospital-18824239: Flexible\n"
          ]
        },
        {
          "data": {
            "text/html": [
              "\n",
              "  <div id=\"df-88aaf2c1-0f2c-41fc-9557-a07ee22ee005\">\n",
              "    <div class=\"colab-df-container\">\n",
              "      <div>\n",
              "<style scoped>\n",
              "    .dataframe tbody tr th:only-of-type {\n",
              "        vertical-align: middle;\n",
              "    }\n",
              "\n",
              "    .dataframe tbody tr th {\n",
              "        vertical-align: top;\n",
              "    }\n",
              "\n",
              "    .dataframe thead th {\n",
              "        text-align: right;\n",
              "    }\n",
              "</style>\n",
              "<table border=\"1\" class=\"dataframe\">\n",
              "  <thead>\n",
              "    <tr style=\"text-align: right;\">\n",
              "      <th></th>\n",
              "      <th>job_id</th>\n",
              "      <th>description</th>\n",
              "      <th>job_title</th>\n",
              "      <th>employment_type</th>\n",
              "      <th>shift</th>\n",
              "      <th>discipline</th>\n",
              "      <th>specialty</th>\n",
              "      <th>title_plus_description</th>\n",
              "    </tr>\n",
              "  </thead>\n",
              "  <tbody>\n",
              "    <tr>\n",
              "      <th>31273</th>\n",
              "      <td>corney_hospital-18824239</td>\n",
              "      <td>&lt;div class=\"location-info\"&gt;&lt;b&gt;Location: &lt;/b&gt;Ro...</td>\n",
              "      <td>Rad Techno I Per Diem - Rockledge, FL</td>\n",
              "      <td>Per Diem</td>\n",
              "      <td>Flexible</td>\n",
              "      <td>Allied Health Professional</td>\n",
              "      <td>Radiology Technologist</td>\n",
              "      <td>title: Rad Techno I Per Diem - Rockledge, FL\\n...</td>\n",
              "    </tr>\n",
              "  </tbody>\n",
              "</table>\n",
              "</div>\n",
              "      <button class=\"colab-df-convert\" onclick=\"convertToInteractive('df-88aaf2c1-0f2c-41fc-9557-a07ee22ee005')\"\n",
              "              title=\"Convert this dataframe to an interactive table.\"\n",
              "              style=\"display:none;\">\n",
              "        \n",
              "  <svg xmlns=\"http://www.w3.org/2000/svg\" height=\"24px\"viewBox=\"0 0 24 24\"\n",
              "       width=\"24px\">\n",
              "    <path d=\"M0 0h24v24H0V0z\" fill=\"none\"/>\n",
              "    <path d=\"M18.56 5.44l.94 2.06.94-2.06 2.06-.94-2.06-.94-.94-2.06-.94 2.06-2.06.94zm-11 1L8.5 8.5l.94-2.06 2.06-.94-2.06-.94L8.5 2.5l-.94 2.06-2.06.94zm10 10l.94 2.06.94-2.06 2.06-.94-2.06-.94-.94-2.06-.94 2.06-2.06.94z\"/><path d=\"M17.41 7.96l-1.37-1.37c-.4-.4-.92-.59-1.43-.59-.52 0-1.04.2-1.43.59L10.3 9.45l-7.72 7.72c-.78.78-.78 2.05 0 2.83L4 21.41c.39.39.9.59 1.41.59.51 0 1.02-.2 1.41-.59l7.78-7.78 2.81-2.81c.8-.78.8-2.07 0-2.86zM5.41 20L4 18.59l7.72-7.72 1.47 1.35L5.41 20z\"/>\n",
              "  </svg>\n",
              "      </button>\n",
              "      \n",
              "  <style>\n",
              "    .colab-df-container {\n",
              "      display:flex;\n",
              "      flex-wrap:wrap;\n",
              "      gap: 12px;\n",
              "    }\n",
              "\n",
              "    .colab-df-convert {\n",
              "      background-color: #E8F0FE;\n",
              "      border: none;\n",
              "      border-radius: 50%;\n",
              "      cursor: pointer;\n",
              "      display: none;\n",
              "      fill: #1967D2;\n",
              "      height: 32px;\n",
              "      padding: 0 0 0 0;\n",
              "      width: 32px;\n",
              "    }\n",
              "\n",
              "    .colab-df-convert:hover {\n",
              "      background-color: #E2EBFA;\n",
              "      box-shadow: 0px 1px 2px rgba(60, 64, 67, 0.3), 0px 1px 3px 1px rgba(60, 64, 67, 0.15);\n",
              "      fill: #174EA6;\n",
              "    }\n",
              "\n",
              "    [theme=dark] .colab-df-convert {\n",
              "      background-color: #3B4455;\n",
              "      fill: #D2E3FC;\n",
              "    }\n",
              "\n",
              "    [theme=dark] .colab-df-convert:hover {\n",
              "      background-color: #434B5C;\n",
              "      box-shadow: 0px 1px 3px 1px rgba(0, 0, 0, 0.15);\n",
              "      filter: drop-shadow(0px 1px 2px rgba(0, 0, 0, 0.3));\n",
              "      fill: #FFFFFF;\n",
              "    }\n",
              "  </style>\n",
              "\n",
              "      <script>\n",
              "        const buttonEl =\n",
              "          document.querySelector('#df-88aaf2c1-0f2c-41fc-9557-a07ee22ee005 button.colab-df-convert');\n",
              "        buttonEl.style.display =\n",
              "          google.colab.kernel.accessAllowed ? 'block' : 'none';\n",
              "\n",
              "        async function convertToInteractive(key) {\n",
              "          const element = document.querySelector('#df-88aaf2c1-0f2c-41fc-9557-a07ee22ee005');\n",
              "          const dataTable =\n",
              "            await google.colab.kernel.invokeFunction('convertToInteractive',\n",
              "                                                     [key], {});\n",
              "          if (!dataTable) return;\n",
              "\n",
              "          const docLinkHtml = 'Like what you see? Visit the ' +\n",
              "            '<a target=\"_blank\" href=https://colab.research.google.com/notebooks/data_table.ipynb>data table notebook</a>'\n",
              "            + ' to learn more about interactive tables.';\n",
              "          element.innerHTML = '';\n",
              "          dataTable['output_type'] = 'display_data';\n",
              "          await google.colab.output.renderOutput(dataTable, element);\n",
              "          const docLink = document.createElement('div');\n",
              "          docLink.innerHTML = docLinkHtml;\n",
              "          element.appendChild(docLink);\n",
              "        }\n",
              "      </script>\n",
              "    </div>\n",
              "  </div>\n",
              "  "
            ],
            "text/plain": [
              "                         job_id  \\\n",
              "31273  corney_hospital-18824239   \n",
              "\n",
              "                                             description  \\\n",
              "31273  <div class=\"location-info\"><b>Location: </b>Ro...   \n",
              "\n",
              "                                   job_title employment_type     shift  \\\n",
              "31273  Rad Techno I Per Diem - Rockledge, FL        Per Diem  Flexible   \n",
              "\n",
              "                       discipline               specialty  \\\n",
              "31273  Allied Health Professional  Radiology Technologist   \n",
              "\n",
              "                                  title_plus_description  \n",
              "31273  title: Rad Techno I Per Diem - Rockledge, FL\\n...  "
            ]
          },
          "execution_count": 12,
          "metadata": {},
          "output_type": "execute_result"
        }
      ],
      "source": [
        "# Some sanity checks on label mapping\n",
        "\n",
        "check_instance = 0\n",
        "\n",
        "print(f\"Label for job_id {tokenized_dataset_shift['train'][check_instance]['job_id']}: {tokenized_dataset_shift['train'][check_instance]['label']}\")\n",
        "\n",
        "job_descriptions.query(f\"\"\"job_id == \"{tokenized_dataset_shift['train'][check_instance]['job_id']}\" \"\"\")"
      ]
    },
    {
      "cell_type": "code",
      "execution_count": null,
      "metadata": {
        "colab": {
          "base_uri": "https://localhost:8080/",
          "height": 160
        },
        "id": "ttkWEYmP8aNg",
        "outputId": "d6113219-2dcd-491e-d713-ed15efc57265"
      },
      "outputs": [
        {
          "name": "stdout",
          "output_type": "stream",
          "text": [
            "Label for job_id jobs-tenethealth-com-2205003628: Flexible\n"
          ]
        },
        {
          "data": {
            "text/html": [
              "\n",
              "  <div id=\"df-deeb4583-1282-4ffd-8136-782ffadd0c63\">\n",
              "    <div class=\"colab-df-container\">\n",
              "      <div>\n",
              "<style scoped>\n",
              "    .dataframe tbody tr th:only-of-type {\n",
              "        vertical-align: middle;\n",
              "    }\n",
              "\n",
              "    .dataframe tbody tr th {\n",
              "        vertical-align: top;\n",
              "    }\n",
              "\n",
              "    .dataframe thead th {\n",
              "        text-align: right;\n",
              "    }\n",
              "</style>\n",
              "<table border=\"1\" class=\"dataframe\">\n",
              "  <thead>\n",
              "    <tr style=\"text-align: right;\">\n",
              "      <th></th>\n",
              "      <th>job_id</th>\n",
              "      <th>description</th>\n",
              "      <th>job_title</th>\n",
              "      <th>employment_type</th>\n",
              "      <th>shift</th>\n",
              "      <th>discipline</th>\n",
              "      <th>specialty</th>\n",
              "      <th>title_plus_description</th>\n",
              "    </tr>\n",
              "  </thead>\n",
              "  <tbody>\n",
              "    <tr>\n",
              "      <th>28909</th>\n",
              "      <td>jobs-tenethealth-com-2205003628</td>\n",
              "      <td>&lt;div class=\"ats-description\"&gt;&lt;p style=\"font-fa...</td>\n",
              "      <td>Phlebotomist - El Paso, Texas</td>\n",
              "      <td>Per Diem</td>\n",
              "      <td>Flexible</td>\n",
              "      <td>Allied Health Professional</td>\n",
              "      <td>Phlebotomist</td>\n",
              "      <td>title: Phlebotomist - El Paso, Texas\\n        ...</td>\n",
              "    </tr>\n",
              "  </tbody>\n",
              "</table>\n",
              "</div>\n",
              "      <button class=\"colab-df-convert\" onclick=\"convertToInteractive('df-deeb4583-1282-4ffd-8136-782ffadd0c63')\"\n",
              "              title=\"Convert this dataframe to an interactive table.\"\n",
              "              style=\"display:none;\">\n",
              "        \n",
              "  <svg xmlns=\"http://www.w3.org/2000/svg\" height=\"24px\"viewBox=\"0 0 24 24\"\n",
              "       width=\"24px\">\n",
              "    <path d=\"M0 0h24v24H0V0z\" fill=\"none\"/>\n",
              "    <path d=\"M18.56 5.44l.94 2.06.94-2.06 2.06-.94-2.06-.94-.94-2.06-.94 2.06-2.06.94zm-11 1L8.5 8.5l.94-2.06 2.06-.94-2.06-.94L8.5 2.5l-.94 2.06-2.06.94zm10 10l.94 2.06.94-2.06 2.06-.94-2.06-.94-.94-2.06-.94 2.06-2.06.94z\"/><path d=\"M17.41 7.96l-1.37-1.37c-.4-.4-.92-.59-1.43-.59-.52 0-1.04.2-1.43.59L10.3 9.45l-7.72 7.72c-.78.78-.78 2.05 0 2.83L4 21.41c.39.39.9.59 1.41.59.51 0 1.02-.2 1.41-.59l7.78-7.78 2.81-2.81c.8-.78.8-2.07 0-2.86zM5.41 20L4 18.59l7.72-7.72 1.47 1.35L5.41 20z\"/>\n",
              "  </svg>\n",
              "      </button>\n",
              "      \n",
              "  <style>\n",
              "    .colab-df-container {\n",
              "      display:flex;\n",
              "      flex-wrap:wrap;\n",
              "      gap: 12px;\n",
              "    }\n",
              "\n",
              "    .colab-df-convert {\n",
              "      background-color: #E8F0FE;\n",
              "      border: none;\n",
              "      border-radius: 50%;\n",
              "      cursor: pointer;\n",
              "      display: none;\n",
              "      fill: #1967D2;\n",
              "      height: 32px;\n",
              "      padding: 0 0 0 0;\n",
              "      width: 32px;\n",
              "    }\n",
              "\n",
              "    .colab-df-convert:hover {\n",
              "      background-color: #E2EBFA;\n",
              "      box-shadow: 0px 1px 2px rgba(60, 64, 67, 0.3), 0px 1px 3px 1px rgba(60, 64, 67, 0.15);\n",
              "      fill: #174EA6;\n",
              "    }\n",
              "\n",
              "    [theme=dark] .colab-df-convert {\n",
              "      background-color: #3B4455;\n",
              "      fill: #D2E3FC;\n",
              "    }\n",
              "\n",
              "    [theme=dark] .colab-df-convert:hover {\n",
              "      background-color: #434B5C;\n",
              "      box-shadow: 0px 1px 3px 1px rgba(0, 0, 0, 0.15);\n",
              "      filter: drop-shadow(0px 1px 2px rgba(0, 0, 0, 0.3));\n",
              "      fill: #FFFFFF;\n",
              "    }\n",
              "  </style>\n",
              "\n",
              "      <script>\n",
              "        const buttonEl =\n",
              "          document.querySelector('#df-deeb4583-1282-4ffd-8136-782ffadd0c63 button.colab-df-convert');\n",
              "        buttonEl.style.display =\n",
              "          google.colab.kernel.accessAllowed ? 'block' : 'none';\n",
              "\n",
              "        async function convertToInteractive(key) {\n",
              "          const element = document.querySelector('#df-deeb4583-1282-4ffd-8136-782ffadd0c63');\n",
              "          const dataTable =\n",
              "            await google.colab.kernel.invokeFunction('convertToInteractive',\n",
              "                                                     [key], {});\n",
              "          if (!dataTable) return;\n",
              "\n",
              "          const docLinkHtml = 'Like what you see? Visit the ' +\n",
              "            '<a target=\"_blank\" href=https://colab.research.google.com/notebooks/data_table.ipynb>data table notebook</a>'\n",
              "            + ' to learn more about interactive tables.';\n",
              "          element.innerHTML = '';\n",
              "          dataTable['output_type'] = 'display_data';\n",
              "          await google.colab.output.renderOutput(dataTable, element);\n",
              "          const docLink = document.createElement('div');\n",
              "          docLink.innerHTML = docLinkHtml;\n",
              "          element.appendChild(docLink);\n",
              "        }\n",
              "      </script>\n",
              "    </div>\n",
              "  </div>\n",
              "  "
            ],
            "text/plain": [
              "                                job_id  \\\n",
              "28909  jobs-tenethealth-com-2205003628   \n",
              "\n",
              "                                             description  \\\n",
              "28909  <div class=\"ats-description\"><p style=\"font-fa...   \n",
              "\n",
              "                           job_title employment_type     shift  \\\n",
              "28909  Phlebotomist - El Paso, Texas        Per Diem  Flexible   \n",
              "\n",
              "                       discipline     specialty  \\\n",
              "28909  Allied Health Professional  Phlebotomist   \n",
              "\n",
              "                                  title_plus_description  \n",
              "28909  title: Phlebotomist - El Paso, Texas\\n        ...  "
            ]
          },
          "execution_count": 13,
          "metadata": {},
          "output_type": "execute_result"
        }
      ],
      "source": [
        "check_instance = 100\n",
        "\n",
        "print(f\"Label for job_id {tokenized_dataset_shift['train'][100]['job_id']}: {tokenized_dataset_shift['train'][100]['label']}\")\n",
        "\n",
        "job_descriptions.query(f\"\"\"job_id == \"{tokenized_dataset_shift['train'][100]['job_id']}\" \"\"\")"
      ]
    },
    {
      "cell_type": "code",
      "execution_count": null,
      "metadata": {
        "colab": {
          "base_uri": "https://localhost:8080/"
        },
        "id": "fpkIWZ0A0ILn",
        "outputId": "27add7be-7674-47ca-da44-ba69d44f0c07"
      },
      "outputs": [
        {
          "data": {
            "text/plain": [
              "DatasetDict({\n",
              "    train: Dataset({\n",
              "        features: ['text', 'label', 'job_id', 'input_ids', 'token_type_ids', 'attention_mask', 'token_count', 'is_max_count'],\n",
              "        num_rows: 28464\n",
              "    })\n",
              "    test: Dataset({\n",
              "        features: ['text', 'label', 'job_id', 'input_ids', 'token_type_ids', 'attention_mask', 'token_count', 'is_max_count'],\n",
              "        num_rows: 7116\n",
              "    })\n",
              "})"
            ]
          },
          "execution_count": 14,
          "metadata": {},
          "output_type": "execute_result"
        }
      ],
      "source": [
        "tokenized_dataset_shift"
      ]
    },
    {
      "cell_type": "code",
      "execution_count": null,
      "metadata": {
        "colab": {
          "base_uri": "https://localhost:8080/"
        },
        "id": "ceLOhrrd0QDV",
        "outputId": "f17cd3ba-28bf-4b08-f53a-6b6b59101b01"
      },
      "outputs": [
        {
          "data": {
            "text/plain": [
              "512"
            ]
          },
          "execution_count": 15,
          "metadata": {},
          "output_type": "execute_result"
        }
      ],
      "source": [
        "# Tokens cap out at 512\n",
        "np.max(tokenized_dataset_shift['test']['token_count'])"
      ]
    },
    {
      "cell_type": "code",
      "execution_count": null,
      "metadata": {
        "colab": {
          "base_uri": "https://localhost:8080/"
        },
        "id": "YrKduh2W0BBd",
        "outputId": "09c70e9d-94ef-47dd-9e2d-c3380af10b20"
      },
      "outputs": [
        {
          "data": {
            "text/plain": [
              "0.5952782462057336"
            ]
          },
          "execution_count": 16,
          "metadata": {},
          "output_type": "execute_result"
        }
      ],
      "source": [
        "# Truncating in majority of cases. Let's see how well we can do but this will be an issue to take seriously.\n",
        "np.mean(tokenized_dataset_shift['test']['is_max_count'])"
      ]
    },
    {
      "cell_type": "code",
      "execution_count": null,
      "metadata": {
        "colab": {
          "base_uri": "https://localhost:8080/"
        },
        "id": "aZCi5HJb0QtP",
        "outputId": "f85c4e0e-a1ab-4ff4-9fd1-04ece988a81e"
      },
      "outputs": [
        {
          "data": {
            "text/plain": [
              "0.5851953344575604"
            ]
          },
          "execution_count": 17,
          "metadata": {},
          "output_type": "execute_result"
        }
      ],
      "source": [
        "np.mean(tokenized_dataset_shift['train']['is_max_count'])"
      ]
    },
    {
      "cell_type": "code",
      "execution_count": null,
      "metadata": {
        "colab": {
          "base_uri": "https://localhost:8080/",
          "height": 283
        },
        "id": "R-TvB1-wzvNH",
        "outputId": "85dec35f-a709-4201-c995-75648915c6e9"
      },
      "outputs": [
        {
          "data": {
            "text/plain": [
              "<matplotlib.axes._subplots.AxesSubplot at 0x7fc2e745d850>"
            ]
          },
          "execution_count": 18,
          "metadata": {},
          "output_type": "execute_result"
        },
        {
          "data": {
            "image/png": "[encoded data removed]",
            "text/plain": [
              "<Figure size 432x288 with 1 Axes>"
            ]
          },
          "metadata": {},
          "output_type": "display_data"
        }
      ],
      "source": [
        "\n",
        "import seaborn as sn\n",
        "sn.histplot(tokenized_dataset_shift['test']['token_count'])"
      ]
    },
    {
      "cell_type": "code",
      "execution_count": null,
      "metadata": {
        "colab": {
          "base_uri": "https://localhost:8080/",
          "height": 145,
          "referenced_widgets": [
            "88ba726ffd2f4ed0af8d51934a02ece3",
            "95624c14d3aa41a2a2a0c84d0f75a3e4",
            "6eaa597faf3246c8be02a2d574bd0bac",
            "fbb9eace1cab49c7a1c9a57d2d77150b",
            "22d2a9e67f0c413f93b9d131a6ff7bca",
            "29bea068c9b240ee848087e689398739",
            "82681b7b2103404db81e35f8bd511e96",
            "2b85e880ddcb4c52993f444d8c10af57",
            "7fa1055046444d35b128fe37accf10d9",
            "616ab9971dce40bf8bfea4588471f220",
            "df0c64a8e65d4e31ad64d0b3e0ffceb0",
            "dbea66ac334743eba3a85595e5c3ac9e",
            "fb43e1a7280f4297bb48f7028efb555d",
            "b1d225ab4a8641a59d3a5490226ab706",
            "71089253586c4658a5183e0583c2c9fc",
            "890814f059c1466a84514caf3e40bd59",
            "94dc39a9a21d4092a2478194c23750a7",
            "fd659d2dbbc043f7ac5fc713abfbe4ad",
            "58785c55fe0a4740898c89c50ecfb503",
            "464517538c5c4e44999ce91af2f5441d",
            "138fcfd302a844afae7feb5e0a704688",
            "9c6321f62ceb4e74aa5082e56ca021f4",
            "fd14588d1fe54a44afb7adc642bb9ec5",
            "456fed0d0c6f457a9efe000035d957d1",
            "f75f905bac464b4ca7f4ad9d90b0e3bf",
            "1ce649c1b3e44f1f86b7efcdde33bcf5",
            "227d6e9bb3534ae6941a31f7a4bf23d8",
            "df99fc479f614379b4f937ed7cd5a2cd",
            "120ef7ce1f9f4d6baf8b3cb4001643ba",
            "17a70ba73102426d85d10f9aa700770a",
            "352794ed9489420983afe7edc9c88ef9",
            "eda116cdcc4f4de98fc877aea38782e1",
            "e3b85a45c68a4f2e99e48b0d0c48de66",
            "237f9c1b78144a4bbe2b7ea2b564406f",
            "014c9957de9b4520bbeb99d5b04bb699",
            "90eb6f60a7d3415aaf4a32a122b64ec1",
            "4f50c223c6c04b31a9349f5ae06eb80f",
            "27e5bd55b93140aab03ba3d2e921b329",
            "ffdbe3d1891349f49d794dbdac6191cb",
            "55037d51910e4ad18e8c7588d4386216",
            "833f6b0182174078b217459baa1110b2",
            "c138771cb40f44c1aa5f2ca7eeea2469",
            "5dda1685ce75481c998b571d708a422b",
            "46b59758bb25433884f58fdbdc15af98"
          ]
        },
        "id": "a9kHUnRZvQvC",
        "outputId": "db1fc649-ff38-4332-e50c-ba95b8e3e077"
      },
      "outputs": [
        {
          "data": {
            "application/vnd.jupyter.widget-view+json": {
              "model_id": "88ba726ffd2f4ed0af8d51934a02ece3",
              "version_major": 2,
              "version_minor": 0
            },
            "text/plain": [
              "Casting to class labels:   0%|          | 0/12 [00:00<?, ?ba/s]"
            ]
          },
          "metadata": {},
          "output_type": "display_data"
        },
        {
          "data": {
            "application/vnd.jupyter.widget-view+json": {
              "model_id": "dbea66ac334743eba3a85595e5c3ac9e",
              "version_major": 2,
              "version_minor": 0
            },
            "text/plain": [
              "Casting the dataset:   0%|          | 0/2 [00:00<?, ?ba/s]"
            ]
          },
          "metadata": {},
          "output_type": "display_data"
        },
        {
          "data": {
            "application/vnd.jupyter.widget-view+json": {
              "model_id": "fd14588d1fe54a44afb7adc642bb9ec5",
              "version_major": 2,
              "version_minor": 0
            },
            "text/plain": [
              "Casting to class labels:   0%|          | 0/3 [00:00<?, ?ba/s]"
            ]
          },
          "metadata": {},
          "output_type": "display_data"
        },
        {
          "data": {
            "application/vnd.jupyter.widget-view+json": {
              "model_id": "237f9c1b78144a4bbe2b7ea2b564406f",
              "version_major": 2,
              "version_minor": 0
            },
            "text/plain": [
              "Casting the dataset:   0%|          | 0/1 [00:00<?, ?ba/s]"
            ]
          },
          "metadata": {},
          "output_type": "display_data"
        }
      ],
      "source": [
        "\n",
        "# Removing the overly long ones (so as to see how big of a problem this is)\n",
        "\n",
        "untruncated_train_df = tokenized_dataset_shift['train']\\\n",
        "  .to_pandas()\\\n",
        "  .query('not is_max_count')\n",
        "\n",
        "train_dataset = datasets.Dataset.from_pandas(untruncated_train_df)\n",
        "train_dataset = train_dataset.class_encode_column('label')\n",
        "\n",
        "\n",
        "untruncated_test_df = tokenized_dataset_shift['test']\\\n",
        "  .to_pandas()\\\n",
        "  .query('not is_max_count')\n",
        "\n",
        "test_dataset = datasets.Dataset.from_pandas(untruncated_test_df)\n",
        "test_dataset = test_dataset.class_encode_column('label')\n"
      ]
    },
    {
      "cell_type": "code",
      "execution_count": null,
      "metadata": {
        "colab": {
          "base_uri": "https://localhost:8080/"
        },
        "id": "89AkD4vd1hJ3",
        "outputId": "430e3acb-be86-4028-9236-e4fae3b8fea1"
      },
      "outputs": [
        {
          "data": {
            "text/plain": [
              "{'__index_level_0__': Value(dtype='int64', id=None),\n",
              " 'attention_mask': Sequence(feature=Value(dtype='int8', id=None), length=-1, id=None),\n",
              " 'input_ids': Sequence(feature=Value(dtype='int32', id=None), length=-1, id=None),\n",
              " 'is_max_count': Value(dtype='bool', id=None),\n",
              " 'job_id': Value(dtype='string', id=None),\n",
              " 'label': ClassLabel(num_classes=5, names=['Days', 'Evenings', 'Flexible', 'Nights', 'Not Listed'], id=None),\n",
              " 'text': Value(dtype='string', id=None),\n",
              " 'token_count': Value(dtype='int64', id=None),\n",
              " 'token_type_ids': Sequence(feature=Value(dtype='int8', id=None), length=-1, id=None)}"
            ]
          },
          "execution_count": 20,
          "metadata": {},
          "output_type": "execute_result"
        }
      ],
      "source": [
        "train_dataset.features\n"
      ]
    },
    {
      "cell_type": "code",
      "execution_count": null,
      "metadata": {
        "id": "-mmcyjjqYO5t"
      },
      "outputs": [],
      "source": [
        "# To debug on small data\n",
        "\n",
        "#small_train_dataset = tokenized_dataset_shift[\"train\"].shuffle(seed=42).select(range(1000))\n",
        "#small_eval_dataset = tokenized_dataset_shift[\"test\"].shuffle(seed=42).select(range(1000))\n"
      ]
    },
    {
      "cell_type": "code",
      "execution_count": null,
      "metadata": {
        "id": "hgVyMiTfzG9N"
      },
      "outputs": [],
      "source": [
        "id2label_shifts = {i: name for i, name in enumerate(train_dataset.features['label'].names)}\n",
        "label2id_shifts = {name: i for i, name in enumerate(train_dataset.features['label'].names)}"
      ]
    },
    {
      "cell_type": "markdown",
      "metadata": {
        "id": "vqnjInhZzHrr"
      },
      "source": [
        "# Build the training pipeline"
      ]
    },
    {
      "cell_type": "code",
      "execution_count": null,
      "metadata": {
        "colab": {
          "base_uri": "https://localhost:8080/"
        },
        "id": "y73jrDUl1FQc",
        "outputId": "536529be-2034-42dc-94af-cef66d3d91a4"
      },
      "outputs": [
        {
          "data": {
            "text/plain": [
              "5"
            ]
          },
          "execution_count": 131,
          "metadata": {},
          "output_type": "execute_result"
        }
      ],
      "source": [
        "\n",
        "len(set(tokenized_dataset_shift['test']['label']))"
      ]
    },
    {
      "cell_type": "code",
      "execution_count": null,
      "metadata": {
        "colab": {
          "base_uri": "https://localhost:8080/",
          "height": 158,
          "referenced_widgets": [
            "6668dec519c142ed9ccd72b96fe63694",
            "c9d5555b53184549886d41a0e0b88023",
            "3a80d6bbc4c7470bbbddb819f97f0e65",
            "8a2a47b0ca4c49b9b9ac41367c81d881",
            "1b2f749d80974901be0e10a5d33676a5",
            "437ed62710e7471cb80b76a035f8bf37",
            "4571e2909b1944e4809440f4b37f0261",
            "f8ac7b87a3a240288bee07e34d7c356b",
            "48c26692c9f040a899f443956499a5e5",
            "21610057cfb040a5b34c5785dd9e70e5",
            "cfc0f456df744420a722d8d51be729ef"
          ]
        },
        "id": "Y5Q-pG5JXyWy",
        "outputId": "657fe5c5-8315-41b8-d56b-6ae2cd385338"
      },
      "outputs": [
        {
          "data": {
            "application/vnd.jupyter.widget-view+json": {
              "model_id": "6668dec519c142ed9ccd72b96fe63694",
              "version_major": 2,
              "version_minor": 0
            },
            "text/plain": [
              "Downloading pytorch_model.bin:   0%|          | 0.00/416M [00:00<?, ?B/s]"
            ]
          },
          "metadata": {},
          "output_type": "display_data"
        },
        {
          "name": "stderr",
          "output_type": "stream",
          "text": [
            "Some weights of the model checkpoint at bert-base-cased were not used when initializing BertForSequenceClassification: ['cls.predictions.transform.LayerNorm.bias', 'cls.seq_relationship.weight', 'cls.predictions.transform.dense.weight', 'cls.predictions.bias', 'cls.seq_relationship.bias', 'cls.predictions.transform.dense.bias', 'cls.predictions.decoder.weight', 'cls.predictions.transform.LayerNorm.weight']\n",
            "- This IS expected if you are initializing BertForSequenceClassification from the checkpoint of a model trained on another task or with another architecture (e.g. initializing a BertForSequenceClassification model from a BertForPreTraining model).\n",
            "- This IS NOT expected if you are initializing BertForSequenceClassification from the checkpoint of a model that you expect to be exactly identical (initializing a BertForSequenceClassification model from a BertForSequenceClassification model).\n",
            "Some weights of BertForSequenceClassification were not initialized from the model checkpoint at bert-base-cased and are newly initialized: ['classifier.bias', 'classifier.weight']\n",
            "You should probably TRAIN this model on a down-stream task to be able to use it for predictions and inference.\n"
          ]
        }
      ],
      "source": [
        "from transformers import AutoModelForSequenceClassification\n",
        "\n",
        "# TODO would be convenient to save this with id2label and label2id\n",
        "model_shifts = AutoModelForSequenceClassification\\\n",
        "  .from_pretrained(\"bert-base-cased\",\n",
        "                    num_labels=len(set(tokenized_dataset_shift['test']['label'])),\n",
        "                    id2label=id2label_shifts,\n",
        "                    label2id=label2id_shifts)\\\n",
        "  .to(device)"
      ]
    },
    {
      "cell_type": "code",
      "execution_count": null,
      "metadata": {
        "id": "2MntBBWuYVce"
      },
      "outputs": [],
      "source": [
        "from transformers import TrainingArguments\n",
        "\n",
        "training_args = TrainingArguments(output_dir=transformer_dir)\n"
      ]
    },
    {
      "cell_type": "code",
      "execution_count": null,
      "metadata": {
        "id": "ekBTQWScvh5u"
      },
      "outputs": [],
      "source": [
        "import numpy as np\n",
        "from datasets import load_metric\n",
        "\n",
        "metric = load_metric(\"accuracy\")\n",
        "\n",
        "def compute_metrics(eval_pred):\n",
        "    logits, labels = eval_pred\n",
        "    predictions = np.argmax(logits, axis=-1)\n",
        "    return metric.compute(predictions=predictions, references=labels)\n",
        "\n"
      ]
    },
    {
      "cell_type": "code",
      "execution_count": null,
      "metadata": {
        "id": "EmEhOJvvvtXu"
      },
      "outputs": [],
      "source": [
        "from transformers import TrainingArguments, Trainer\n",
        "\n",
        "training_args = TrainingArguments(output_dir=transformer_dir, evaluation_strategy=\"epoch\")\n",
        "\n",
        "\n",
        "trainer_shifts = Trainer(\n",
        "    model=model_shifts,\n",
        "    args=training_args,\n",
        "    train_dataset=train_dataset,\n",
        "    eval_dataset=test_dataset,\n",
        "    compute_metrics=compute_metrics,\n",
        ")\n"
      ]
    },
    {
      "cell_type": "code",
      "execution_count": null,
      "metadata": {
        "colab": {
          "background_save": true,
          "base_uri": "https://localhost:8080/",
          "height": 627
        },
        "id": "jaM4W9Htv-st",
        "outputId": "c17f42b9-e7fc-4699-a240-8a1711ae8915"
      },
      "outputs": [
        {
          "name": "stderr",
          "output_type": "stream",
          "text": [
            "The following columns in the training set don't have a corresponding argument in `BertForSequenceClassification.forward` and have been ignored: token_count, text, __index_level_0__, job_id, is_max_count. If token_count, text, __index_level_0__, job_id, is_max_count are not expected by `BertForSequenceClassification.forward`,  you can safely ignore this message.\n",
            "/usr/local/lib/python3.7/dist-packages/transformers/optimization.py:310: FutureWarning: This implementation of AdamW is deprecated and will be removed in a future version. Use the PyTorch implementation torch.optim.AdamW instead, or set `no_deprecation_warning=True` to disable this warning\n",
            "  FutureWarning,\n",
            "***** Running training *****\n",
            "  Num examples = 11807\n",
            "  Num Epochs = 3\n",
            "  Instantaneous batch size per device = 8\n",
            "  Total train batch size (w. parallel, distributed & accumulation) = 8\n",
            "  Gradient Accumulation steps = 1\n",
            "  Total optimization steps = 4428\n"
          ]
        },
        {
          "data": {
            "text/html": [
              "\n",
              "    <div>\n",
              "      \n",
              "      <progress value='4428' max='4428' style='width:300px; height:20px; vertical-align: middle;'></progress>\n",
              "      [4428/4428 40:00, Epoch 3/3]\n",
              "    </div>\n",
              "    <table border=\"1\" class=\"dataframe\">\n",
              "  <thead>\n",
              " <tr style=\"text-align: left;\">\n",
              "      <th>Epoch</th>\n",
              "      <th>Training Loss</th>\n",
              "      <th>Validation Loss</th>\n",
              "      <th>Accuracy</th>\n",
              "    </tr>\n",
              "  </thead>\n",
              "  <tbody>\n",
              "    <tr>\n",
              "      <td>1</td>\n",
              "      <td>0.712000</td>\n",
              "      <td>0.597207</td>\n",
              "      <td>0.778472</td>\n",
              "    </tr>\n",
              "    <tr>\n",
              "      <td>2</td>\n",
              "      <td>0.555900</td>\n",
              "      <td>0.539130</td>\n",
              "      <td>0.800347</td>\n",
              "    </tr>\n",
              "    <tr>\n",
              "      <td>3</td>\n",
              "      <td>0.457200</td>\n",
              "      <td>0.554362</td>\n",
              "      <td>0.811111</td>\n",
              "    </tr>\n",
              "  </tbody>\n",
              "</table><p>"
            ],
            "text/plain": [
              "<IPython.core.display.HTML object>"
            ]
          },
          "metadata": {},
          "output_type": "display_data"
        },
        {
          "name": "stderr",
          "output_type": "stream",
          "text": [
            "Saving model checkpoint to /content/drive/MyDrive/Vivian Project/Transformer Fine Tuning/checkpoint-500\n",
            "Configuration saved in /content/drive/MyDrive/Vivian Project/Transformer Fine Tuning/checkpoint-500/config.json\n",
            "Model weights saved in /content/drive/MyDrive/Vivian Project/Transformer Fine Tuning/checkpoint-500/pytorch_model.bin\n",
            "Saving model checkpoint to /content/drive/MyDrive/Vivian Project/Transformer Fine Tuning/checkpoint-1000\n",
            "Configuration saved in /content/drive/MyDrive/Vivian Project/Transformer Fine Tuning/checkpoint-1000/config.json\n",
            "Model weights saved in /content/drive/MyDrive/Vivian Project/Transformer Fine Tuning/checkpoint-1000/pytorch_model.bin\n",
            "The following columns in the evaluation set don't have a corresponding argument in `BertForSequenceClassification.forward` and have been ignored: token_count, text, __index_level_0__, job_id, is_max_count. If token_count, text, __index_level_0__, job_id, is_max_count are not expected by `BertForSequenceClassification.forward`,  you can safely ignore this message.\n",
            "***** Running Evaluation *****\n",
            "  Num examples = 2880\n",
            "  Batch size = 8\n",
            "Saving model checkpoint to /content/drive/MyDrive/Vivian Project/Transformer Fine Tuning/checkpoint-1500\n",
            "Configuration saved in /content/drive/MyDrive/Vivian Project/Transformer Fine Tuning/checkpoint-1500/config.json\n",
            "Model weights saved in /content/drive/MyDrive/Vivian Project/Transformer Fine Tuning/checkpoint-1500/pytorch_model.bin\n",
            "Saving model checkpoint to /content/drive/MyDrive/Vivian Project/Transformer Fine Tuning/checkpoint-2000\n",
            "Configuration saved in /content/drive/MyDrive/Vivian Project/Transformer Fine Tuning/checkpoint-2000/config.json\n",
            "Model weights saved in /content/drive/MyDrive/Vivian Project/Transformer Fine Tuning/checkpoint-2000/pytorch_model.bin\n",
            "Saving model checkpoint to /content/drive/MyDrive/Vivian Project/Transformer Fine Tuning/checkpoint-2500\n",
            "Configuration saved in /content/drive/MyDrive/Vivian Project/Transformer Fine Tuning/checkpoint-2500/config.json\n",
            "Model weights saved in /content/drive/MyDrive/Vivian Project/Transformer Fine Tuning/checkpoint-2500/pytorch_model.bin\n",
            "The following columns in the evaluation set don't have a corresponding argument in `BertForSequenceClassification.forward` and have been ignored: token_count, text, __index_level_0__, job_id, is_max_count. If token_count, text, __index_level_0__, job_id, is_max_count are not expected by `BertForSequenceClassification.forward`,  you can safely ignore this message.\n",
            "***** Running Evaluation *****\n",
            "  Num examples = 2880\n",
            "  Batch size = 8\n",
            "Saving model checkpoint to /content/drive/MyDrive/Vivian Project/Transformer Fine Tuning/checkpoint-3000\n",
            "Configuration saved in /content/drive/MyDrive/Vivian Project/Transformer Fine Tuning/checkpoint-3000/config.json\n",
            "Model weights saved in /content/drive/MyDrive/Vivian Project/Transformer Fine Tuning/checkpoint-3000/pytorch_model.bin\n",
            "Saving model checkpoint to /content/drive/MyDrive/Vivian Project/Transformer Fine Tuning/checkpoint-3500\n",
            "Configuration saved in /content/drive/MyDrive/Vivian Project/Transformer Fine Tuning/checkpoint-3500/config.json\n",
            "Model weights saved in /content/drive/MyDrive/Vivian Project/Transformer Fine Tuning/checkpoint-3500/pytorch_model.bin\n",
            "Saving model checkpoint to /content/drive/MyDrive/Vivian Project/Transformer Fine Tuning/checkpoint-4000\n",
            "Configuration saved in /content/drive/MyDrive/Vivian Project/Transformer Fine Tuning/checkpoint-4000/config.json\n",
            "Model weights saved in /content/drive/MyDrive/Vivian Project/Transformer Fine Tuning/checkpoint-4000/pytorch_model.bin\n",
            "The following columns in the evaluation set don't have a corresponding argument in `BertForSequenceClassification.forward` and have been ignored: token_count, text, __index_level_0__, job_id, is_max_count. If token_count, text, __index_level_0__, job_id, is_max_count are not expected by `BertForSequenceClassification.forward`,  you can safely ignore this message.\n",
            "***** Running Evaluation *****\n",
            "  Num examples = 2880\n",
            "  Batch size = 8\n",
            "\n",
            "\n",
            "Training completed. Do not forget to share your model on huggingface.co/models =)\n",
            "\n",
            "\n"
          ]
        },
        {
          "data": {
            "text/plain": [
              "TrainOutput(global_step=4428, training_loss=0.6047232988834812, metrics={'train_runtime': 2404.6638, 'train_samples_per_second': 14.73, 'train_steps_per_second': 1.841, 'total_flos': 9319907724217344.0, 'train_loss': 0.6047232988834812, 'epoch': 3.0})"
            ]
          },
          "execution_count": 40,
          "metadata": {},
          "output_type": "execute_result"
        }
      ],
      "source": [
        "trainer_shifts.train()\n"
      ]
    },
    {
      "cell_type": "code",
      "execution_count": null,
      "metadata": {
        "id": "wNC6cOXLZofy"
      },
      "outputs": [],
      "source": [
        ""
      ]
    },
    {
      "cell_type": "markdown",
      "metadata": {
        "id": "RbWJAM4HZpOO"
      },
      "source": [
        "## Loading saved model"
      ]
    },
    {
      "cell_type": "code",
      "execution_count": null,
      "metadata": {
        "id": "Fb5RaOkdfc8e"
      },
      "outputs": [],
      "source": [
        "model_file_to_load = '/content/drive/MyDrive/Vivian Project/Transformer Fine Tuning/checkpoint-4000'"
      ]
    },
    {
      "cell_type": "code",
      "execution_count": null,
      "metadata": {
        "colab": {
          "base_uri": "https://localhost:8080/"
        },
        "id": "kgBvtA6KjEZY",
        "outputId": "e1a87a91-d374-404e-e8eb-b2b49478a26b"
      },
      "outputs": [
        {
          "output_type": "execute_result",
          "data": {
            "text/plain": [
              "{'_name_or_path': 'bert-base-cased',\n",
              " 'architectures': ['BertForSequenceClassification'],\n",
              " 'attention_probs_dropout_prob': 0.1,\n",
              " 'classifier_dropout': None,\n",
              " 'gradient_checkpointing': False,\n",
              " 'hidden_act': 'gelu',\n",
              " 'hidden_dropout_prob': 0.1,\n",
              " 'hidden_size': 768,\n",
              " 'id2label': {'0': 'Days',\n",
              "  '1': 'Evenings',\n",
              "  '2': 'Flexible',\n",
              "  '3': 'Nights',\n",
              "  '4': 'Not Listed'},\n",
              " 'initializer_range': 0.02,\n",
              " 'intermediate_size': 3072,\n",
              " 'label2id': {'Days': 0,\n",
              "  'Evenings': 1,\n",
              "  'Flexible': 2,\n",
              "  'Nights': 3,\n",
              "  'Not Listed': 4},\n",
              " 'layer_norm_eps': 1e-12,\n",
              " 'max_position_embeddings': 512,\n",
              " 'model_type': 'bert',\n",
              " 'num_attention_heads': 12,\n",
              " 'num_hidden_layers': 12,\n",
              " 'pad_token_id': 0,\n",
              " 'position_embedding_type': 'absolute',\n",
              " 'problem_type': 'single_label_classification',\n",
              " 'torch_dtype': 'float32',\n",
              " 'transformers_version': '4.21.0',\n",
              " 'type_vocab_size': 2,\n",
              " 'use_cache': True,\n",
              " 'vocab_size': 28996}"
            ]
          },
          "metadata": {},
          "execution_count": 51
        }
      ],
      "source": [
        "import json\n",
        "\n",
        "with open(f'{model_file_to_load}/config.json', 'r') as config_handle:\n",
        "  fitted_model_config = json.load(config_handle)\n",
        "\n",
        "fitted_model_config"
      ]
    },
    {
      "cell_type": "code",
      "execution_count": null,
      "metadata": {
        "id": "PMMVIUJfYTPN",
        "colab": {
          "base_uri": "https://localhost:8080/"
        },
        "outputId": "0279abca-25e7-495f-e928-38815b91dd09"
      },
      "outputs": [
        {
          "output_type": "stream",
          "name": "stderr",
          "text": [
            "loading configuration file /content/drive/MyDrive/Vivian Project/Transformer Fine Tuning/checkpoint-4000/config.json\n",
            "Model config BertConfig {\n",
            "  \"_name_or_path\": \"/content/drive/MyDrive/Vivian Project/Transformer Fine Tuning/checkpoint-4000\",\n",
            "  \"architectures\": [\n",
            "    \"BertForSequenceClassification\"\n",
            "  ],\n",
            "  \"attention_probs_dropout_prob\": 0.1,\n",
            "  \"classifier_dropout\": null,\n",
            "  \"gradient_checkpointing\": false,\n",
            "  \"hidden_act\": \"gelu\",\n",
            "  \"hidden_dropout_prob\": 0.1,\n",
            "  \"hidden_size\": 768,\n",
            "  \"id2label\": {\n",
            "    \"0\": \"Days\",\n",
            "    \"1\": \"Evenings\",\n",
            "    \"2\": \"Flexible\",\n",
            "    \"3\": \"Nights\",\n",
            "    \"4\": \"Not Listed\"\n",
            "  },\n",
            "  \"initializer_range\": 0.02,\n",
            "  \"intermediate_size\": 3072,\n",
            "  \"label2id\": {\n",
            "    \"Days\": 0,\n",
            "    \"Evenings\": 1,\n",
            "    \"Flexible\": 2,\n",
            "    \"Nights\": 3,\n",
            "    \"Not Listed\": 4\n",
            "  },\n",
            "  \"layer_norm_eps\": 1e-12,\n",
            "  \"max_position_embeddings\": 512,\n",
            "  \"model_type\": \"bert\",\n",
            "  \"num_attention_heads\": 12,\n",
            "  \"num_hidden_layers\": 12,\n",
            "  \"pad_token_id\": 0,\n",
            "  \"position_embedding_type\": \"absolute\",\n",
            "  \"problem_type\": \"single_label_classification\",\n",
            "  \"torch_dtype\": \"float32\",\n",
            "  \"transformers_version\": \"4.21.0\",\n",
            "  \"type_vocab_size\": 2,\n",
            "  \"use_cache\": true,\n",
            "  \"vocab_size\": 28996\n",
            "}\n",
            "\n",
            "loading weights file /content/drive/MyDrive/Vivian Project/Transformer Fine Tuning/checkpoint-4000/pytorch_model.bin\n",
            "All model checkpoint weights were used when initializing BertForSequenceClassification.\n",
            "\n",
            "All the weights of BertForSequenceClassification were initialized from the model checkpoint at /content/drive/MyDrive/Vivian Project/Transformer Fine Tuning/checkpoint-4000.\n",
            "If your task is similar to the task the model of the checkpoint was trained on, you can already use BertForSequenceClassification for predictions without further training.\n"
          ]
        }
      ],
      "source": [
        "\n",
        "from transformers import AutoModelForSequenceClassification\n",
        "model_shifts = AutoModelForSequenceClassification\\\n",
        "  .from_pretrained(model_file_to_load)\n",
        "\n"
      ]
    },
    {
      "cell_type": "code",
      "execution_count": null,
      "metadata": {
        "id": "W07WfqH6FPOi"
      },
      "outputs": [],
      "source": [
        "from transformers import pipeline\n",
        "categorizer_shifts = pipeline(task=\"text-classification\", model=model_shifts, tokenizer=tokenizer, top_k=5)\n"
      ]
    },
    {
      "cell_type": "code",
      "execution_count": null,
      "metadata": {
        "colab": {
          "base_uri": "https://localhost:8080/"
        },
        "id": "5VDo7RevjV8y",
        "outputId": "1ca292c7-b9b7-4fb6-ad8a-487c6c92e824"
      },
      "outputs": [
        {
          "output_type": "execute_result",
          "data": {
            "text/plain": [
              "[[{'label': 'Nights', 'score': 0.9043019413948059},\n",
              "  {'label': 'Evenings', 'score': 0.02984244003891945},\n",
              "  {'label': 'Flexible', 'score': 0.027795588597655296},\n",
              "  {'label': 'Days', 'score': 0.02425479143857956},\n",
              "  {'label': 'Not Listed', 'score': 0.013805285096168518}]]"
            ]
          },
          "metadata": {},
          "execution_count": 55
        }
      ],
      "source": [
        "categorizer_shifts('the night shift')"
      ]
    },
    {
      "cell_type": "code",
      "execution_count": null,
      "metadata": {
        "colab": {
          "base_uri": "https://localhost:8080/"
        },
        "id": "Ykb8DNi4kS36",
        "outputId": "34ca49a4-6539-4415-e634-9354ede77cab"
      },
      "outputs": [
        {
          "output_type": "execute_result",
          "data": {
            "text/plain": [
              "[[{'label': 'Not Listed', 'score': 0.7097378969192505},\n",
              "  {'label': 'Flexible', 'score': 0.20158188045024872},\n",
              "  {'label': 'Days', 'score': 0.061259422451257706},\n",
              "  {'label': 'Nights', 'score': 0.017062347382307053},\n",
              "  {'label': 'Evenings', 'score': 0.01035845372825861}]]"
            ]
          },
          "metadata": {},
          "execution_count": 57
        }
      ],
      "source": [
        "\n",
        "categorizer_shifts('irrelevant text')"
      ]
    },
    {
      "cell_type": "code",
      "execution_count": null,
      "metadata": {
        "colab": {
          "base_uri": "https://localhost:8080/"
        },
        "id": "KEfbnibjkPZE",
        "outputId": "090ab9b2-df12-4405-dba8-e597770b73c7"
      },
      "outputs": [
        {
          "output_type": "execute_result",
          "data": {
            "text/plain": [
              "[[{'label': 'Nights', 'score': 0.9043019413948059},\n",
              "  {'label': 'Evenings', 'score': 0.02984244003891945},\n",
              "  {'label': 'Flexible', 'score': 0.027795588597655296},\n",
              "  {'label': 'Days', 'score': 0.02425479143857956},\n",
              "  {'label': 'Not Listed', 'score': 0.013805285096168518}]]"
            ]
          },
          "metadata": {},
          "execution_count": 58
        }
      ],
      "source": [
        "\n",
        "categorizer_shifts('the night shift')"
      ]
    },
    {
      "cell_type": "code",
      "execution_count": null,
      "metadata": {
        "colab": {
          "base_uri": "https://localhost:8080/"
        },
        "id": "Al0_NrrbkVE-",
        "outputId": "21d583a6-938b-4f65-96df-1405e9090986"
      },
      "outputs": [
        {
          "output_type": "execute_result",
          "data": {
            "text/plain": [
              "[[{'label': 'Flexible', 'score': 0.5746778249740601},\n",
              "  {'label': 'Not Listed', 'score': 0.34680166840553284},\n",
              "  {'label': 'Days', 'score': 0.046153392642736435},\n",
              "  {'label': 'Nights', 'score': 0.02256045863032341},\n",
              "  {'label': 'Evenings', 'score': 0.009806608781218529}]]"
            ]
          },
          "metadata": {},
          "execution_count": 59
        }
      ],
      "source": [
        "categorizer_shifts('this job has flexible hours')"
      ]
    },
    {
      "cell_type": "code",
      "execution_count": null,
      "metadata": {
        "colab": {
          "base_uri": "https://localhost:8080/"
        },
        "id": "00MeHP7MkYVM",
        "outputId": "42e9ad92-bcc1-4bd4-e5c9-4762f52b760a"
      },
      "outputs": [
        {
          "output_type": "execute_result",
          "data": {
            "text/plain": [
              "[[{'label': 'Days', 'score': 0.9595456123352051},\n",
              "  {'label': 'Flexible', 'score': 0.021559523418545723},\n",
              "  {'label': 'Not Listed', 'score': 0.01048885378986597},\n",
              "  {'label': 'Nights', 'score': 0.006044239737093449},\n",
              "  {'label': 'Evenings', 'score': 0.002361886901780963}]]"
            ]
          },
          "metadata": {},
          "execution_count": 60
        }
      ],
      "source": [
        "categorizer_shifts('Work is in the day time')"
      ]
    },
    {
      "cell_type": "code",
      "execution_count": null,
      "metadata": {
        "colab": {
          "base_uri": "https://localhost:8080/"
        },
        "id": "7JTsFR6Ykh7q",
        "outputId": "9a4d5ef1-5135-43ff-a040-80ef4b4247a1"
      },
      "outputs": [
        {
          "output_type": "execute_result",
          "data": {
            "text/plain": [
              "[[{'label': 'Evenings', 'score': 0.9722661972045898},\n",
              "  {'label': 'Days', 'score': 0.011288217268884182},\n",
              "  {'label': 'Flexible', 'score': 0.008173220790922642},\n",
              "  {'label': 'Nights', 'score': 0.0071233659982681274},\n",
              "  {'label': 'Not Listed', 'score': 0.0011488451855257154}]]"
            ]
          },
          "metadata": {},
          "execution_count": 62
        }
      ],
      "source": [
        "categorizer_shifts('Work hours are 5p-10p')"
      ]
    },
    {
      "cell_type": "code",
      "execution_count": null,
      "metadata": {
        "colab": {
          "base_uri": "https://localhost:8080/"
        },
        "id": "vSEkY0cOkp-i",
        "outputId": "73a1a303-3a8c-4261-b588-e2731b5b23a7"
      },
      "outputs": [
        {
          "output_type": "execute_result",
          "data": {
            "text/plain": [
              "[[{'label': 'Days', 'score': 0.9206545948982239},\n",
              "  {'label': 'Flexible', 'score': 0.05268487334251404},\n",
              "  {'label': 'Evenings', 'score': 0.010079101659357548},\n",
              "  {'label': 'Not Listed', 'score': 0.008679519407451153},\n",
              "  {'label': 'Nights', 'score': 0.007901926524937153}]]"
            ]
          },
          "metadata": {},
          "execution_count": 63
        }
      ],
      "source": [
        "categorizer_shifts('Work hours are 9a-5p')"
      ]
    },
    {
      "cell_type": "code",
      "execution_count": null,
      "metadata": {
        "colab": {
          "base_uri": "https://localhost:8080/"
        },
        "id": "n6dQBjPck4cd",
        "outputId": "fa7d94f1-0630-48e2-ca75-14d6186b6b8f"
      },
      "outputs": [
        {
          "output_type": "execute_result",
          "data": {
            "text/plain": [
              "[[{'label': 'Evenings', 'score': 0.5608419179916382},\n",
              "  {'label': 'Nights', 'score': 0.34428682923316956},\n",
              "  {'label': 'Flexible', 'score': 0.04687580466270447},\n",
              "  {'label': 'Days', 'score': 0.04176730290055275},\n",
              "  {'label': 'Not Listed', 'score': 0.006228210404515266}]]"
            ]
          },
          "metadata": {},
          "execution_count": 65
        }
      ],
      "source": [
        "categorizer_shifts('Work hours are 10p-6a')"
      ]
    },
    {
      "cell_type": "code",
      "execution_count": null,
      "metadata": {
        "id": "WnmzrJIllLYM"
      },
      "outputs": [],
      "source": [
        "inputs = tokenizer(\"Work is in the day time\", return_tensors=\"pt\")\n"
      ]
    },
    {
      "cell_type": "code",
      "execution_count": null,
      "metadata": {
        "id": "qPXP__nToWkm"
      },
      "outputs": [],
      "source": [
        "outputs = model_shifts(**inputs)"
      ]
    },
    {
      "cell_type": "code",
      "source": [
        "\n",
        "outputs"
      ],
      "metadata": {
        "colab": {
          "base_uri": "https://localhost:8080/"
        },
        "id": "2w64sdI-gjf-",
        "outputId": "d65ad66b-18b3-48e7-85ff-0053fbd1e594"
      },
      "execution_count": null,
      "outputs": [
        {
          "output_type": "execute_result",
          "data": {
            "text/plain": [
              "SequenceClassifierOutput([('logits',\n",
              "                           tensor([[ 3.9461, -2.0609,  0.1505, -1.1212, -0.5700]],\n",
              "                                  grad_fn=<AddmmBackward0>))])"
            ]
          },
          "metadata": {},
          "execution_count": 69
        }
      ]
    },
    {
      "cell_type": "code",
      "source": [
        "%%time\n",
        "\n",
        "full_dataset_unlabeled = datasets.Dataset.from_pandas(job_descriptions[['title_plus_description']])\n",
        "full_dataset_unlabeled = full_dataset_unlabeled.rename_column(\"title_plus_description\", \"text\")\n",
        "#full_dataset = full_dataset.rename_column(\"shift\", \"label\")\n",
        "full_dataset_unlabeled_tokenized = full_dataset_unlabeled.map(preprocess_data, batched=True)\n"
      ],
      "metadata": {
        "colab": {
          "base_uri": "https://localhost:8080/",
          "height": 85,
          "referenced_widgets": [
            "8f61e781a3af45318f3baa7960c07aa2",
            "6fe9a276f2e8479a9c7924343bc2899e",
            "d61be742694a4b3298b9005ced7cf53f",
            "efbee716fd7d45e4aea9508faf8ed838",
            "71b02f032bba4a80a95c9ec2cde3beab",
            "b288689e66eb42b1a8b3ef5ccec71ba6",
            "8b4c82cf3cb6491fa09ae25b307da445",
            "afa3208a5f3b484fbb802669815fa440",
            "d98a962b24dd40159a4aedca009a3957",
            "f9636d8118ee45669c41339747264bf2",
            "251fe70e32bb4141ae8c97f7df45b508"
          ]
        },
        "id": "ktvvslSpub1L",
        "outputId": "33e46c94-b024-4bec-cae5-c5841a7abc45"
      },
      "execution_count": null,
      "outputs": [
        {
          "output_type": "display_data",
          "data": {
            "text/plain": [
              "  0%|          | 0/36 [00:00<?, ?ba/s]"
            ],
            "application/vnd.jupyter.widget-view+json": {
              "version_major": 2,
              "version_minor": 0,
              "model_id": "8f61e781a3af45318f3baa7960c07aa2"
            }
          },
          "metadata": {}
        },
        {
          "output_type": "stream",
          "name": "stdout",
          "text": [
            "CPU times: user 1min 11s, sys: 1.36 s, total: 1min 13s\n",
            "Wall time: 1min 14s\n"
          ]
        }
      ]
    },
    {
      "cell_type": "code",
      "source": [
        "\n",
        "tokenized_full_dataset"
      ],
      "metadata": {
        "colab": {
          "base_uri": "https://localhost:8080/"
        },
        "id": "-hDl42uwwIXF",
        "outputId": "76d741f4-0c9c-4eb9-c82b-ad0b06baf979"
      },
      "execution_count": null,
      "outputs": [
        {
          "output_type": "execute_result",
          "data": {
            "text/plain": [
              "Dataset({\n",
              "    features: ['text', 'label', 'job_id', 'input_ids', 'token_type_ids', 'attention_mask', 'token_count', 'is_max_count'],\n",
              "    num_rows: 35720\n",
              "})"
            ]
          },
          "metadata": {},
          "execution_count": 113
        }
      ]
    },
    {
      "cell_type": "code",
      "source": [
        "%%time\n",
        "\n",
        "test_args = TrainingArguments(\n",
        "    output_dir = model_file_to_load,\n",
        "    do_train = False,\n",
        "    do_predict = True,\n",
        "    per_device_eval_batch_size = 8,   \n",
        "    dataloader_drop_last = False    \n",
        ")\n",
        "\n",
        "# TODO Pretty sure the problerm is: it doesn't like the NAN in 'label'. Need to drop those\n",
        "\n",
        "# init trainer\n",
        "trainer = Trainer(\n",
        "              model = model_shifts, \n",
        "              args = test_args)\n",
        "\n",
        "preds_shift_all = trainer.predict(full_dataset_unlabeled_tokenized)"
      ],
      "metadata": {
        "colab": {
          "base_uri": "https://localhost:8080/",
          "height": 180
        },
        "id": "W1bA035dvMTq",
        "outputId": "68f8121d-ef71-4a47-fb93-274bbb08b807"
      },
      "execution_count": null,
      "outputs": [
        {
          "output_type": "stream",
          "name": "stderr",
          "text": [
            "PyTorch: setting up devices\n",
            "The default value for the training argument `--report_to` will change in v5 (from all installed integrations to none). In v5, you will need to use `--report_to all` to get the same behavior as now. You should start updating your code and make this info disappear :-).\n",
            "The following columns in the test set don't have a corresponding argument in `BertForSequenceClassification.forward` and have been ignored: is_max_count, text, job_id, token_count. If is_max_count, text, job_id, token_count are not expected by `BertForSequenceClassification.forward`,  you can safely ignore this message.\n",
            "***** Running Prediction *****\n",
            "  Num examples = 35720\n",
            "  Batch size = 8\n"
          ]
        },
        {
          "output_type": "display_data",
          "data": {
            "text/plain": [
              "<IPython.core.display.HTML object>"
            ],
            "text/html": [
              ""
            ]
          },
          "metadata": {}
        },
        {
          "output_type": "stream",
          "name": "stdout",
          "text": [
            "CPU times: user 10min 53s, sys: 3.36 s, total: 10min 56s\n",
            "Wall time: 10min 56s\n"
          ]
        }
      ]
    },
    {
      "cell_type": "code",
      "source": [
        "\n",
        "id2label"
      ],
      "metadata": {
        "colab": {
          "base_uri": "https://localhost:8080/"
        },
        "id": "Vx0uD8B-bAoe",
        "outputId": "3e3c336c-1024-479a-ed00-30972bf9f591"
      },
      "execution_count": null,
      "outputs": [
        {
          "output_type": "execute_result",
          "data": {
            "text/plain": [
              "{0: 'Days', 1: 'Evenings', 2: 'Flexible', 3: 'Nights', 4: 'Not Listed'}"
            ]
          },
          "metadata": {},
          "execution_count": 121
        }
      ]
    },
    {
      "cell_type": "code",
      "source": [
        "bert_ft_shift_preds = pd.DataFrame(preds_shift_all.predictions, columns=[f'bert_ft_shift_pred_{id2label[i]}' for i in range(5)], index=job_descriptions.index)\n",
        "\n",
        "bert_ft_shift_preds.to_pickle(f'{transformer_dir}/bert_ft_shift_preds.pickle')"
      ],
      "metadata": {
        "id": "wAaUtWoSatzg"
      },
      "execution_count": null,
      "outputs": []
    },
    {
      "cell_type": "code",
      "execution_count": null,
      "metadata": {
        "id": "jmkYSrRByb6R"
      },
      "outputs": [],
      "source": [
        " def interpret_prediction(row):\n",
        "  ret = {val2id[x['label']]: x['score'] for x in row}\n",
        "  ret['predicted_label'] = val2id[row[0]['label']]\n",
        "  ret['predicted_val'] = row[0]['score']\n",
        "  return ret\n",
        "\n",
        "\n",
        "test_preds_df = pd.DataFrame(interpret_prediction(row) for row in test_preds)"
      ]
    },
    {
      "cell_type": "code",
      "execution_count": null,
      "metadata": {
        "id": "cPurplS6pqvA"
      },
      "outputs": [],
      "source": [
        "test_preds_df.index = test_df.index[:predict_first_n]\n",
        "test_preds_df['label'] = test_df.iloc[:predict_first_n]['label']\n"
      ]
    },
    {
      "cell_type": "code",
      "execution_count": null,
      "metadata": {
        "colab": {
          "base_uri": "https://localhost:8080/",
          "height": 330
        },
        "id": "zIfz5gR-z8i2",
        "outputId": "92ec8e4f-de56-4318-bd56-8b43cbdce67f"
      },
      "outputs": [
        {
          "data": {
            "text/html": [
              "\n",
              "  <div id=\"df-ed701abf-6cc1-4880-a2ea-f5a7f4d1e3bb\">\n",
              "    <div class=\"colab-df-container\">\n",
              "      <div>\n",
              "<style scoped>\n",
              "    .dataframe tbody tr th:only-of-type {\n",
              "        vertical-align: middle;\n",
              "    }\n",
              "\n",
              "    .dataframe tbody tr th {\n",
              "        vertical-align: top;\n",
              "    }\n",
              "\n",
              "    .dataframe thead th {\n",
              "        text-align: right;\n",
              "    }\n",
              "</style>\n",
              "<table border=\"1\" class=\"dataframe\">\n",
              "  <thead>\n",
              "    <tr style=\"text-align: right;\">\n",
              "      <th></th>\n",
              "      <th>0</th>\n",
              "      <th>3</th>\n",
              "      <th>2</th>\n",
              "      <th>1</th>\n",
              "      <th>4</th>\n",
              "      <th>predicted_label</th>\n",
              "      <th>predicted_val</th>\n",
              "      <th>label</th>\n",
              "    </tr>\n",
              "    <tr>\n",
              "      <th>job_id</th>\n",
              "      <th></th>\n",
              "      <th></th>\n",
              "      <th></th>\n",
              "      <th></th>\n",
              "      <th></th>\n",
              "      <th></th>\n",
              "      <th></th>\n",
              "      <th></th>\n",
              "    </tr>\n",
              "  </thead>\n",
              "  <tbody>\n",
              "    <tr>\n",
              "      <th>pm-healthcaresource-com_www-saintfrancis-com-69415</th>\n",
              "      <td>0.261025</td>\n",
              "      <td>0.402854</td>\n",
              "      <td>0.277441</td>\n",
              "      <td>0.040018</td>\n",
              "      <td>0.018662</td>\n",
              "      <td>3</td>\n",
              "      <td>0.402854</td>\n",
              "      <td>0</td>\n",
              "    </tr>\n",
              "    <tr>\n",
              "      <th>ziprecruiter-appcast_agency_ascension_cpc33aef51633aef516-28494015982</th>\n",
              "      <td>0.073063</td>\n",
              "      <td>0.016293</td>\n",
              "      <td>0.247843</td>\n",
              "      <td>0.006882</td>\n",
              "      <td>0.655920</td>\n",
              "      <td>4</td>\n",
              "      <td>0.655920</td>\n",
              "      <td>2</td>\n",
              "    </tr>\n",
              "    <tr>\n",
              "      <th>careersbaptisthealthnet-BAHEUS117735ENUS</th>\n",
              "      <td>0.002143</td>\n",
              "      <td>0.001302</td>\n",
              "      <td>0.990333</td>\n",
              "      <td>0.000894</td>\n",
              "      <td>0.005327</td>\n",
              "      <td>2</td>\n",
              "      <td>0.990333</td>\n",
              "      <td>0</td>\n",
              "    </tr>\n",
              "    <tr>\n",
              "      <th>ziprecruiter-appcastapiaverageperformanceandmonthstartcnadrifthosted_2084444fd4b3d8-12509_a4d279430fcef88d9fc93f9a5a9e0242</th>\n",
              "      <td>0.009317</td>\n",
              "      <td>0.001888</td>\n",
              "      <td>0.037220</td>\n",
              "      <td>0.000957</td>\n",
              "      <td>0.950617</td>\n",
              "      <td>4</td>\n",
              "      <td>0.950617</td>\n",
              "      <td>2</td>\n",
              "    </tr>\n",
              "    <tr>\n",
              "      <th>mercy-MEHEUS870103EXTERNALENUS</th>\n",
              "      <td>0.826871</td>\n",
              "      <td>0.036568</td>\n",
              "      <td>0.084900</td>\n",
              "      <td>0.013059</td>\n",
              "      <td>0.038603</td>\n",
              "      <td>0</td>\n",
              "      <td>0.826871</td>\n",
              "      <td>3</td>\n",
              "    </tr>\n",
              "    <tr>\n",
              "      <th>pm-healthcaresource-com_www-saintfrancis-com-67439</th>\n",
              "      <td>0.270019</td>\n",
              "      <td>0.373218</td>\n",
              "      <td>0.294542</td>\n",
              "      <td>0.042394</td>\n",
              "      <td>0.019827</td>\n",
              "      <td>3</td>\n",
              "      <td>0.373218</td>\n",
              "      <td>0</td>\n",
              "    </tr>\n",
              "  </tbody>\n",
              "</table>\n",
              "</div>\n",
              "      <button class=\"colab-df-convert\" onclick=\"convertToInteractive('df-ed701abf-6cc1-4880-a2ea-f5a7f4d1e3bb')\"\n",
              "              title=\"Convert this dataframe to an interactive table.\"\n",
              "              style=\"display:none;\">\n",
              "        \n",
              "  <svg xmlns=\"http://www.w3.org/2000/svg\" height=\"24px\"viewBox=\"0 0 24 24\"\n",
              "       width=\"24px\">\n",
              "    <path d=\"M0 0h24v24H0V0z\" fill=\"none\"/>\n",
              "    <path d=\"M18.56 5.44l.94 2.06.94-2.06 2.06-.94-2.06-.94-.94-2.06-.94 2.06-2.06.94zm-11 1L8.5 8.5l.94-2.06 2.06-.94-2.06-.94L8.5 2.5l-.94 2.06-2.06.94zm10 10l.94 2.06.94-2.06 2.06-.94-2.06-.94-.94-2.06-.94 2.06-2.06.94z\"/><path d=\"M17.41 7.96l-1.37-1.37c-.4-.4-.92-.59-1.43-.59-.52 0-1.04.2-1.43.59L10.3 9.45l-7.72 7.72c-.78.78-.78 2.05 0 2.83L4 21.41c.39.39.9.59 1.41.59.51 0 1.02-.2 1.41-.59l7.78-7.78 2.81-2.81c.8-.78.8-2.07 0-2.86zM5.41 20L4 18.59l7.72-7.72 1.47 1.35L5.41 20z\"/>\n",
              "  </svg>\n",
              "      </button>\n",
              "      \n",
              "  <style>\n",
              "    .colab-df-container {\n",
              "      display:flex;\n",
              "      flex-wrap:wrap;\n",
              "      gap: 12px;\n",
              "    }\n",
              "\n",
              "    .colab-df-convert {\n",
              "      background-color: #E8F0FE;\n",
              "      border: none;\n",
              "      border-radius: 50%;\n",
              "      cursor: pointer;\n",
              "      display: none;\n",
              "      fill: #1967D2;\n",
              "      height: 32px;\n",
              "      padding: 0 0 0 0;\n",
              "      width: 32px;\n",
              "    }\n",
              "\n",
              "    .colab-df-convert:hover {\n",
              "      background-color: #E2EBFA;\n",
              "      box-shadow: 0px 1px 2px rgba(60, 64, 67, 0.3), 0px 1px 3px 1px rgba(60, 64, 67, 0.15);\n",
              "      fill: #174EA6;\n",
              "    }\n",
              "\n",
              "    [theme=dark] .colab-df-convert {\n",
              "      background-color: #3B4455;\n",
              "      fill: #D2E3FC;\n",
              "    }\n",
              "\n",
              "    [theme=dark] .colab-df-convert:hover {\n",
              "      background-color: #434B5C;\n",
              "      box-shadow: 0px 1px 3px 1px rgba(0, 0, 0, 0.15);\n",
              "      filter: drop-shadow(0px 1px 2px rgba(0, 0, 0, 0.3));\n",
              "      fill: #FFFFFF;\n",
              "    }\n",
              "  </style>\n",
              "\n",
              "      <script>\n",
              "        const buttonEl =\n",
              "          document.querySelector('#df-ed701abf-6cc1-4880-a2ea-f5a7f4d1e3bb button.colab-df-convert');\n",
              "        buttonEl.style.display =\n",
              "          google.colab.kernel.accessAllowed ? 'block' : 'none';\n",
              "\n",
              "        async function convertToInteractive(key) {\n",
              "          const element = document.querySelector('#df-ed701abf-6cc1-4880-a2ea-f5a7f4d1e3bb');\n",
              "          const dataTable =\n",
              "            await google.colab.kernel.invokeFunction('convertToInteractive',\n",
              "                                                     [key], {});\n",
              "          if (!dataTable) return;\n",
              "\n",
              "          const docLinkHtml = 'Like what you see? Visit the ' +\n",
              "            '<a target=\"_blank\" href=https://colab.research.google.com/notebooks/data_table.ipynb>data table notebook</a>'\n",
              "            + ' to learn more about interactive tables.';\n",
              "          element.innerHTML = '';\n",
              "          dataTable['output_type'] = 'display_data';\n",
              "          await google.colab.output.renderOutput(dataTable, element);\n",
              "          const docLink = document.createElement('div');\n",
              "          docLink.innerHTML = docLinkHtml;\n",
              "          element.appendChild(docLink);\n",
              "        }\n",
              "      </script>\n",
              "    </div>\n",
              "  </div>\n",
              "  "
            ],
            "text/plain": [
              "                                                           0         3  \\\n",
              "job_id                                                                   \n",
              "pm-healthcaresource-com_www-saintfrancis-com-69415  0.261025  0.402854   \n",
              "ziprecruiter-appcast_agency_ascension_cpc33aef5...  0.073063  0.016293   \n",
              "careersbaptisthealthnet-BAHEUS117735ENUS            0.002143  0.001302   \n",
              "ziprecruiter-appcastapiaverageperformanceandmon...  0.009317  0.001888   \n",
              "mercy-MEHEUS870103EXTERNALENUS                      0.826871  0.036568   \n",
              "pm-healthcaresource-com_www-saintfrancis-com-67439  0.270019  0.373218   \n",
              "\n",
              "                                                           2         1  \\\n",
              "job_id                                                                   \n",
              "pm-healthcaresource-com_www-saintfrancis-com-69415  0.277441  0.040018   \n",
              "ziprecruiter-appcast_agency_ascension_cpc33aef5...  0.247843  0.006882   \n",
              "careersbaptisthealthnet-BAHEUS117735ENUS            0.990333  0.000894   \n",
              "ziprecruiter-appcastapiaverageperformanceandmon...  0.037220  0.000957   \n",
              "mercy-MEHEUS870103EXTERNALENUS                      0.084900  0.013059   \n",
              "pm-healthcaresource-com_www-saintfrancis-com-67439  0.294542  0.042394   \n",
              "\n",
              "                                                           4  predicted_label  \\\n",
              "job_id                                                                          \n",
              "pm-healthcaresource-com_www-saintfrancis-com-69415  0.018662                3   \n",
              "ziprecruiter-appcast_agency_ascension_cpc33aef5...  0.655920                4   \n",
              "careersbaptisthealthnet-BAHEUS117735ENUS            0.005327                2   \n",
              "ziprecruiter-appcastapiaverageperformanceandmon...  0.950617                4   \n",
              "mercy-MEHEUS870103EXTERNALENUS                      0.038603                0   \n",
              "pm-healthcaresource-com_www-saintfrancis-com-67439  0.019827                3   \n",
              "\n",
              "                                                    predicted_val  label  \n",
              "job_id                                                                    \n",
              "pm-healthcaresource-com_www-saintfrancis-com-69415       0.402854      0  \n",
              "ziprecruiter-appcast_agency_ascension_cpc33aef5...       0.655920      2  \n",
              "careersbaptisthealthnet-BAHEUS117735ENUS                 0.990333      0  \n",
              "ziprecruiter-appcastapiaverageperformanceandmon...       0.950617      2  \n",
              "mercy-MEHEUS870103EXTERNALENUS                           0.826871      3  \n",
              "pm-healthcaresource-com_www-saintfrancis-com-67439       0.373218      0  "
            ]
          },
          "execution_count": 137,
          "metadata": {},
          "output_type": "execute_result"
        }
      ],
      "source": [
        "test_preds_df.query('label != predicted_label')"
      ]
    },
    {
      "cell_type": "code",
      "execution_count": null,
      "metadata": {
        "colab": {
          "base_uri": "https://localhost:8080/"
        },
        "id": "6jAxjxBj0Xtr",
        "outputId": "3283356e-b616-4933-eebb-06961b9fe1bb"
      },
      "outputs": [
        {
          "name": "stdout",
          "output_type": "stream",
          "text": [
            "title: Registered Nurse I - Tulsa, OK\n",
            "        description: Job Summary: The Clinical Nurse I assesses, plans, implements and evaluates\n",
            "nursing care, utilizing the nursing process in accordance with hospital\n",
            "standards and unit policies/procedures for the purpose of monitoring and\n",
            "evaluating patient functional status.  \n",
            "  \n",
            "Education: Completion of a state approved Registered Nurse program.  \n",
            "  \n",
            "Licensure, Registration and/or Certification: Valid State of Oklahoma\n",
            "Registered Nurse License.  \n",
            "  \n",
            "Work Experience: 0 - 6 months related experience.  \n",
            "  \n",
            "Knowledge, Skills and Abilities: Working knowledge of general disease state\n",
            "management processes, bio-psychosocial model, and clinical pathways. Effective\n",
            "interpersonal, written, and oral communication skills. Ability to organize and\n",
            "prioritize work in an effective and efficient manner. Ability to be detail\n",
            "oriented as required in the examination of clinical and numerical data.\n"
          ]
        }
      ],
      "source": [
        "\n",
        "print(test_df.loc['pm-healthcaresource-com_www-saintfrancis-com-69415']['text'])\n",
        "\n",
        "# Hm so model predicted 3 == nights, label is 0 == days, and when I read this seems to me this is 4: not listed…\n",
        "# Seems like the info really isn't here, biggest mystery is why the model thinks it's days and gave low weight to not listed."
      ]
    },
    {
      "cell_type": "code",
      "execution_count": null,
      "metadata": {
        "colab": {
          "base_uri": "https://localhost:8080/"
        },
        "id": "mjgtyZfT15K4",
        "outputId": "9cab2f2f-49d4-4f25-bdc9-a11e93e322d1"
      },
      "outputs": [
        {
          "name": "stdout",
          "output_type": "stream",
          "text": [
            "title: CNA Certified Nursing Assistant - Premium Pay!!! - Ponca City, OK, USA\n",
            "        description: SHORT TERM OPTION **CNA** Via Christi Village Ponca City , an Ascension Living\n",
            "community , now offers ... Reports findings or changes in physical, mental and\n",
            "emotional conditions to **nursing** staff\n"
          ]
        }
      ],
      "source": [
        "# So in this situation model said 4 (==not listed) but label says 2 (flexible)\n",
        "# …I'd go with the model. Nothing explicitly says it's flexible. Must be world knowledge?\n",
        "\n",
        "print(test_df.loc['ziprecruiter-appcast_agency_ascension_cpc33aef51633aef516-28494015982']['text'])\n"
      ]
    },
    {
      "cell_type": "code",
      "execution_count": null,
      "metadata": {
        "colab": {
          "base_uri": "https://localhost:8080/"
        },
        "id": "GQaoX9Yjqgl1",
        "outputId": "566971ae-0751-431f-bb52-1ac440ef8496"
      },
      "outputs": [
        {
          "name": "stdout",
          "output_type": "stream",
          "text": [
            "discipline         Allied Health Professional\n",
            "employment_type                      Per Diem\n",
            "shift                                    Days\n",
            "Name: careersbaptisthealthnet-BAHEUS117735ENUS, dtype: object\n",
            "title: Pool Sterilization Tech, Central Sterilization, Per Diem, Varies - Boca Raton, Florida\n",
            "        description: \n",
            "\n",
            "##\n",
            "\n",
            "  \n",
            "\n",
            "Baptist Health has a commitment to strengthening the compassionate care we\n",
            "provide. With the addition of Boca Raton Regional Hospital, Baptist Health is\n",
            "able to provide the Palm Beach community expanded access to healthcare\n",
            "services.  \n",
            "  \n",
            "Boca Raton Regional Hospital is an advanced tertiary medical center with 400\n",
            "beds and is a recognized leader in Cardiovascular Care, Oncology, Women's\n",
            "Health, Orthopedics, Emergency Medicine and the Neurosciences, all of which\n",
            "offer state-of-the-art diagnostic and imaging capabilities. The Hospital is\n",
            "now a part of Baptist Health South Florida is the region's largest not-for-\n",
            "profit healthcare organization with more than 23,000 employees working across\n",
            "11 hospital campuses and more than 100 outpatient facilities throughout Miami-\n",
            "Dade, Monroe, Broward, and Palm Beach counties. In 2016 we welcomed the newest\n",
            "weapon in the fight against cancer, the world-class Miami Cancer Institute and\n",
            "proton therapy center.  \n",
            "  \n",
            "Baptist Health South Florida is once again one of the 2019 Fortune 100 Best\n",
            "Companies to Work For! This is the 19th time Baptist Health has been\n",
            "recognized on the list. We have also been recognized for being among the best\n",
            "healthcare providers in the nation by U.S. News & World Reports in its\n",
            "2019-2020 Best Hospitals report and have been honored as one of PEOPLE's 2019\n",
            "50 Companies That Care by PEOPLE magazine and Great Place to Work.  \n",
            "  \n",
            "Everything we do at Baptist Health, we do to the best of our ability. That\n",
            "includes supporting our team with extensive training programs, millions of\n",
            "dollars in tuition assistance, comprehensive benefits and more. Working within\n",
            "our award-winning culture means getting the respect and support you need to do\n",
            "your best work ever. Find out why this is the best place to be your best!\n",
            "\n",
            "## Description:\n",
            "\n",
            "  \n",
            "\n",
            "Knowledge of sterilization supplies, equipment and instruments. Duties involve\n",
            "care, packaging, inspection, cleaning and reprocessing of surgical\n",
            "instrumentation. Inventory and distribution of equipment and supplies for the\n",
            "operating room.\n",
            "\n",
            "Estimated pay range for this position is $18.00/ hour depending on experience.\n",
            "\n",
            "## Qualifications:\n",
            "\n",
            "  \n",
            "\n",
            "Degrees: High School,Cert,GED,Trn,Exper Additional Qualifications: Graduate of\n",
            "SPD or Surgical Technician training program preferred. Certification\n",
            "preferred.\n",
            "\n",
            "##\n",
            "\n",
            "  \n",
            "\n",
            "  \n",
            "\n",
            "  \n",
            "\n",
            "##\n",
            "\n",
            "  \n",
            "EOE\n"
          ]
        }
      ],
      "source": [
        "print(job_descriptions.set_index('job_id').loc['careersbaptisthealthnet-BAHEUS117735ENUS', ['discipline', 'employment_type', 'shift']])\n",
        "print(test_df.loc['careersbaptisthealthnet-BAHEUS117735ENUS']['text'])\n",
        "\n",
        "# Model was super sure this one was 2 (flexible), humans labeled it 0 (day)\n",
        "# Again this is nuts. I'd say 4 (not listed) … maybe where it says \"varies\" that's a slot that for time?\n",
        "# …also is pool sterilization a relevant job??"
      ]
    },
    {
      "cell_type": "code",
      "execution_count": null,
      "metadata": {
        "colab": {
          "base_uri": "https://localhost:8080/"
        },
        "id": "rX9dWLkCoald",
        "outputId": "35acc733-18b4-49ab-b6bf-69a0039a61d7"
      },
      "outputs": [
        {
          "data": {
            "text/plain": [
              "description               <h2></h2><br><font face=\"Arial\" size=\"3\"><p st...\n",
              "job_title                 Pool Sterilization Tech, Central Sterilization...\n",
              "employment_type                                                    Per Diem\n",
              "shift                                                                  Days\n",
              "discipline                                       Allied Health Professional\n",
              "specialty                                     Sterile Processing Technician\n",
              "title_plus_description    title: Pool Sterilization Tech, Central Steril...\n",
              "Name: careersbaptisthealthnet-BAHEUS117735ENUS, dtype: object"
            ]
          },
          "execution_count": 10,
          "metadata": {},
          "output_type": "execute_result"
        }
      ],
      "source": [
        "job_descriptions.set_index('job_id').loc['careersbaptisthealthnet-BAHEUS117735ENUS']\n"
      ]
    },
    {
      "cell_type": "code",
      "execution_count": null,
      "metadata": {
        "id": "splQifxyoefL"
      },
      "outputs": [],
      "source": [
        ""
      ]
    },
    {
      "cell_type": "code",
      "execution_count": null,
      "metadata": {
        "colab": {
          "base_uri": "https://localhost:8080/"
        },
        "id": "zSDeZydgqg9L",
        "outputId": "6274c026-60a9-42b4-9ce4-8b0fa497da89"
      },
      "outputs": [
        {
          "name": "stdout",
          "output_type": "stream",
          "text": [
            "discipline               CNA\n",
            "employment_type    Permanent\n",
            "shift               Flexible\n",
            "Name: ziprecruiter-appcastapiaverageperformanceandmonthstartcnadrifthosted_2084444fd4b3d8-12509_a4d279430fcef88d9fc93f9a5a9e0242, dtype: object\n",
            "title: Certified Nursing Assistant (CNA) ***$3,000 Sign-On Bonus*** - Brooksville, FL, USA\n",
            "        description: Join our amazingly warm and compassionate team at our skilled **nursing**\n",
            "facility. We are hiring a **CNA** to join our team of passionate healthcare\n",
            "professionals. You will work directly with residents who ...\n"
          ]
        }
      ],
      "source": [
        "print(job_descriptions.set_index('job_id').loc['ziprecruiter-appcastapiaverageperformanceandmonthstartcnadrifthosted_2084444fd4b3d8-12509_a4d279430fcef88d9fc93f9a5a9e0242', ['discipline', 'employment_type', 'shift']])\n",
        "print(test_df.loc['ziprecruiter-appcastapiaverageperformanceandmonthstartcnadrifthosted_2084444fd4b3d8-12509_a4d279430fcef88d9fc93f9a5a9e0242']['text'])\n",
        "\n",
        "# Model was super sure this one was 4 (not listed), humans labeled it flexible\n",
        "# …again model was definitely right"
      ]
    },
    {
      "cell_type": "code",
      "execution_count": null,
      "metadata": {
        "colab": {
          "base_uri": "https://localhost:8080/"
        },
        "id": "SkQrqRpA3vZw",
        "outputId": "ad26c1d7-e3a7-41b2-bc11-9ebb85f55ba0"
      },
      "outputs": [
        {
          "name": "stdout",
          "output_type": "stream",
          "text": [
            "discipline             RN\n",
            "employment_type    Travel\n",
            "shift              Nights\n",
            "Name: mercy-MEHEUS870103EXTERNALENUS, dtype: object\n",
            "title: Registered Nurse - Oklahoma City, Oklahoma\n",
            "        description: \n",
            "\n",
            "**Temporary 13 Week Assignment. Full-time, 36hrs per week. $75/hr.**\n",
            "\n",
            "**We’re a Little Different**\n",
            "\n",
            "Our mission is clear. We bring to life a healing ministry through our\n",
            "compassionate care and exceptional service.  \n",
            "  \n",
            "At Mercy, we believe in _careers_ that match the unique gifts of unique\n",
            "individuals – _careers_ that not only make the most of your skills and\n",
            "talents, but also your heart. Join us and discover why Modern Healthcare\n",
            "Magazine named us in its “Top 100 Places to Work.”\n",
            "\n",
            "  \n",
            " **Qualifications:**\n",
            "\n",
            "Licensure: Current Oklahoma License  \n",
            "Certifications: Current BLS certification required before assigned to care for\n",
            "patients independently. Current NRP Certification required before assigned to\n",
            "care for patients independently.  \n",
            "Other: Completes Hospital and nursing competency within 3 months of employment\n",
            "and annually, submits to Nurse Manager/ Education Coordinator. Must meet the\n",
            "requirements of the supplemental staffing policy and agreement.  \n",
            "Preferred Education: BSN  \n",
            "Preferred Certifications: ACLS\n",
            "\n",
            "**We Offer Great Benefits:**\n",
            "\n",
            "  \n",
            "Day-one comprehensive health, vision and dental coverage, PTO, tuition\n",
            "reimbursement and employer-matched retirement funds are just a few of the\n",
            "great benefits offered to eligible co-workers, including those working 48\n",
            "hours or more per pay period!\n",
            "\n",
            "**We’re bringing to life a healing ministry through compassionate care.**\n",
            "\n",
            "  \n",
            "At Mercy, our supportive community will be behind you every step of your day,\n",
            "especially the tough ones. You will have opportunities to pioneer new models\n",
            "of care and transform the health care experience through advanced technology\n",
            "and innovative procedures. We’re expanding to help our communities grow. Join\n",
            "us and be a part of it all.\n",
            "\n",
            "  \n",
            " **What Makes You a Good Match for Mercy? **\n",
            "\n",
            "  \n",
            "Compassion and professionalism go hand-in-hand with us. Having a positive\n",
            "outlook and a strong sense of advocacy is in perfect step with our mission and\n",
            "vision. We’re also collaborative and unafraid to do a little extra to deliver\n",
            "excellent care – that’s just part of our commitment. If that sounds like a\n",
            "good fit for you, we encourage you to apply.\n",
            "\n",
            "  \n",
            "\n",
            "Mercy has determined this is a safety-sensitive position. The ability to work\n",
            "in a constant state of alertness and in a safe manner is an essential function\n",
            "of this job.\n"
          ]
        }
      ],
      "source": [
        "print(job_descriptions.set_index('job_id').loc['mercy-MEHEUS870103EXTERNALENUS', ['discipline', 'employment_type', 'shift']])\n",
        "print(test_df.loc['mercy-MEHEUS870103EXTERNALENUS']['text'])\n",
        "\n",
        "# Model labeled this one was 0 (day), medium high confidence. humans labeled it nights\n",
        "# …again it seems clearly not listed? Honestly more annoying that the model says day"
      ]
    },
    {
      "cell_type": "code",
      "execution_count": null,
      "metadata": {
        "colab": {
          "base_uri": "https://localhost:8080/"
        },
        "id": "VEGrm35W4Zkz",
        "outputId": "71f75a39-646e-4d54-91aa-6031a41213ca"
      },
      "outputs": [
        {
          "name": "stdout",
          "output_type": "stream",
          "text": [
            "discipline                RN\n",
            "employment_type    Permanent\n",
            "shift                   Days\n",
            "Name: pm-healthcaresource-com_www-saintfrancis-com-67439, dtype: object\n",
            "title: Clinical Nurse I - Tulsa, OK\n",
            "        description: Job Summary: The Clinical Nurse I assesses, plans, implements and evaluates\n",
            "nursing care, utilizing the nursing process in accordance with hospital\n",
            "standards and unit policies/procedures for the purpose of monitoring and\n",
            "evaluating patient functional status.  \n",
            "  \n",
            "Education: Completion of a state approved Registered Nurse program.  \n",
            "  \n",
            "Licensure, Registration and/or Certification: Valid State of Oklahoma\n",
            "Registered Nurse License.  \n",
            "  \n",
            "Work Experience: 0 - 6 months related experience.  \n",
            "  \n",
            "Knowledge, Skills and Abilities: Working knowledge of general disease state\n",
            "management processes, bio-psychosocial model, and clinical pathways. Effective\n",
            "interpersonal, written, and oral communication skills. Ability to organize and\n",
            "prioritize work in an effective and efficient manner. Ability to be detail\n",
            "oriented as required in the examination of clinical and numerical data.  \n",
            "  \n",
            "Safety Sensitive: Under the Oklahoma Medical Marijuana Use and Patient\n",
            "Protection Act (OMMA), safety sensitive position is defined as any job that\n",
            "includes tasks or duties that the employer believes could affect the safety\n",
            "and health of the employee performing the task or others. This position has\n",
            "been identified as a safety sensitive position. This statute allows employers\n",
            "to lawfully refuse to hire applicants for safety-sensitive jobs or to\n",
            "discipline or discharge employees who work in safety- sensitive jobs if they\n",
            "test positive for marijuana, even if they have a valid license to use medical\n",
            "marijuana.\n"
          ]
        }
      ],
      "source": [
        "\n",
        "print(job_descriptions.set_index('job_id').loc['pm-healthcaresource-com_www-saintfrancis-com-67439', ['discipline', 'employment_type', 'shift']])\n",
        "print(test_df.loc['pm-healthcaresource-com_www-saintfrancis-com-67439']['text'])\n",
        "\n",
        "\n",
        "# Model called this one night with super low confidence, it's supposed to be day,\n",
        "# again I have no idea how the text implies day or why the model would say night."
      ]
    },
    {
      "cell_type": "code",
      "execution_count": null,
      "metadata": {
        "colab": {
          "base_uri": "https://localhost:8080/"
        },
        "id": "EYZytVQt6ek7",
        "outputId": "a9bec62e-0524-453d-e2ef-f9ca600e4f82"
      },
      "outputs": [
        {
          "name": "stdout",
          "output_type": "stream",
          "text": [
            "Threshhold: 0 Proportion: 1.0 Accuracy: 0.885\n",
            "Threshhold: 0.3 Proportion: 1.0 Accuracy: 0.885\n",
            "Threshhold: 0.5 Proportion: 0.955 Accuracy: 0.9057591623036649\n",
            "Threshhold: 0.7 Proportion: 0.835 Accuracy: 0.9341317365269461\n",
            "Threshhold: 0.8 Proportion: 0.775 Accuracy: 0.9548387096774194\n",
            "Threshhold: 0.9 Proportion: 0.705 Accuracy: 0.9574468085106383\n",
            "Threshhold: 0.95 Proportion: 0.66 Accuracy: 0.9696969696969697\n",
            "Threshhold: 0.98 Proportion: 0.495 Accuracy: 0.9797979797979798\n"
          ]
        }
      ],
      "source": [
        "\n",
        "for thresh in [0, .3, .5, .7, .8, .9, .95, .98]:\n",
        "  rows = test_preds_df.query(f'predicted_val > {thresh}')\n",
        "  size = rows.shape[0]\n",
        "  proportion = rows.shape[0] / test_preds_df.shape[0]\n",
        "  accuracy = np.mean(rows.apply(lambda x: x['label'] == x['predicted_label'], axis=1))\n",
        "  print(f'Threshhold: {thresh} Proportion: {proportion} Accuracy: {accuracy}')\n",
        "\n"
      ]
    },
    {
      "cell_type": "code",
      "execution_count": null,
      "metadata": {
        "colab": {
          "base_uri": "https://localhost:8080/"
        },
        "id": "VfZKObvA5rHS",
        "outputId": "baf5b229-324c-4fdf-a671-cb305b17cab3"
      },
      "outputs": [
        {
          "data": {
            "text/plain": [
              "0.9428571428571428"
            ]
          },
          "execution_count": 157,
          "metadata": {},
          "output_type": "execute_result"
        }
      ],
      "source": [
        "np.mean(test_preds_df.query('predicted_val > .9').apply(lambda x: x['label'] == x['predicted_label'], axis=1))"
      ]
    },
    {
      "cell_type": "code",
      "execution_count": null,
      "metadata": {
        "id": "u6fEtfou6QFI"
      },
      "outputs": [],
      "source": [
        ""
      ]
    }
  ],
  "metadata": {
    "accelerator": "GPU",
    "colab": {
      "background_execution": "on",
      "collapsed_sections": [],
      "name": "Finetuning Model on Vivian Attributes",
      "provenance": [],
      "authorship_tag": "ABX9TyOvkzZD1om5MfauYea03LGh",
      "include_colab_link": true
    },
    "gpuClass": "standard",
    "kernelspec": {
      "display_name": "Python 3",
      "name": "python3"
    },
    "language_info": {
      "name": "python"
    },
    "widgets": {
      "application/vnd.jupyter.widget-state+json": {
        "014c9957de9b4520bbeb99d5b04bb699": {
          "model_module": "@jupyter-widgets/controls",
          "model_module_version": "1.5.0",
          "model_name": "HTMLModel",
          "state": {
            "_dom_classes": [],
            "_model_module": "@jupyter-widgets/controls",
            "_model_module_version": "1.5.0",
            "_model_name": "HTMLModel",
            "_view_count": null,
            "_view_module": "@jupyter-widgets/controls",
            "_view_module_version": "1.5.0",
            "_view_name": "HTMLView",
            "description": "",
            "description_tooltip": null,
            "layout": "IPY_MODEL_ffdbe3d1891349f49d794dbdac6191cb",
            "placeholder": "​",
            "style": "IPY_MODEL_55037d51910e4ad18e8c7588d4386216",
            "value": "Casting the dataset: 100%"
          }
        },
        "027b026b8a754be98ad46a3364509379": {
          "model_module": "@jupyter-widgets/base",
          "model_module_version": "1.2.0",
          "model_name": "LayoutModel",
          "state": {
            "_model_module": "@jupyter-widgets/base",
            "_model_module_version": "1.2.0",
            "_model_name": "LayoutModel",
            "_view_count": null,
            "_view_module": "@jupyter-widgets/base",
            "_view_module_version": "1.2.0",
            "_view_name": "LayoutView",
            "align_content": null,
            "align_items": null,
            "align_self": null,
            "border": null,
            "bottom": null,
            "display": null,
            "flex": null,
            "flex_flow": null,
            "grid_area": null,
            "grid_auto_columns": null,
            "grid_auto_flow": null,
            "grid_auto_rows": null,
            "grid_column": null,
            "grid_gap": null,
            "grid_row": null,
            "grid_template_areas": null,
            "grid_template_columns": null,
            "grid_template_rows": null,
            "height": null,
            "justify_content": null,
            "justify_items": null,
            "left": null,
            "margin": null,
            "max_height": null,
            "max_width": null,
            "min_height": null,
            "min_width": null,
            "object_fit": null,
            "object_position": null,
            "order": null,
            "overflow": null,
            "overflow_x": null,
            "overflow_y": null,
            "padding": null,
            "right": null,
            "top": null,
            "visibility": null,
            "width": null
          }
        },
        "02bcda77c9f74570a2c870c3a3b1c547": {
          "model_module": "@jupyter-widgets/controls",
          "model_module_version": "1.5.0",
          "model_name": "DescriptionStyleModel",
          "state": {
            "_model_module": "@jupyter-widgets/controls",
            "_model_module_version": "1.5.0",
            "_model_name": "DescriptionStyleModel",
            "_view_count": null,
            "_view_module": "@jupyter-widgets/base",
            "_view_module_version": "1.2.0",
            "_view_name": "StyleView",
            "description_width": ""
          }
        },
        "0dbe696b6b894967be210652acbb7a93": {
          "model_module": "@jupyter-widgets/base",
          "model_module_version": "1.2.0",
          "model_name": "LayoutModel",
          "state": {
            "_model_module": "@jupyter-widgets/base",
            "_model_module_version": "1.2.0",
            "_model_name": "LayoutModel",
            "_view_count": null,
            "_view_module": "@jupyter-widgets/base",
            "_view_module_version": "1.2.0",
            "_view_name": "LayoutView",
            "align_content": null,
            "align_items": null,
            "align_self": null,
            "border": null,
            "bottom": null,
            "display": null,
            "flex": null,
            "flex_flow": null,
            "grid_area": null,
            "grid_auto_columns": null,
            "grid_auto_flow": null,
            "grid_auto_rows": null,
            "grid_column": null,
            "grid_gap": null,
            "grid_row": null,
            "grid_template_areas": null,
            "grid_template_columns": null,
            "grid_template_rows": null,
            "height": null,
            "justify_content": null,
            "justify_items": null,
            "left": null,
            "margin": null,
            "max_height": null,
            "max_width": null,
            "min_height": null,
            "min_width": null,
            "object_fit": null,
            "object_position": null,
            "order": null,
            "overflow": null,
            "overflow_x": null,
            "overflow_y": null,
            "padding": null,
            "right": null,
            "top": null,
            "visibility": null,
            "width": null
          }
        },
        "120ef7ce1f9f4d6baf8b3cb4001643ba": {
          "model_module": "@jupyter-widgets/controls",
          "model_module_version": "1.5.0",
          "model_name": "DescriptionStyleModel",
          "state": {
            "_model_module": "@jupyter-widgets/controls",
            "_model_module_version": "1.5.0",
            "_model_name": "DescriptionStyleModel",
            "_view_count": null,
            "_view_module": "@jupyter-widgets/base",
            "_view_module_version": "1.2.0",
            "_view_name": "StyleView",
            "description_width": ""
          }
        },
        "138fcfd302a844afae7feb5e0a704688": {
          "model_module": "@jupyter-widgets/base",
          "model_module_version": "1.2.0",
          "model_name": "LayoutModel",
          "state": {
            "_model_module": "@jupyter-widgets/base",
            "_model_module_version": "1.2.0",
            "_model_name": "LayoutModel",
            "_view_count": null,
            "_view_module": "@jupyter-widgets/base",
            "_view_module_version": "1.2.0",
            "_view_name": "LayoutView",
            "align_content": null,
            "align_items": null,
            "align_self": null,
            "border": null,
            "bottom": null,
            "display": null,
            "flex": null,
            "flex_flow": null,
            "grid_area": null,
            "grid_auto_columns": null,
            "grid_auto_flow": null,
            "grid_auto_rows": null,
            "grid_column": null,
            "grid_gap": null,
            "grid_row": null,
            "grid_template_areas": null,
            "grid_template_columns": null,
            "grid_template_rows": null,
            "height": null,
            "justify_content": null,
            "justify_items": null,
            "left": null,
            "margin": null,
            "max_height": null,
            "max_width": null,
            "min_height": null,
            "min_width": null,
            "object_fit": null,
            "object_position": null,
            "order": null,
            "overflow": null,
            "overflow_x": null,
            "overflow_y": null,
            "padding": null,
            "right": null,
            "top": null,
            "visibility": null,
            "width": null
          }
        },
        "17a70ba73102426d85d10f9aa700770a": {
          "model_module": "@jupyter-widgets/base",
          "model_module_version": "1.2.0",
          "model_name": "LayoutModel",
          "state": {
            "_model_module": "@jupyter-widgets/base",
            "_model_module_version": "1.2.0",
            "_model_name": "LayoutModel",
            "_view_count": null,
            "_view_module": "@jupyter-widgets/base",
            "_view_module_version": "1.2.0",
            "_view_name": "LayoutView",
            "align_content": null,
            "align_items": null,
            "align_self": null,
            "border": null,
            "bottom": null,
            "display": null,
            "flex": null,
            "flex_flow": null,
            "grid_area": null,
            "grid_auto_columns": null,
            "grid_auto_flow": null,
            "grid_auto_rows": null,
            "grid_column": null,
            "grid_gap": null,
            "grid_row": null,
            "grid_template_areas": null,
            "grid_template_columns": null,
            "grid_template_rows": null,
            "height": null,
            "justify_content": null,
            "justify_items": null,
            "left": null,
            "margin": null,
            "max_height": null,
            "max_width": null,
            "min_height": null,
            "min_width": null,
            "object_fit": null,
            "object_position": null,
            "order": null,
            "overflow": null,
            "overflow_x": null,
            "overflow_y": null,
            "padding": null,
            "right": null,
            "top": null,
            "visibility": null,
            "width": null
          }
        },
        "1aeb8db409d64f039e53e1264082fc8f": {
          "model_module": "@jupyter-widgets/base",
          "model_module_version": "1.2.0",
          "model_name": "LayoutModel",
          "state": {
            "_model_module": "@jupyter-widgets/base",
            "_model_module_version": "1.2.0",
            "_model_name": "LayoutModel",
            "_view_count": null,
            "_view_module": "@jupyter-widgets/base",
            "_view_module_version": "1.2.0",
            "_view_name": "LayoutView",
            "align_content": null,
            "align_items": null,
            "align_self": null,
            "border": null,
            "bottom": null,
            "display": null,
            "flex": null,
            "flex_flow": null,
            "grid_area": null,
            "grid_auto_columns": null,
            "grid_auto_flow": null,
            "grid_auto_rows": null,
            "grid_column": null,
            "grid_gap": null,
            "grid_row": null,
            "grid_template_areas": null,
            "grid_template_columns": null,
            "grid_template_rows": null,
            "height": null,
            "justify_content": null,
            "justify_items": null,
            "left": null,
            "margin": null,
            "max_height": null,
            "max_width": null,
            "min_height": null,
            "min_width": null,
            "object_fit": null,
            "object_position": null,
            "order": null,
            "overflow": null,
            "overflow_x": null,
            "overflow_y": null,
            "padding": null,
            "right": null,
            "top": null,
            "visibility": null,
            "width": null
          }
        },
        "1b2f749d80974901be0e10a5d33676a5": {
          "model_module": "@jupyter-widgets/base",
          "model_module_version": "1.2.0",
          "model_name": "LayoutModel",
          "state": {
            "_model_module": "@jupyter-widgets/base",
            "_model_module_version": "1.2.0",
            "_model_name": "LayoutModel",
            "_view_count": null,
            "_view_module": "@jupyter-widgets/base",
            "_view_module_version": "1.2.0",
            "_view_name": "LayoutView",
            "align_content": null,
            "align_items": null,
            "align_self": null,
            "border": null,
            "bottom": null,
            "display": null,
            "flex": null,
            "flex_flow": null,
            "grid_area": null,
            "grid_auto_columns": null,
            "grid_auto_flow": null,
            "grid_auto_rows": null,
            "grid_column": null,
            "grid_gap": null,
            "grid_row": null,
            "grid_template_areas": null,
            "grid_template_columns": null,
            "grid_template_rows": null,
            "height": null,
            "justify_content": null,
            "justify_items": null,
            "left": null,
            "margin": null,
            "max_height": null,
            "max_width": null,
            "min_height": null,
            "min_width": null,
            "object_fit": null,
            "object_position": null,
            "order": null,
            "overflow": null,
            "overflow_x": null,
            "overflow_y": null,
            "padding": null,
            "right": null,
            "top": null,
            "visibility": null,
            "width": null
          }
        },
        "1ce649c1b3e44f1f86b7efcdde33bcf5": {
          "model_module": "@jupyter-widgets/controls",
          "model_module_version": "1.5.0",
          "model_name": "HTMLModel",
          "state": {
            "_dom_classes": [],
            "_model_module": "@jupyter-widgets/controls",
            "_model_module_version": "1.5.0",
            "_model_name": "HTMLModel",
            "_view_count": null,
            "_view_module": "@jupyter-widgets/controls",
            "_view_module_version": "1.5.0",
            "_view_name": "HTMLView",
            "description": "",
            "description_tooltip": null,
            "layout": "IPY_MODEL_eda116cdcc4f4de98fc877aea38782e1",
            "placeholder": "​",
            "style": "IPY_MODEL_e3b85a45c68a4f2e99e48b0d0c48de66",
            "value": " 3/3 [00:01&lt;00:00,  1.69ba/s]"
          }
        },
        "1f4871d953f1468da285a831b2f968fd": {
          "model_module": "@jupyter-widgets/controls",
          "model_module_version": "1.5.0",
          "model_name": "HBoxModel",
          "state": {
            "_dom_classes": [],
            "_model_module": "@jupyter-widgets/controls",
            "_model_module_version": "1.5.0",
            "_model_name": "HBoxModel",
            "_view_count": null,
            "_view_module": "@jupyter-widgets/controls",
            "_view_module_version": "1.5.0",
            "_view_name": "HBoxView",
            "box_style": "",
            "children": [
              "IPY_MODEL_95e5d2cd58c5404fb4ce60b02b3cbe2d",
              "IPY_MODEL_5954306ec4f54a0aa6df3985f2d82917",
              "IPY_MODEL_a3a73d92eeb54261931d092909a5f256"
            ],
            "layout": "IPY_MODEL_e1f2e0bb0917433591f709a9c1b7f796"
          }
        },
        "21610057cfb040a5b34c5785dd9e70e5": {
          "model_module": "@jupyter-widgets/base",
          "model_module_version": "1.2.0",
          "model_name": "LayoutModel",
          "state": {
            "_model_module": "@jupyter-widgets/base",
            "_model_module_version": "1.2.0",
            "_model_name": "LayoutModel",
            "_view_count": null,
            "_view_module": "@jupyter-widgets/base",
            "_view_module_version": "1.2.0",
            "_view_name": "LayoutView",
            "align_content": null,
            "align_items": null,
            "align_self": null,
            "border": null,
            "bottom": null,
            "display": null,
            "flex": null,
            "flex_flow": null,
            "grid_area": null,
            "grid_auto_columns": null,
            "grid_auto_flow": null,
            "grid_auto_rows": null,
            "grid_column": null,
            "grid_gap": null,
            "grid_row": null,
            "grid_template_areas": null,
            "grid_template_columns": null,
            "grid_template_rows": null,
            "height": null,
            "justify_content": null,
            "justify_items": null,
            "left": null,
            "margin": null,
            "max_height": null,
            "max_width": null,
            "min_height": null,
            "min_width": null,
            "object_fit": null,
            "object_position": null,
            "order": null,
            "overflow": null,
            "overflow_x": null,
            "overflow_y": null,
            "padding": null,
            "right": null,
            "top": null,
            "visibility": null,
            "width": null
          }
        },
        "227d6e9bb3534ae6941a31f7a4bf23d8": {
          "model_module": "@jupyter-widgets/base",
          "model_module_version": "1.2.0",
          "model_name": "LayoutModel",
          "state": {
            "_model_module": "@jupyter-widgets/base",
            "_model_module_version": "1.2.0",
            "_model_name": "LayoutModel",
            "_view_count": null,
            "_view_module": "@jupyter-widgets/base",
            "_view_module_version": "1.2.0",
            "_view_name": "LayoutView",
            "align_content": null,
            "align_items": null,
            "align_self": null,
            "border": null,
            "bottom": null,
            "display": null,
            "flex": null,
            "flex_flow": null,
            "grid_area": null,
            "grid_auto_columns": null,
            "grid_auto_flow": null,
            "grid_auto_rows": null,
            "grid_column": null,
            "grid_gap": null,
            "grid_row": null,
            "grid_template_areas": null,
            "grid_template_columns": null,
            "grid_template_rows": null,
            "height": null,
            "justify_content": null,
            "justify_items": null,
            "left": null,
            "margin": null,
            "max_height": null,
            "max_width": null,
            "min_height": null,
            "min_width": null,
            "object_fit": null,
            "object_position": null,
            "order": null,
            "overflow": null,
            "overflow_x": null,
            "overflow_y": null,
            "padding": null,
            "right": null,
            "top": null,
            "visibility": null,
            "width": null
          }
        },
        "22d2a9e67f0c413f93b9d131a6ff7bca": {
          "model_module": "@jupyter-widgets/base",
          "model_module_version": "1.2.0",
          "model_name": "LayoutModel",
          "state": {
            "_model_module": "@jupyter-widgets/base",
            "_model_module_version": "1.2.0",
            "_model_name": "LayoutModel",
            "_view_count": null,
            "_view_module": "@jupyter-widgets/base",
            "_view_module_version": "1.2.0",
            "_view_name": "LayoutView",
            "align_content": null,
            "align_items": null,
            "align_self": null,
            "border": null,
            "bottom": null,
            "display": null,
            "flex": null,
            "flex_flow": null,
            "grid_area": null,
            "grid_auto_columns": null,
            "grid_auto_flow": null,
            "grid_auto_rows": null,
            "grid_column": null,
            "grid_gap": null,
            "grid_row": null,
            "grid_template_areas": null,
            "grid_template_columns": null,
            "grid_template_rows": null,
            "height": null,
            "justify_content": null,
            "justify_items": null,
            "left": null,
            "margin": null,
            "max_height": null,
            "max_width": null,
            "min_height": null,
            "min_width": null,
            "object_fit": null,
            "object_position": null,
            "order": null,
            "overflow": null,
            "overflow_x": null,
            "overflow_y": null,
            "padding": null,
            "right": null,
            "top": null,
            "visibility": null,
            "width": null
          }
        },
        "237f9c1b78144a4bbe2b7ea2b564406f": {
          "model_module": "@jupyter-widgets/controls",
          "model_module_version": "1.5.0",
          "model_name": "HBoxModel",
          "state": {
            "_dom_classes": [],
            "_model_module": "@jupyter-widgets/controls",
            "_model_module_version": "1.5.0",
            "_model_name": "HBoxModel",
            "_view_count": null,
            "_view_module": "@jupyter-widgets/controls",
            "_view_module_version": "1.5.0",
            "_view_name": "HBoxView",
            "box_style": "",
            "children": [
              "IPY_MODEL_014c9957de9b4520bbeb99d5b04bb699",
              "IPY_MODEL_90eb6f60a7d3415aaf4a32a122b64ec1",
              "IPY_MODEL_4f50c223c6c04b31a9349f5ae06eb80f"
            ],
            "layout": "IPY_MODEL_27e5bd55b93140aab03ba3d2e921b329"
          }
        },
        "27e5bd55b93140aab03ba3d2e921b329": {
          "model_module": "@jupyter-widgets/base",
          "model_module_version": "1.2.0",
          "model_name": "LayoutModel",
          "state": {
            "_model_module": "@jupyter-widgets/base",
            "_model_module_version": "1.2.0",
            "_model_name": "LayoutModel",
            "_view_count": null,
            "_view_module": "@jupyter-widgets/base",
            "_view_module_version": "1.2.0",
            "_view_name": "LayoutView",
            "align_content": null,
            "align_items": null,
            "align_self": null,
            "border": null,
            "bottom": null,
            "display": null,
            "flex": null,
            "flex_flow": null,
            "grid_area": null,
            "grid_auto_columns": null,
            "grid_auto_flow": null,
            "grid_auto_rows": null,
            "grid_column": null,
            "grid_gap": null,
            "grid_row": null,
            "grid_template_areas": null,
            "grid_template_columns": null,
            "grid_template_rows": null,
            "height": null,
            "justify_content": null,
            "justify_items": null,
            "left": null,
            "margin": null,
            "max_height": null,
            "max_width": null,
            "min_height": null,
            "min_width": null,
            "object_fit": null,
            "object_position": null,
            "order": null,
            "overflow": null,
            "overflow_x": null,
            "overflow_y": null,
            "padding": null,
            "right": null,
            "top": null,
            "visibility": null,
            "width": null
          }
        },
        "29bea068c9b240ee848087e689398739": {
          "model_module": "@jupyter-widgets/base",
          "model_module_version": "1.2.0",
          "model_name": "LayoutModel",
          "state": {
            "_model_module": "@jupyter-widgets/base",
            "_model_module_version": "1.2.0",
            "_model_name": "LayoutModel",
            "_view_count": null,
            "_view_module": "@jupyter-widgets/base",
            "_view_module_version": "1.2.0",
            "_view_name": "LayoutView",
            "align_content": null,
            "align_items": null,
            "align_self": null,
            "border": null,
            "bottom": null,
            "display": null,
            "flex": null,
            "flex_flow": null,
            "grid_area": null,
            "grid_auto_columns": null,
            "grid_auto_flow": null,
            "grid_auto_rows": null,
            "grid_column": null,
            "grid_gap": null,
            "grid_row": null,
            "grid_template_areas": null,
            "grid_template_columns": null,
            "grid_template_rows": null,
            "height": null,
            "justify_content": null,
            "justify_items": null,
            "left": null,
            "margin": null,
            "max_height": null,
            "max_width": null,
            "min_height": null,
            "min_width": null,
            "object_fit": null,
            "object_position": null,
            "order": null,
            "overflow": null,
            "overflow_x": null,
            "overflow_y": null,
            "padding": null,
            "right": null,
            "top": null,
            "visibility": null,
            "width": null
          }
        },
        "2b85e880ddcb4c52993f444d8c10af57": {
          "model_module": "@jupyter-widgets/base",
          "model_module_version": "1.2.0",
          "model_name": "LayoutModel",
          "state": {
            "_model_module": "@jupyter-widgets/base",
            "_model_module_version": "1.2.0",
            "_model_name": "LayoutModel",
            "_view_count": null,
            "_view_module": "@jupyter-widgets/base",
            "_view_module_version": "1.2.0",
            "_view_name": "LayoutView",
            "align_content": null,
            "align_items": null,
            "align_self": null,
            "border": null,
            "bottom": null,
            "display": null,
            "flex": null,
            "flex_flow": null,
            "grid_area": null,
            "grid_auto_columns": null,
            "grid_auto_flow": null,
            "grid_auto_rows": null,
            "grid_column": null,
            "grid_gap": null,
            "grid_row": null,
            "grid_template_areas": null,
            "grid_template_columns": null,
            "grid_template_rows": null,
            "height": null,
            "justify_content": null,
            "justify_items": null,
            "left": null,
            "margin": null,
            "max_height": null,
            "max_width": null,
            "min_height": null,
            "min_width": null,
            "object_fit": null,
            "object_position": null,
            "order": null,
            "overflow": null,
            "overflow_x": null,
            "overflow_y": null,
            "padding": null,
            "right": null,
            "top": null,
            "visibility": null,
            "width": null
          }
        },
        "2e0ebde5fef1409d8f7c48a73611bad8": {
          "model_module": "@jupyter-widgets/base",
          "model_module_version": "1.2.0",
          "model_name": "LayoutModel",
          "state": {
            "_model_module": "@jupyter-widgets/base",
            "_model_module_version": "1.2.0",
            "_model_name": "LayoutModel",
            "_view_count": null,
            "_view_module": "@jupyter-widgets/base",
            "_view_module_version": "1.2.0",
            "_view_name": "LayoutView",
            "align_content": null,
            "align_items": null,
            "align_self": null,
            "border": null,
            "bottom": null,
            "display": null,
            "flex": null,
            "flex_flow": null,
            "grid_area": null,
            "grid_auto_columns": null,
            "grid_auto_flow": null,
            "grid_auto_rows": null,
            "grid_column": null,
            "grid_gap": null,
            "grid_row": null,
            "grid_template_areas": null,
            "grid_template_columns": null,
            "grid_template_rows": null,
            "height": null,
            "justify_content": null,
            "justify_items": null,
            "left": null,
            "margin": null,
            "max_height": null,
            "max_width": null,
            "min_height": null,
            "min_width": null,
            "object_fit": null,
            "object_position": null,
            "order": null,
            "overflow": null,
            "overflow_x": null,
            "overflow_y": null,
            "padding": null,
            "right": null,
            "top": null,
            "visibility": null,
            "width": null
          }
        },
        "352794ed9489420983afe7edc9c88ef9": {
          "model_module": "@jupyter-widgets/controls",
          "model_module_version": "1.5.0",
          "model_name": "ProgressStyleModel",
          "state": {
            "_model_module": "@jupyter-widgets/controls",
            "_model_module_version": "1.5.0",
            "_model_name": "ProgressStyleModel",
            "_view_count": null,
            "_view_module": "@jupyter-widgets/base",
            "_view_module_version": "1.2.0",
            "_view_name": "StyleView",
            "bar_color": null,
            "description_width": ""
          }
        },
        "3a80d6bbc4c7470bbbddb819f97f0e65": {
          "model_module": "@jupyter-widgets/controls",
          "model_module_version": "1.5.0",
          "model_name": "FloatProgressModel",
          "state": {
            "_dom_classes": [],
            "_model_module": "@jupyter-widgets/controls",
            "_model_module_version": "1.5.0",
            "_model_name": "FloatProgressModel",
            "_view_count": null,
            "_view_module": "@jupyter-widgets/controls",
            "_view_module_version": "1.5.0",
            "_view_name": "ProgressView",
            "bar_style": "success",
            "description": "",
            "description_tooltip": null,
            "layout": "IPY_MODEL_f8ac7b87a3a240288bee07e34d7c356b",
            "max": 435779157,
            "min": 0,
            "orientation": "horizontal",
            "style": "IPY_MODEL_48c26692c9f040a899f443956499a5e5",
            "value": 435779157
          }
        },
        "3be317a32558430c9afefe948b62b5b4": {
          "model_module": "@jupyter-widgets/base",
          "model_module_version": "1.2.0",
          "model_name": "LayoutModel",
          "state": {
            "_model_module": "@jupyter-widgets/base",
            "_model_module_version": "1.2.0",
            "_model_name": "LayoutModel",
            "_view_count": null,
            "_view_module": "@jupyter-widgets/base",
            "_view_module_version": "1.2.0",
            "_view_name": "LayoutView",
            "align_content": null,
            "align_items": null,
            "align_self": null,
            "border": null,
            "bottom": null,
            "display": null,
            "flex": null,
            "flex_flow": null,
            "grid_area": null,
            "grid_auto_columns": null,
            "grid_auto_flow": null,
            "grid_auto_rows": null,
            "grid_column": null,
            "grid_gap": null,
            "grid_row": null,
            "grid_template_areas": null,
            "grid_template_columns": null,
            "grid_template_rows": null,
            "height": null,
            "justify_content": null,
            "justify_items": null,
            "left": null,
            "margin": null,
            "max_height": null,
            "max_width": null,
            "min_height": null,
            "min_width": null,
            "object_fit": null,
            "object_position": null,
            "order": null,
            "overflow": null,
            "overflow_x": null,
            "overflow_y": null,
            "padding": null,
            "right": null,
            "top": null,
            "visibility": null,
            "width": null
          }
        },
        "42ca5c96d3bd4feea5cdca0fa418a9d4": {
          "model_module": "@jupyter-widgets/controls",
          "model_module_version": "1.5.0",
          "model_name": "FloatProgressModel",
          "state": {
            "_dom_classes": [],
            "_model_module": "@jupyter-widgets/controls",
            "_model_module_version": "1.5.0",
            "_model_name": "FloatProgressModel",
            "_view_count": null,
            "_view_module": "@jupyter-widgets/controls",
            "_view_module_version": "1.5.0",
            "_view_name": "ProgressView",
            "bar_style": "success",
            "description": "",
            "description_tooltip": null,
            "layout": "IPY_MODEL_f09a775574cf4c3fb918ca13aca02183",
            "max": 8,
            "min": 0,
            "orientation": "horizontal",
            "style": "IPY_MODEL_9f925958b7344beb85c671b549d3e58f",
            "value": 8
          }
        },
        "437ed62710e7471cb80b76a035f8bf37": {
          "model_module": "@jupyter-widgets/base",
          "model_module_version": "1.2.0",
          "model_name": "LayoutModel",
          "state": {
            "_model_module": "@jupyter-widgets/base",
            "_model_module_version": "1.2.0",
            "_model_name": "LayoutModel",
            "_view_count": null,
            "_view_module": "@jupyter-widgets/base",
            "_view_module_version": "1.2.0",
            "_view_name": "LayoutView",
            "align_content": null,
            "align_items": null,
            "align_self": null,
            "border": null,
            "bottom": null,
            "display": null,
            "flex": null,
            "flex_flow": null,
            "grid_area": null,
            "grid_auto_columns": null,
            "grid_auto_flow": null,
            "grid_auto_rows": null,
            "grid_column": null,
            "grid_gap": null,
            "grid_row": null,
            "grid_template_areas": null,
            "grid_template_columns": null,
            "grid_template_rows": null,
            "height": null,
            "justify_content": null,
            "justify_items": null,
            "left": null,
            "margin": null,
            "max_height": null,
            "max_width": null,
            "min_height": null,
            "min_width": null,
            "object_fit": null,
            "object_position": null,
            "order": null,
            "overflow": null,
            "overflow_x": null,
            "overflow_y": null,
            "padding": null,
            "right": null,
            "top": null,
            "visibility": null,
            "width": null
          }
        },
        "4549fac9e44541a8a60a7301f6df38aa": {
          "model_module": "@jupyter-widgets/controls",
          "model_module_version": "1.5.0",
          "model_name": "DescriptionStyleModel",
          "state": {
            "_model_module": "@jupyter-widgets/controls",
            "_model_module_version": "1.5.0",
            "_model_name": "DescriptionStyleModel",
            "_view_count": null,
            "_view_module": "@jupyter-widgets/base",
            "_view_module_version": "1.2.0",
            "_view_name": "StyleView",
            "description_width": ""
          }
        },
        "456fed0d0c6f457a9efe000035d957d1": {
          "model_module": "@jupyter-widgets/controls",
          "model_module_version": "1.5.0",
          "model_name": "HTMLModel",
          "state": {
            "_dom_classes": [],
            "_model_module": "@jupyter-widgets/controls",
            "_model_module_version": "1.5.0",
            "_model_name": "HTMLModel",
            "_view_count": null,
            "_view_module": "@jupyter-widgets/controls",
            "_view_module_version": "1.5.0",
            "_view_name": "HTMLView",
            "description": "",
            "description_tooltip": null,
            "layout": "IPY_MODEL_df99fc479f614379b4f937ed7cd5a2cd",
            "placeholder": "​",
            "style": "IPY_MODEL_120ef7ce1f9f4d6baf8b3cb4001643ba",
            "value": "Casting to class labels: 100%"
          }
        },
        "4571e2909b1944e4809440f4b37f0261": {
          "model_module": "@jupyter-widgets/controls",
          "model_module_version": "1.5.0",
          "model_name": "DescriptionStyleModel",
          "state": {
            "_model_module": "@jupyter-widgets/controls",
            "_model_module_version": "1.5.0",
            "_model_name": "DescriptionStyleModel",
            "_view_count": null,
            "_view_module": "@jupyter-widgets/base",
            "_view_module_version": "1.2.0",
            "_view_name": "StyleView",
            "description_width": ""
          }
        },
        "45fdeab0033b44949a548d9b560bc2cf": {
          "model_module": "@jupyter-widgets/controls",
          "model_module_version": "1.5.0",
          "model_name": "HBoxModel",
          "state": {
            "_dom_classes": [],
            "_model_module": "@jupyter-widgets/controls",
            "_model_module_version": "1.5.0",
            "_model_name": "HBoxModel",
            "_view_count": null,
            "_view_module": "@jupyter-widgets/controls",
            "_view_module_version": "1.5.0",
            "_view_name": "HBoxView",
            "box_style": "",
            "children": [
              "IPY_MODEL_553afb97c2b94de08340a9b1d6ad03c7",
              "IPY_MODEL_42ca5c96d3bd4feea5cdca0fa418a9d4",
              "IPY_MODEL_5c42cde8cddd4a57b13caa3dfce1d052"
            ],
            "layout": "IPY_MODEL_027b026b8a754be98ad46a3364509379"
          }
        },
        "464517538c5c4e44999ce91af2f5441d": {
          "model_module": "@jupyter-widgets/controls",
          "model_module_version": "1.5.0",
          "model_name": "ProgressStyleModel",
          "state": {
            "_model_module": "@jupyter-widgets/controls",
            "_model_module_version": "1.5.0",
            "_model_name": "ProgressStyleModel",
            "_view_count": null,
            "_view_module": "@jupyter-widgets/base",
            "_view_module_version": "1.2.0",
            "_view_name": "StyleView",
            "bar_color": null,
            "description_width": ""
          }
        },
        "46b59758bb25433884f58fdbdc15af98": {
          "model_module": "@jupyter-widgets/controls",
          "model_module_version": "1.5.0",
          "model_name": "DescriptionStyleModel",
          "state": {
            "_model_module": "@jupyter-widgets/controls",
            "_model_module_version": "1.5.0",
            "_model_name": "DescriptionStyleModel",
            "_view_count": null,
            "_view_module": "@jupyter-widgets/base",
            "_view_module_version": "1.2.0",
            "_view_name": "StyleView",
            "description_width": ""
          }
        },
        "46cfe5edb79042c4a324d59222abc08d": {
          "model_module": "@jupyter-widgets/controls",
          "model_module_version": "1.5.0",
          "model_name": "DescriptionStyleModel",
          "state": {
            "_model_module": "@jupyter-widgets/controls",
            "_model_module_version": "1.5.0",
            "_model_name": "DescriptionStyleModel",
            "_view_count": null,
            "_view_module": "@jupyter-widgets/base",
            "_view_module_version": "1.2.0",
            "_view_name": "StyleView",
            "description_width": ""
          }
        },
        "48c26692c9f040a899f443956499a5e5": {
          "model_module": "@jupyter-widgets/controls",
          "model_module_version": "1.5.0",
          "model_name": "ProgressStyleModel",
          "state": {
            "_model_module": "@jupyter-widgets/controls",
            "_model_module_version": "1.5.0",
            "_model_name": "ProgressStyleModel",
            "_view_count": null,
            "_view_module": "@jupyter-widgets/base",
            "_view_module_version": "1.2.0",
            "_view_name": "StyleView",
            "bar_color": null,
            "description_width": ""
          }
        },
        "4f50c223c6c04b31a9349f5ae06eb80f": {
          "model_module": "@jupyter-widgets/controls",
          "model_module_version": "1.5.0",
          "model_name": "HTMLModel",
          "state": {
            "_dom_classes": [],
            "_model_module": "@jupyter-widgets/controls",
            "_model_module_version": "1.5.0",
            "_model_name": "HTMLModel",
            "_view_count": null,
            "_view_module": "@jupyter-widgets/controls",
            "_view_module_version": "1.5.0",
            "_view_name": "HTMLView",
            "description": "",
            "description_tooltip": null,
            "layout": "IPY_MODEL_5dda1685ce75481c998b571d708a422b",
            "placeholder": "​",
            "style": "IPY_MODEL_46b59758bb25433884f58fdbdc15af98",
            "value": " 1/1 [00:01&lt;00:00,  1.40s/ba]"
          }
        },
        "547bcd165ad946ccbedce30eda504182": {
          "model_module": "@jupyter-widgets/base",
          "model_module_version": "1.2.0",
          "model_name": "LayoutModel",
          "state": {
            "_model_module": "@jupyter-widgets/base",
            "_model_module_version": "1.2.0",
            "_model_name": "LayoutModel",
            "_view_count": null,
            "_view_module": "@jupyter-widgets/base",
            "_view_module_version": "1.2.0",
            "_view_name": "LayoutView",
            "align_content": null,
            "align_items": null,
            "align_self": null,
            "border": null,
            "bottom": null,
            "display": null,
            "flex": null,
            "flex_flow": null,
            "grid_area": null,
            "grid_auto_columns": null,
            "grid_auto_flow": null,
            "grid_auto_rows": null,
            "grid_column": null,
            "grid_gap": null,
            "grid_row": null,
            "grid_template_areas": null,
            "grid_template_columns": null,
            "grid_template_rows": null,
            "height": null,
            "justify_content": null,
            "justify_items": null,
            "left": null,
            "margin": null,
            "max_height": null,
            "max_width": null,
            "min_height": null,
            "min_width": null,
            "object_fit": null,
            "object_position": null,
            "order": null,
            "overflow": null,
            "overflow_x": null,
            "overflow_y": null,
            "padding": null,
            "right": null,
            "top": null,
            "visibility": null,
            "width": null
          }
        },
        "55037d51910e4ad18e8c7588d4386216": {
          "model_module": "@jupyter-widgets/controls",
          "model_module_version": "1.5.0",
          "model_name": "DescriptionStyleModel",
          "state": {
            "_model_module": "@jupyter-widgets/controls",
            "_model_module_version": "1.5.0",
            "_model_name": "DescriptionStyleModel",
            "_view_count": null,
            "_view_module": "@jupyter-widgets/base",
            "_view_module_version": "1.2.0",
            "_view_name": "StyleView",
            "description_width": ""
          }
        },
        "553afb97c2b94de08340a9b1d6ad03c7": {
          "model_module": "@jupyter-widgets/controls",
          "model_module_version": "1.5.0",
          "model_name": "HTMLModel",
          "state": {
            "_dom_classes": [],
            "_model_module": "@jupyter-widgets/controls",
            "_model_module_version": "1.5.0",
            "_model_name": "HTMLModel",
            "_view_count": null,
            "_view_module": "@jupyter-widgets/controls",
            "_view_module_version": "1.5.0",
            "_view_name": "HTMLView",
            "description": "",
            "description_tooltip": null,
            "layout": "IPY_MODEL_0dbe696b6b894967be210652acbb7a93",
            "placeholder": "​",
            "style": "IPY_MODEL_dad43216556947ef98ae1d892257eff0",
            "value": "100%"
          }
        },
        "58785c55fe0a4740898c89c50ecfb503": {
          "model_module": "@jupyter-widgets/base",
          "model_module_version": "1.2.0",
          "model_name": "LayoutModel",
          "state": {
            "_model_module": "@jupyter-widgets/base",
            "_model_module_version": "1.2.0",
            "_model_name": "LayoutModel",
            "_view_count": null,
            "_view_module": "@jupyter-widgets/base",
            "_view_module_version": "1.2.0",
            "_view_name": "LayoutView",
            "align_content": null,
            "align_items": null,
            "align_self": null,
            "border": null,
            "bottom": null,
            "display": null,
            "flex": null,
            "flex_flow": null,
            "grid_area": null,
            "grid_auto_columns": null,
            "grid_auto_flow": null,
            "grid_auto_rows": null,
            "grid_column": null,
            "grid_gap": null,
            "grid_row": null,
            "grid_template_areas": null,
            "grid_template_columns": null,
            "grid_template_rows": null,
            "height": null,
            "justify_content": null,
            "justify_items": null,
            "left": null,
            "margin": null,
            "max_height": null,
            "max_width": null,
            "min_height": null,
            "min_width": null,
            "object_fit": null,
            "object_position": null,
            "order": null,
            "overflow": null,
            "overflow_x": null,
            "overflow_y": null,
            "padding": null,
            "right": null,
            "top": null,
            "visibility": null,
            "width": null
          }
        },
        "5954306ec4f54a0aa6df3985f2d82917": {
          "model_module": "@jupyter-widgets/controls",
          "model_module_version": "1.5.0",
          "model_name": "FloatProgressModel",
          "state": {
            "_dom_classes": [],
            "_model_module": "@jupyter-widgets/controls",
            "_model_module_version": "1.5.0",
            "_model_name": "FloatProgressModel",
            "_view_count": null,
            "_view_module": "@jupyter-widgets/controls",
            "_view_module_version": "1.5.0",
            "_view_name": "ProgressView",
            "bar_style": "success",
            "description": "",
            "description_tooltip": null,
            "layout": "IPY_MODEL_2e0ebde5fef1409d8f7c48a73611bad8",
            "max": 29,
            "min": 0,
            "orientation": "horizontal",
            "style": "IPY_MODEL_e25d02af487a40fea5c3c7f6346faf33",
            "value": 29
          }
        },
        "5c42cde8cddd4a57b13caa3dfce1d052": {
          "model_module": "@jupyter-widgets/controls",
          "model_module_version": "1.5.0",
          "model_name": "HTMLModel",
          "state": {
            "_dom_classes": [],
            "_model_module": "@jupyter-widgets/controls",
            "_model_module_version": "1.5.0",
            "_model_name": "HTMLModel",
            "_view_count": null,
            "_view_module": "@jupyter-widgets/controls",
            "_view_module_version": "1.5.0",
            "_view_name": "HTMLView",
            "description": "",
            "description_tooltip": null,
            "layout": "IPY_MODEL_547bcd165ad946ccbedce30eda504182",
            "placeholder": "​",
            "style": "IPY_MODEL_4549fac9e44541a8a60a7301f6df38aa",
            "value": " 8/8 [00:20&lt;00:00,  2.42s/ba]"
          }
        },
        "5dda1685ce75481c998b571d708a422b": {
          "model_module": "@jupyter-widgets/base",
          "model_module_version": "1.2.0",
          "model_name": "LayoutModel",
          "state": {
            "_model_module": "@jupyter-widgets/base",
            "_model_module_version": "1.2.0",
            "_model_name": "LayoutModel",
            "_view_count": null,
            "_view_module": "@jupyter-widgets/base",
            "_view_module_version": "1.2.0",
            "_view_name": "LayoutView",
            "align_content": null,
            "align_items": null,
            "align_self": null,
            "border": null,
            "bottom": null,
            "display": null,
            "flex": null,
            "flex_flow": null,
            "grid_area": null,
            "grid_auto_columns": null,
            "grid_auto_flow": null,
            "grid_auto_rows": null,
            "grid_column": null,
            "grid_gap": null,
            "grid_row": null,
            "grid_template_areas": null,
            "grid_template_columns": null,
            "grid_template_rows": null,
            "height": null,
            "justify_content": null,
            "justify_items": null,
            "left": null,
            "margin": null,
            "max_height": null,
            "max_width": null,
            "min_height": null,
            "min_width": null,
            "object_fit": null,
            "object_position": null,
            "order": null,
            "overflow": null,
            "overflow_x": null,
            "overflow_y": null,
            "padding": null,
            "right": null,
            "top": null,
            "visibility": null,
            "width": null
          }
        },
        "616ab9971dce40bf8bfea4588471f220": {
          "model_module": "@jupyter-widgets/base",
          "model_module_version": "1.2.0",
          "model_name": "LayoutModel",
          "state": {
            "_model_module": "@jupyter-widgets/base",
            "_model_module_version": "1.2.0",
            "_model_name": "LayoutModel",
            "_view_count": null,
            "_view_module": "@jupyter-widgets/base",
            "_view_module_version": "1.2.0",
            "_view_name": "LayoutView",
            "align_content": null,
            "align_items": null,
            "align_self": null,
            "border": null,
            "bottom": null,
            "display": null,
            "flex": null,
            "flex_flow": null,
            "grid_area": null,
            "grid_auto_columns": null,
            "grid_auto_flow": null,
            "grid_auto_rows": null,
            "grid_column": null,
            "grid_gap": null,
            "grid_row": null,
            "grid_template_areas": null,
            "grid_template_columns": null,
            "grid_template_rows": null,
            "height": null,
            "justify_content": null,
            "justify_items": null,
            "left": null,
            "margin": null,
            "max_height": null,
            "max_width": null,
            "min_height": null,
            "min_width": null,
            "object_fit": null,
            "object_position": null,
            "order": null,
            "overflow": null,
            "overflow_x": null,
            "overflow_y": null,
            "padding": null,
            "right": null,
            "top": null,
            "visibility": null,
            "width": null
          }
        },
        "6668dec519c142ed9ccd72b96fe63694": {
          "model_module": "@jupyter-widgets/controls",
          "model_module_version": "1.5.0",
          "model_name": "HBoxModel",
          "state": {
            "_dom_classes": [],
            "_model_module": "@jupyter-widgets/controls",
            "_model_module_version": "1.5.0",
            "_model_name": "HBoxModel",
            "_view_count": null,
            "_view_module": "@jupyter-widgets/controls",
            "_view_module_version": "1.5.0",
            "_view_name": "HBoxView",
            "box_style": "",
            "children": [
              "IPY_MODEL_c9d5555b53184549886d41a0e0b88023",
              "IPY_MODEL_3a80d6bbc4c7470bbbddb819f97f0e65",
              "IPY_MODEL_8a2a47b0ca4c49b9b9ac41367c81d881"
            ],
            "layout": "IPY_MODEL_1b2f749d80974901be0e10a5d33676a5"
          }
        },
        "6eaa597faf3246c8be02a2d574bd0bac": {
          "model_module": "@jupyter-widgets/controls",
          "model_module_version": "1.5.0",
          "model_name": "FloatProgressModel",
          "state": {
            "_dom_classes": [],
            "_model_module": "@jupyter-widgets/controls",
            "_model_module_version": "1.5.0",
            "_model_name": "FloatProgressModel",
            "_view_count": null,
            "_view_module": "@jupyter-widgets/controls",
            "_view_module_version": "1.5.0",
            "_view_name": "ProgressView",
            "bar_style": "success",
            "description": "",
            "description_tooltip": null,
            "layout": "IPY_MODEL_2b85e880ddcb4c52993f444d8c10af57",
            "max": 12,
            "min": 0,
            "orientation": "horizontal",
            "style": "IPY_MODEL_7fa1055046444d35b128fe37accf10d9",
            "value": 12
          }
        },
        "71089253586c4658a5183e0583c2c9fc": {
          "model_module": "@jupyter-widgets/controls",
          "model_module_version": "1.5.0",
          "model_name": "HTMLModel",
          "state": {
            "_dom_classes": [],
            "_model_module": "@jupyter-widgets/controls",
            "_model_module_version": "1.5.0",
            "_model_name": "HTMLModel",
            "_view_count": null,
            "_view_module": "@jupyter-widgets/controls",
            "_view_module_version": "1.5.0",
            "_view_name": "HTMLView",
            "description": "",
            "description_tooltip": null,
            "layout": "IPY_MODEL_138fcfd302a844afae7feb5e0a704688",
            "placeholder": "​",
            "style": "IPY_MODEL_9c6321f62ceb4e74aa5082e56ca021f4",
            "value": " 2/2 [00:05&lt;00:00,  2.57s/ba]"
          }
        },
        "7fa1055046444d35b128fe37accf10d9": {
          "model_module": "@jupyter-widgets/controls",
          "model_module_version": "1.5.0",
          "model_name": "ProgressStyleModel",
          "state": {
            "_model_module": "@jupyter-widgets/controls",
            "_model_module_version": "1.5.0",
            "_model_name": "ProgressStyleModel",
            "_view_count": null,
            "_view_module": "@jupyter-widgets/base",
            "_view_module_version": "1.2.0",
            "_view_name": "StyleView",
            "bar_color": null,
            "description_width": ""
          }
        },
        "82681b7b2103404db81e35f8bd511e96": {
          "model_module": "@jupyter-widgets/controls",
          "model_module_version": "1.5.0",
          "model_name": "DescriptionStyleModel",
          "state": {
            "_model_module": "@jupyter-widgets/controls",
            "_model_module_version": "1.5.0",
            "_model_name": "DescriptionStyleModel",
            "_view_count": null,
            "_view_module": "@jupyter-widgets/base",
            "_view_module_version": "1.2.0",
            "_view_name": "StyleView",
            "description_width": ""
          }
        },
        "833f6b0182174078b217459baa1110b2": {
          "model_module": "@jupyter-widgets/base",
          "model_module_version": "1.2.0",
          "model_name": "LayoutModel",
          "state": {
            "_model_module": "@jupyter-widgets/base",
            "_model_module_version": "1.2.0",
            "_model_name": "LayoutModel",
            "_view_count": null,
            "_view_module": "@jupyter-widgets/base",
            "_view_module_version": "1.2.0",
            "_view_name": "LayoutView",
            "align_content": null,
            "align_items": null,
            "align_self": null,
            "border": null,
            "bottom": null,
            "display": null,
            "flex": null,
            "flex_flow": null,
            "grid_area": null,
            "grid_auto_columns": null,
            "grid_auto_flow": null,
            "grid_auto_rows": null,
            "grid_column": null,
            "grid_gap": null,
            "grid_row": null,
            "grid_template_areas": null,
            "grid_template_columns": null,
            "grid_template_rows": null,
            "height": null,
            "justify_content": null,
            "justify_items": null,
            "left": null,
            "margin": null,
            "max_height": null,
            "max_width": null,
            "min_height": null,
            "min_width": null,
            "object_fit": null,
            "object_position": null,
            "order": null,
            "overflow": null,
            "overflow_x": null,
            "overflow_y": null,
            "padding": null,
            "right": null,
            "top": null,
            "visibility": null,
            "width": null
          }
        },
        "88ba726ffd2f4ed0af8d51934a02ece3": {
          "model_module": "@jupyter-widgets/controls",
          "model_module_version": "1.5.0",
          "model_name": "HBoxModel",
          "state": {
            "_dom_classes": [],
            "_model_module": "@jupyter-widgets/controls",
            "_model_module_version": "1.5.0",
            "_model_name": "HBoxModel",
            "_view_count": null,
            "_view_module": "@jupyter-widgets/controls",
            "_view_module_version": "1.5.0",
            "_view_name": "HBoxView",
            "box_style": "",
            "children": [
              "IPY_MODEL_95624c14d3aa41a2a2a0c84d0f75a3e4",
              "IPY_MODEL_6eaa597faf3246c8be02a2d574bd0bac",
              "IPY_MODEL_fbb9eace1cab49c7a1c9a57d2d77150b"
            ],
            "layout": "IPY_MODEL_22d2a9e67f0c413f93b9d131a6ff7bca"
          }
        },
        "890814f059c1466a84514caf3e40bd59": {
          "model_module": "@jupyter-widgets/base",
          "model_module_version": "1.2.0",
          "model_name": "LayoutModel",
          "state": {
            "_model_module": "@jupyter-widgets/base",
            "_model_module_version": "1.2.0",
            "_model_name": "LayoutModel",
            "_view_count": null,
            "_view_module": "@jupyter-widgets/base",
            "_view_module_version": "1.2.0",
            "_view_name": "LayoutView",
            "align_content": null,
            "align_items": null,
            "align_self": null,
            "border": null,
            "bottom": null,
            "display": null,
            "flex": null,
            "flex_flow": null,
            "grid_area": null,
            "grid_auto_columns": null,
            "grid_auto_flow": null,
            "grid_auto_rows": null,
            "grid_column": null,
            "grid_gap": null,
            "grid_row": null,
            "grid_template_areas": null,
            "grid_template_columns": null,
            "grid_template_rows": null,
            "height": null,
            "justify_content": null,
            "justify_items": null,
            "left": null,
            "margin": null,
            "max_height": null,
            "max_width": null,
            "min_height": null,
            "min_width": null,
            "object_fit": null,
            "object_position": null,
            "order": null,
            "overflow": null,
            "overflow_x": null,
            "overflow_y": null,
            "padding": null,
            "right": null,
            "top": null,
            "visibility": null,
            "width": null
          }
        },
        "8a2a47b0ca4c49b9b9ac41367c81d881": {
          "model_module": "@jupyter-widgets/controls",
          "model_module_version": "1.5.0",
          "model_name": "HTMLModel",
          "state": {
            "_dom_classes": [],
            "_model_module": "@jupyter-widgets/controls",
            "_model_module_version": "1.5.0",
            "_model_name": "HTMLModel",
            "_view_count": null,
            "_view_module": "@jupyter-widgets/controls",
            "_view_module_version": "1.5.0",
            "_view_name": "HTMLView",
            "description": "",
            "description_tooltip": null,
            "layout": "IPY_MODEL_21610057cfb040a5b34c5785dd9e70e5",
            "placeholder": "​",
            "style": "IPY_MODEL_cfc0f456df744420a722d8d51be729ef",
            "value": " 416M/416M [00:25&lt;00:00, 18.4MB/s]"
          }
        },
        "90eb6f60a7d3415aaf4a32a122b64ec1": {
          "model_module": "@jupyter-widgets/controls",
          "model_module_version": "1.5.0",
          "model_name": "FloatProgressModel",
          "state": {
            "_dom_classes": [],
            "_model_module": "@jupyter-widgets/controls",
            "_model_module_version": "1.5.0",
            "_model_name": "FloatProgressModel",
            "_view_count": null,
            "_view_module": "@jupyter-widgets/controls",
            "_view_module_version": "1.5.0",
            "_view_name": "ProgressView",
            "bar_style": "success",
            "description": "",
            "description_tooltip": null,
            "layout": "IPY_MODEL_833f6b0182174078b217459baa1110b2",
            "max": 1,
            "min": 0,
            "orientation": "horizontal",
            "style": "IPY_MODEL_c138771cb40f44c1aa5f2ca7eeea2469",
            "value": 1
          }
        },
        "94dc39a9a21d4092a2478194c23750a7": {
          "model_module": "@jupyter-widgets/base",
          "model_module_version": "1.2.0",
          "model_name": "LayoutModel",
          "state": {
            "_model_module": "@jupyter-widgets/base",
            "_model_module_version": "1.2.0",
            "_model_name": "LayoutModel",
            "_view_count": null,
            "_view_module": "@jupyter-widgets/base",
            "_view_module_version": "1.2.0",
            "_view_name": "LayoutView",
            "align_content": null,
            "align_items": null,
            "align_self": null,
            "border": null,
            "bottom": null,
            "display": null,
            "flex": null,
            "flex_flow": null,
            "grid_area": null,
            "grid_auto_columns": null,
            "grid_auto_flow": null,
            "grid_auto_rows": null,
            "grid_column": null,
            "grid_gap": null,
            "grid_row": null,
            "grid_template_areas": null,
            "grid_template_columns": null,
            "grid_template_rows": null,
            "height": null,
            "justify_content": null,
            "justify_items": null,
            "left": null,
            "margin": null,
            "max_height": null,
            "max_width": null,
            "min_height": null,
            "min_width": null,
            "object_fit": null,
            "object_position": null,
            "order": null,
            "overflow": null,
            "overflow_x": null,
            "overflow_y": null,
            "padding": null,
            "right": null,
            "top": null,
            "visibility": null,
            "width": null
          }
        },
        "95624c14d3aa41a2a2a0c84d0f75a3e4": {
          "model_module": "@jupyter-widgets/controls",
          "model_module_version": "1.5.0",
          "model_name": "HTMLModel",
          "state": {
            "_dom_classes": [],
            "_model_module": "@jupyter-widgets/controls",
            "_model_module_version": "1.5.0",
            "_model_name": "HTMLModel",
            "_view_count": null,
            "_view_module": "@jupyter-widgets/controls",
            "_view_module_version": "1.5.0",
            "_view_name": "HTMLView",
            "description": "",
            "description_tooltip": null,
            "layout": "IPY_MODEL_29bea068c9b240ee848087e689398739",
            "placeholder": "​",
            "style": "IPY_MODEL_82681b7b2103404db81e35f8bd511e96",
            "value": "Casting to class labels: 100%"
          }
        },
        "95e5d2cd58c5404fb4ce60b02b3cbe2d": {
          "model_module": "@jupyter-widgets/controls",
          "model_module_version": "1.5.0",
          "model_name": "HTMLModel",
          "state": {
            "_dom_classes": [],
            "_model_module": "@jupyter-widgets/controls",
            "_model_module_version": "1.5.0",
            "_model_name": "HTMLModel",
            "_view_count": null,
            "_view_module": "@jupyter-widgets/controls",
            "_view_module_version": "1.5.0",
            "_view_name": "HTMLView",
            "description": "",
            "description_tooltip": null,
            "layout": "IPY_MODEL_3be317a32558430c9afefe948b62b5b4",
            "placeholder": "​",
            "style": "IPY_MODEL_02bcda77c9f74570a2c870c3a3b1c547",
            "value": "100%"
          }
        },
        "9c6321f62ceb4e74aa5082e56ca021f4": {
          "model_module": "@jupyter-widgets/controls",
          "model_module_version": "1.5.0",
          "model_name": "DescriptionStyleModel",
          "state": {
            "_model_module": "@jupyter-widgets/controls",
            "_model_module_version": "1.5.0",
            "_model_name": "DescriptionStyleModel",
            "_view_count": null,
            "_view_module": "@jupyter-widgets/base",
            "_view_module_version": "1.2.0",
            "_view_name": "StyleView",
            "description_width": ""
          }
        },
        "9f925958b7344beb85c671b549d3e58f": {
          "model_module": "@jupyter-widgets/controls",
          "model_module_version": "1.5.0",
          "model_name": "ProgressStyleModel",
          "state": {
            "_model_module": "@jupyter-widgets/controls",
            "_model_module_version": "1.5.0",
            "_model_name": "ProgressStyleModel",
            "_view_count": null,
            "_view_module": "@jupyter-widgets/base",
            "_view_module_version": "1.2.0",
            "_view_name": "StyleView",
            "bar_color": null,
            "description_width": ""
          }
        },
        "a3a73d92eeb54261931d092909a5f256": {
          "model_module": "@jupyter-widgets/controls",
          "model_module_version": "1.5.0",
          "model_name": "HTMLModel",
          "state": {
            "_dom_classes": [],
            "_model_module": "@jupyter-widgets/controls",
            "_model_module_version": "1.5.0",
            "_model_name": "HTMLModel",
            "_view_count": null,
            "_view_module": "@jupyter-widgets/controls",
            "_view_module_version": "1.5.0",
            "_view_name": "HTMLView",
            "description": "",
            "description_tooltip": null,
            "layout": "IPY_MODEL_1aeb8db409d64f039e53e1264082fc8f",
            "placeholder": "​",
            "style": "IPY_MODEL_46cfe5edb79042c4a324d59222abc08d",
            "value": " 29/29 [00:48&lt;00:00,  1.63s/ba]"
          }
        },
        "b1d225ab4a8641a59d3a5490226ab706": {
          "model_module": "@jupyter-widgets/controls",
          "model_module_version": "1.5.0",
          "model_name": "FloatProgressModel",
          "state": {
            "_dom_classes": [],
            "_model_module": "@jupyter-widgets/controls",
            "_model_module_version": "1.5.0",
            "_model_name": "FloatProgressModel",
            "_view_count": null,
            "_view_module": "@jupyter-widgets/controls",
            "_view_module_version": "1.5.0",
            "_view_name": "ProgressView",
            "bar_style": "success",
            "description": "",
            "description_tooltip": null,
            "layout": "IPY_MODEL_58785c55fe0a4740898c89c50ecfb503",
            "max": 2,
            "min": 0,
            "orientation": "horizontal",
            "style": "IPY_MODEL_464517538c5c4e44999ce91af2f5441d",
            "value": 2
          }
        },
        "c138771cb40f44c1aa5f2ca7eeea2469": {
          "model_module": "@jupyter-widgets/controls",
          "model_module_version": "1.5.0",
          "model_name": "ProgressStyleModel",
          "state": {
            "_model_module": "@jupyter-widgets/controls",
            "_model_module_version": "1.5.0",
            "_model_name": "ProgressStyleModel",
            "_view_count": null,
            "_view_module": "@jupyter-widgets/base",
            "_view_module_version": "1.2.0",
            "_view_name": "StyleView",
            "bar_color": null,
            "description_width": ""
          }
        },
        "c9d5555b53184549886d41a0e0b88023": {
          "model_module": "@jupyter-widgets/controls",
          "model_module_version": "1.5.0",
          "model_name": "HTMLModel",
          "state": {
            "_dom_classes": [],
            "_model_module": "@jupyter-widgets/controls",
            "_model_module_version": "1.5.0",
            "_model_name": "HTMLModel",
            "_view_count": null,
            "_view_module": "@jupyter-widgets/controls",
            "_view_module_version": "1.5.0",
            "_view_name": "HTMLView",
            "description": "",
            "description_tooltip": null,
            "layout": "IPY_MODEL_437ed62710e7471cb80b76a035f8bf37",
            "placeholder": "​",
            "style": "IPY_MODEL_4571e2909b1944e4809440f4b37f0261",
            "value": "Downloading pytorch_model.bin: 100%"
          }
        },
        "cfc0f456df744420a722d8d51be729ef": {
          "model_module": "@jupyter-widgets/controls",
          "model_module_version": "1.5.0",
          "model_name": "DescriptionStyleModel",
          "state": {
            "_model_module": "@jupyter-widgets/controls",
            "_model_module_version": "1.5.0",
            "_model_name": "DescriptionStyleModel",
            "_view_count": null,
            "_view_module": "@jupyter-widgets/base",
            "_view_module_version": "1.2.0",
            "_view_name": "StyleView",
            "description_width": ""
          }
        },
        "dad43216556947ef98ae1d892257eff0": {
          "model_module": "@jupyter-widgets/controls",
          "model_module_version": "1.5.0",
          "model_name": "DescriptionStyleModel",
          "state": {
            "_model_module": "@jupyter-widgets/controls",
            "_model_module_version": "1.5.0",
            "_model_name": "DescriptionStyleModel",
            "_view_count": null,
            "_view_module": "@jupyter-widgets/base",
            "_view_module_version": "1.2.0",
            "_view_name": "StyleView",
            "description_width": ""
          }
        },
        "dbea66ac334743eba3a85595e5c3ac9e": {
          "model_module": "@jupyter-widgets/controls",
          "model_module_version": "1.5.0",
          "model_name": "HBoxModel",
          "state": {
            "_dom_classes": [],
            "_model_module": "@jupyter-widgets/controls",
            "_model_module_version": "1.5.0",
            "_model_name": "HBoxModel",
            "_view_count": null,
            "_view_module": "@jupyter-widgets/controls",
            "_view_module_version": "1.5.0",
            "_view_name": "HBoxView",
            "box_style": "",
            "children": [
              "IPY_MODEL_fb43e1a7280f4297bb48f7028efb555d",
              "IPY_MODEL_b1d225ab4a8641a59d3a5490226ab706",
              "IPY_MODEL_71089253586c4658a5183e0583c2c9fc"
            ],
            "layout": "IPY_MODEL_890814f059c1466a84514caf3e40bd59"
          }
        },
        "df0c64a8e65d4e31ad64d0b3e0ffceb0": {
          "model_module": "@jupyter-widgets/controls",
          "model_module_version": "1.5.0",
          "model_name": "DescriptionStyleModel",
          "state": {
            "_model_module": "@jupyter-widgets/controls",
            "_model_module_version": "1.5.0",
            "_model_name": "DescriptionStyleModel",
            "_view_count": null,
            "_view_module": "@jupyter-widgets/base",
            "_view_module_version": "1.2.0",
            "_view_name": "StyleView",
            "description_width": ""
          }
        },
        "df99fc479f614379b4f937ed7cd5a2cd": {
          "model_module": "@jupyter-widgets/base",
          "model_module_version": "1.2.0",
          "model_name": "LayoutModel",
          "state": {
            "_model_module": "@jupyter-widgets/base",
            "_model_module_version": "1.2.0",
            "_model_name": "LayoutModel",
            "_view_count": null,
            "_view_module": "@jupyter-widgets/base",
            "_view_module_version": "1.2.0",
            "_view_name": "LayoutView",
            "align_content": null,
            "align_items": null,
            "align_self": null,
            "border": null,
            "bottom": null,
            "display": null,
            "flex": null,
            "flex_flow": null,
            "grid_area": null,
            "grid_auto_columns": null,
            "grid_auto_flow": null,
            "grid_auto_rows": null,
            "grid_column": null,
            "grid_gap": null,
            "grid_row": null,
            "grid_template_areas": null,
            "grid_template_columns": null,
            "grid_template_rows": null,
            "height": null,
            "justify_content": null,
            "justify_items": null,
            "left": null,
            "margin": null,
            "max_height": null,
            "max_width": null,
            "min_height": null,
            "min_width": null,
            "object_fit": null,
            "object_position": null,
            "order": null,
            "overflow": null,
            "overflow_x": null,
            "overflow_y": null,
            "padding": null,
            "right": null,
            "top": null,
            "visibility": null,
            "width": null
          }
        },
        "e1f2e0bb0917433591f709a9c1b7f796": {
          "model_module": "@jupyter-widgets/base",
          "model_module_version": "1.2.0",
          "model_name": "LayoutModel",
          "state": {
            "_model_module": "@jupyter-widgets/base",
            "_model_module_version": "1.2.0",
            "_model_name": "LayoutModel",
            "_view_count": null,
            "_view_module": "@jupyter-widgets/base",
            "_view_module_version": "1.2.0",
            "_view_name": "LayoutView",
            "align_content": null,
            "align_items": null,
            "align_self": null,
            "border": null,
            "bottom": null,
            "display": null,
            "flex": null,
            "flex_flow": null,
            "grid_area": null,
            "grid_auto_columns": null,
            "grid_auto_flow": null,
            "grid_auto_rows": null,
            "grid_column": null,
            "grid_gap": null,
            "grid_row": null,
            "grid_template_areas": null,
            "grid_template_columns": null,
            "grid_template_rows": null,
            "height": null,
            "justify_content": null,
            "justify_items": null,
            "left": null,
            "margin": null,
            "max_height": null,
            "max_width": null,
            "min_height": null,
            "min_width": null,
            "object_fit": null,
            "object_position": null,
            "order": null,
            "overflow": null,
            "overflow_x": null,
            "overflow_y": null,
            "padding": null,
            "right": null,
            "top": null,
            "visibility": null,
            "width": null
          }
        },
        "e25d02af487a40fea5c3c7f6346faf33": {
          "model_module": "@jupyter-widgets/controls",
          "model_module_version": "1.5.0",
          "model_name": "ProgressStyleModel",
          "state": {
            "_model_module": "@jupyter-widgets/controls",
            "_model_module_version": "1.5.0",
            "_model_name": "ProgressStyleModel",
            "_view_count": null,
            "_view_module": "@jupyter-widgets/base",
            "_view_module_version": "1.2.0",
            "_view_name": "StyleView",
            "bar_color": null,
            "description_width": ""
          }
        },
        "e3b85a45c68a4f2e99e48b0d0c48de66": {
          "model_module": "@jupyter-widgets/controls",
          "model_module_version": "1.5.0",
          "model_name": "DescriptionStyleModel",
          "state": {
            "_model_module": "@jupyter-widgets/controls",
            "_model_module_version": "1.5.0",
            "_model_name": "DescriptionStyleModel",
            "_view_count": null,
            "_view_module": "@jupyter-widgets/base",
            "_view_module_version": "1.2.0",
            "_view_name": "StyleView",
            "description_width": ""
          }
        },
        "eda116cdcc4f4de98fc877aea38782e1": {
          "model_module": "@jupyter-widgets/base",
          "model_module_version": "1.2.0",
          "model_name": "LayoutModel",
          "state": {
            "_model_module": "@jupyter-widgets/base",
            "_model_module_version": "1.2.0",
            "_model_name": "LayoutModel",
            "_view_count": null,
            "_view_module": "@jupyter-widgets/base",
            "_view_module_version": "1.2.0",
            "_view_name": "LayoutView",
            "align_content": null,
            "align_items": null,
            "align_self": null,
            "border": null,
            "bottom": null,
            "display": null,
            "flex": null,
            "flex_flow": null,
            "grid_area": null,
            "grid_auto_columns": null,
            "grid_auto_flow": null,
            "grid_auto_rows": null,
            "grid_column": null,
            "grid_gap": null,
            "grid_row": null,
            "grid_template_areas": null,
            "grid_template_columns": null,
            "grid_template_rows": null,
            "height": null,
            "justify_content": null,
            "justify_items": null,
            "left": null,
            "margin": null,
            "max_height": null,
            "max_width": null,
            "min_height": null,
            "min_width": null,
            "object_fit": null,
            "object_position": null,
            "order": null,
            "overflow": null,
            "overflow_x": null,
            "overflow_y": null,
            "padding": null,
            "right": null,
            "top": null,
            "visibility": null,
            "width": null
          }
        },
        "f09a775574cf4c3fb918ca13aca02183": {
          "model_module": "@jupyter-widgets/base",
          "model_module_version": "1.2.0",
          "model_name": "LayoutModel",
          "state": {
            "_model_module": "@jupyter-widgets/base",
            "_model_module_version": "1.2.0",
            "_model_name": "LayoutModel",
            "_view_count": null,
            "_view_module": "@jupyter-widgets/base",
            "_view_module_version": "1.2.0",
            "_view_name": "LayoutView",
            "align_content": null,
            "align_items": null,
            "align_self": null,
            "border": null,
            "bottom": null,
            "display": null,
            "flex": null,
            "flex_flow": null,
            "grid_area": null,
            "grid_auto_columns": null,
            "grid_auto_flow": null,
            "grid_auto_rows": null,
            "grid_column": null,
            "grid_gap": null,
            "grid_row": null,
            "grid_template_areas": null,
            "grid_template_columns": null,
            "grid_template_rows": null,
            "height": null,
            "justify_content": null,
            "justify_items": null,
            "left": null,
            "margin": null,
            "max_height": null,
            "max_width": null,
            "min_height": null,
            "min_width": null,
            "object_fit": null,
            "object_position": null,
            "order": null,
            "overflow": null,
            "overflow_x": null,
            "overflow_y": null,
            "padding": null,
            "right": null,
            "top": null,
            "visibility": null,
            "width": null
          }
        },
        "f75f905bac464b4ca7f4ad9d90b0e3bf": {
          "model_module": "@jupyter-widgets/controls",
          "model_module_version": "1.5.0",
          "model_name": "FloatProgressModel",
          "state": {
            "_dom_classes": [],
            "_model_module": "@jupyter-widgets/controls",
            "_model_module_version": "1.5.0",
            "_model_name": "FloatProgressModel",
            "_view_count": null,
            "_view_module": "@jupyter-widgets/controls",
            "_view_module_version": "1.5.0",
            "_view_name": "ProgressView",
            "bar_style": "success",
            "description": "",
            "description_tooltip": null,
            "layout": "IPY_MODEL_17a70ba73102426d85d10f9aa700770a",
            "max": 3,
            "min": 0,
            "orientation": "horizontal",
            "style": "IPY_MODEL_352794ed9489420983afe7edc9c88ef9",
            "value": 3
          }
        },
        "f8ac7b87a3a240288bee07e34d7c356b": {
          "model_module": "@jupyter-widgets/base",
          "model_module_version": "1.2.0",
          "model_name": "LayoutModel",
          "state": {
            "_model_module": "@jupyter-widgets/base",
            "_model_module_version": "1.2.0",
            "_model_name": "LayoutModel",
            "_view_count": null,
            "_view_module": "@jupyter-widgets/base",
            "_view_module_version": "1.2.0",
            "_view_name": "LayoutView",
            "align_content": null,
            "align_items": null,
            "align_self": null,
            "border": null,
            "bottom": null,
            "display": null,
            "flex": null,
            "flex_flow": null,
            "grid_area": null,
            "grid_auto_columns": null,
            "grid_auto_flow": null,
            "grid_auto_rows": null,
            "grid_column": null,
            "grid_gap": null,
            "grid_row": null,
            "grid_template_areas": null,
            "grid_template_columns": null,
            "grid_template_rows": null,
            "height": null,
            "justify_content": null,
            "justify_items": null,
            "left": null,
            "margin": null,
            "max_height": null,
            "max_width": null,
            "min_height": null,
            "min_width": null,
            "object_fit": null,
            "object_position": null,
            "order": null,
            "overflow": null,
            "overflow_x": null,
            "overflow_y": null,
            "padding": null,
            "right": null,
            "top": null,
            "visibility": null,
            "width": null
          }
        },
        "fb43e1a7280f4297bb48f7028efb555d": {
          "model_module": "@jupyter-widgets/controls",
          "model_module_version": "1.5.0",
          "model_name": "HTMLModel",
          "state": {
            "_dom_classes": [],
            "_model_module": "@jupyter-widgets/controls",
            "_model_module_version": "1.5.0",
            "_model_name": "HTMLModel",
            "_view_count": null,
            "_view_module": "@jupyter-widgets/controls",
            "_view_module_version": "1.5.0",
            "_view_name": "HTMLView",
            "description": "",
            "description_tooltip": null,
            "layout": "IPY_MODEL_94dc39a9a21d4092a2478194c23750a7",
            "placeholder": "​",
            "style": "IPY_MODEL_fd659d2dbbc043f7ac5fc713abfbe4ad",
            "value": "Casting the dataset: 100%"
          }
        },
        "fbb9eace1cab49c7a1c9a57d2d77150b": {
          "model_module": "@jupyter-widgets/controls",
          "model_module_version": "1.5.0",
          "model_name": "HTMLModel",
          "state": {
            "_dom_classes": [],
            "_model_module": "@jupyter-widgets/controls",
            "_model_module_version": "1.5.0",
            "_model_name": "HTMLModel",
            "_view_count": null,
            "_view_module": "@jupyter-widgets/controls",
            "_view_module_version": "1.5.0",
            "_view_name": "HTMLView",
            "description": "",
            "description_tooltip": null,
            "layout": "IPY_MODEL_616ab9971dce40bf8bfea4588471f220",
            "placeholder": "​",
            "style": "IPY_MODEL_df0c64a8e65d4e31ad64d0b3e0ffceb0",
            "value": " 12/12 [00:08&lt;00:00,  1.68ba/s]"
          }
        },
        "fd14588d1fe54a44afb7adc642bb9ec5": {
          "model_module": "@jupyter-widgets/controls",
          "model_module_version": "1.5.0",
          "model_name": "HBoxModel",
          "state": {
            "_dom_classes": [],
            "_model_module": "@jupyter-widgets/controls",
            "_model_module_version": "1.5.0",
            "_model_name": "HBoxModel",
            "_view_count": null,
            "_view_module": "@jupyter-widgets/controls",
            "_view_module_version": "1.5.0",
            "_view_name": "HBoxView",
            "box_style": "",
            "children": [
              "IPY_MODEL_456fed0d0c6f457a9efe000035d957d1",
              "IPY_MODEL_f75f905bac464b4ca7f4ad9d90b0e3bf",
              "IPY_MODEL_1ce649c1b3e44f1f86b7efcdde33bcf5"
            ],
            "layout": "IPY_MODEL_227d6e9bb3534ae6941a31f7a4bf23d8"
          }
        },
        "fd659d2dbbc043f7ac5fc713abfbe4ad": {
          "model_module": "@jupyter-widgets/controls",
          "model_module_version": "1.5.0",
          "model_name": "DescriptionStyleModel",
          "state": {
            "_model_module": "@jupyter-widgets/controls",
            "_model_module_version": "1.5.0",
            "_model_name": "DescriptionStyleModel",
            "_view_count": null,
            "_view_module": "@jupyter-widgets/base",
            "_view_module_version": "1.2.0",
            "_view_name": "StyleView",
            "description_width": ""
          }
        },
        "ffdbe3d1891349f49d794dbdac6191cb": {
          "model_module": "@jupyter-widgets/base",
          "model_module_version": "1.2.0",
          "model_name": "LayoutModel",
          "state": {
            "_model_module": "@jupyter-widgets/base",
            "_model_module_version": "1.2.0",
            "_model_name": "LayoutModel",
            "_view_count": null,
            "_view_module": "@jupyter-widgets/base",
            "_view_module_version": "1.2.0",
            "_view_name": "LayoutView",
            "align_content": null,
            "align_items": null,
            "align_self": null,
            "border": null,
            "bottom": null,
            "display": null,
            "flex": null,
            "flex_flow": null,
            "grid_area": null,
            "grid_auto_columns": null,
            "grid_auto_flow": null,
            "grid_auto_rows": null,
            "grid_column": null,
            "grid_gap": null,
            "grid_row": null,
            "grid_template_areas": null,
            "grid_template_columns": null,
            "grid_template_rows": null,
            "height": null,
            "justify_content": null,
            "justify_items": null,
            "left": null,
            "margin": null,
            "max_height": null,
            "max_width": null,
            "min_height": null,
            "min_width": null,
            "object_fit": null,
            "object_position": null,
            "order": null,
            "overflow": null,
            "overflow_x": null,
            "overflow_y": null,
            "padding": null,
            "right": null,
            "top": null,
            "visibility": null,
            "width": null
          }
        },
        "8f61e781a3af45318f3baa7960c07aa2": {
          "model_module": "@jupyter-widgets/controls",
          "model_name": "HBoxModel",
          "model_module_version": "1.5.0",
          "state": {
            "_dom_classes": [],
            "_model_module": "@jupyter-widgets/controls",
            "_model_module_version": "1.5.0",
            "_model_name": "HBoxModel",
            "_view_count": null,
            "_view_module": "@jupyter-widgets/controls",
            "_view_module_version": "1.5.0",
            "_view_name": "HBoxView",
            "box_style": "",
            "children": [
              "IPY_MODEL_6fe9a276f2e8479a9c7924343bc2899e",
              "IPY_MODEL_d61be742694a4b3298b9005ced7cf53f",
              "IPY_MODEL_efbee716fd7d45e4aea9508faf8ed838"
            ],
            "layout": "IPY_MODEL_71b02f032bba4a80a95c9ec2cde3beab"
          }
        },
        "6fe9a276f2e8479a9c7924343bc2899e": {
          "model_module": "@jupyter-widgets/controls",
          "model_name": "HTMLModel",
          "model_module_version": "1.5.0",
          "state": {
            "_dom_classes": [],
            "_model_module": "@jupyter-widgets/controls",
            "_model_module_version": "1.5.0",
            "_model_name": "HTMLModel",
            "_view_count": null,
            "_view_module": "@jupyter-widgets/controls",
            "_view_module_version": "1.5.0",
            "_view_name": "HTMLView",
            "description": "",
            "description_tooltip": null,
            "layout": "IPY_MODEL_b288689e66eb42b1a8b3ef5ccec71ba6",
            "placeholder": "​",
            "style": "IPY_MODEL_8b4c82cf3cb6491fa09ae25b307da445",
            "value": "100%"
          }
        },
        "d61be742694a4b3298b9005ced7cf53f": {
          "model_module": "@jupyter-widgets/controls",
          "model_name": "FloatProgressModel",
          "model_module_version": "1.5.0",
          "state": {
            "_dom_classes": [],
            "_model_module": "@jupyter-widgets/controls",
            "_model_module_version": "1.5.0",
            "_model_name": "FloatProgressModel",
            "_view_count": null,
            "_view_module": "@jupyter-widgets/controls",
            "_view_module_version": "1.5.0",
            "_view_name": "ProgressView",
            "bar_style": "success",
            "description": "",
            "description_tooltip": null,
            "layout": "IPY_MODEL_afa3208a5f3b484fbb802669815fa440",
            "max": 36,
            "min": 0,
            "orientation": "horizontal",
            "style": "IPY_MODEL_d98a962b24dd40159a4aedca009a3957",
            "value": 36
          }
        },
        "efbee716fd7d45e4aea9508faf8ed838": {
          "model_module": "@jupyter-widgets/controls",
          "model_name": "HTMLModel",
          "model_module_version": "1.5.0",
          "state": {
            "_dom_classes": [],
            "_model_module": "@jupyter-widgets/controls",
            "_model_module_version": "1.5.0",
            "_model_name": "HTMLModel",
            "_view_count": null,
            "_view_module": "@jupyter-widgets/controls",
            "_view_module_version": "1.5.0",
            "_view_name": "HTMLView",
            "description": "",
            "description_tooltip": null,
            "layout": "IPY_MODEL_f9636d8118ee45669c41339747264bf2",
            "placeholder": "​",
            "style": "IPY_MODEL_251fe70e32bb4141ae8c97f7df45b508",
            "value": " 36/36 [01:13&lt;00:00,  1.63s/ba]"
          }
        },
        "71b02f032bba4a80a95c9ec2cde3beab": {
          "model_module": "@jupyter-widgets/base",
          "model_name": "LayoutModel",
          "model_module_version": "1.2.0",
          "state": {
            "_model_module": "@jupyter-widgets/base",
            "_model_module_version": "1.2.0",
            "_model_name": "LayoutModel",
            "_view_count": null,
            "_view_module": "@jupyter-widgets/base",
            "_view_module_version": "1.2.0",
            "_view_name": "LayoutView",
            "align_content": null,
            "align_items": null,
            "align_self": null,
            "border": null,
            "bottom": null,
            "display": null,
            "flex": null,
            "flex_flow": null,
            "grid_area": null,
            "grid_auto_columns": null,
            "grid_auto_flow": null,
            "grid_auto_rows": null,
            "grid_column": null,
            "grid_gap": null,
            "grid_row": null,
            "grid_template_areas": null,
            "grid_template_columns": null,
            "grid_template_rows": null,
            "height": null,
            "justify_content": null,
            "justify_items": null,
            "left": null,
            "margin": null,
            "max_height": null,
            "max_width": null,
            "min_height": null,
            "min_width": null,
            "object_fit": null,
            "object_position": null,
            "order": null,
            "overflow": null,
            "overflow_x": null,
            "overflow_y": null,
            "padding": null,
            "right": null,
            "top": null,
            "visibility": null,
            "width": null
          }
        },
        "b288689e66eb42b1a8b3ef5ccec71ba6": {
          "model_module": "@jupyter-widgets/base",
          "model_name": "LayoutModel",
          "model_module_version": "1.2.0",
          "state": {
            "_model_module": "@jupyter-widgets/base",
            "_model_module_version": "1.2.0",
            "_model_name": "LayoutModel",
            "_view_count": null,
            "_view_module": "@jupyter-widgets/base",
            "_view_module_version": "1.2.0",
            "_view_name": "LayoutView",
            "align_content": null,
            "align_items": null,
            "align_self": null,
            "border": null,
            "bottom": null,
            "display": null,
            "flex": null,
            "flex_flow": null,
            "grid_area": null,
            "grid_auto_columns": null,
            "grid_auto_flow": null,
            "grid_auto_rows": null,
            "grid_column": null,
            "grid_gap": null,
            "grid_row": null,
            "grid_template_areas": null,
            "grid_template_columns": null,
            "grid_template_rows": null,
            "height": null,
            "justify_content": null,
            "justify_items": null,
            "left": null,
            "margin": null,
            "max_height": null,
            "max_width": null,
            "min_height": null,
            "min_width": null,
            "object_fit": null,
            "object_position": null,
            "order": null,
            "overflow": null,
            "overflow_x": null,
            "overflow_y": null,
            "padding": null,
            "right": null,
            "top": null,
            "visibility": null,
            "width": null
          }
        },
        "8b4c82cf3cb6491fa09ae25b307da445": {
          "model_module": "@jupyter-widgets/controls",
          "model_name": "DescriptionStyleModel",
          "model_module_version": "1.5.0",
          "state": {
            "_model_module": "@jupyter-widgets/controls",
            "_model_module_version": "1.5.0",
            "_model_name": "DescriptionStyleModel",
            "_view_count": null,
            "_view_module": "@jupyter-widgets/base",
            "_view_module_version": "1.2.0",
            "_view_name": "StyleView",
            "description_width": ""
          }
        },
        "afa3208a5f3b484fbb802669815fa440": {
          "model_module": "@jupyter-widgets/base",
          "model_name": "LayoutModel",
          "model_module_version": "1.2.0",
          "state": {
            "_model_module": "@jupyter-widgets/base",
            "_model_module_version": "1.2.0",
            "_model_name": "LayoutModel",
            "_view_count": null,
            "_view_module": "@jupyter-widgets/base",
            "_view_module_version": "1.2.0",
            "_view_name": "LayoutView",
            "align_content": null,
            "align_items": null,
            "align_self": null,
            "border": null,
            "bottom": null,
            "display": null,
            "flex": null,
            "flex_flow": null,
            "grid_area": null,
            "grid_auto_columns": null,
            "grid_auto_flow": null,
            "grid_auto_rows": null,
            "grid_column": null,
            "grid_gap": null,
            "grid_row": null,
            "grid_template_areas": null,
            "grid_template_columns": null,
            "grid_template_rows": null,
            "height": null,
            "justify_content": null,
            "justify_items": null,
            "left": null,
            "margin": null,
            "max_height": null,
            "max_width": null,
            "min_height": null,
            "min_width": null,
            "object_fit": null,
            "object_position": null,
            "order": null,
            "overflow": null,
            "overflow_x": null,
            "overflow_y": null,
            "padding": null,
            "right": null,
            "top": null,
            "visibility": null,
            "width": null
          }
        },
        "d98a962b24dd40159a4aedca009a3957": {
          "model_module": "@jupyter-widgets/controls",
          "model_name": "ProgressStyleModel",
          "model_module_version": "1.5.0",
          "state": {
            "_model_module": "@jupyter-widgets/controls",
            "_model_module_version": "1.5.0",
            "_model_name": "ProgressStyleModel",
            "_view_count": null,
            "_view_module": "@jupyter-widgets/base",
            "_view_module_version": "1.2.0",
            "_view_name": "StyleView",
            "bar_color": null,
            "description_width": ""
          }
        },
        "f9636d8118ee45669c41339747264bf2": {
          "model_module": "@jupyter-widgets/base",
          "model_name": "LayoutModel",
          "model_module_version": "1.2.0",
          "state": {
            "_model_module": "@jupyter-widgets/base",
            "_model_module_version": "1.2.0",
            "_model_name": "LayoutModel",
            "_view_count": null,
            "_view_module": "@jupyter-widgets/base",
            "_view_module_version": "1.2.0",
            "_view_name": "LayoutView",
            "align_content": null,
            "align_items": null,
            "align_self": null,
            "border": null,
            "bottom": null,
            "display": null,
            "flex": null,
            "flex_flow": null,
            "grid_area": null,
            "grid_auto_columns": null,
            "grid_auto_flow": null,
            "grid_auto_rows": null,
            "grid_column": null,
            "grid_gap": null,
            "grid_row": null,
            "grid_template_areas": null,
            "grid_template_columns": null,
            "grid_template_rows": null,
            "height": null,
            "justify_content": null,
            "justify_items": null,
            "left": null,
            "margin": null,
            "max_height": null,
            "max_width": null,
            "min_height": null,
            "min_width": null,
            "object_fit": null,
            "object_position": null,
            "order": null,
            "overflow": null,
            "overflow_x": null,
            "overflow_y": null,
            "padding": null,
            "right": null,
            "top": null,
            "visibility": null,
            "width": null
          }
        },
        "251fe70e32bb4141ae8c97f7df45b508": {
          "model_module": "@jupyter-widgets/controls",
          "model_name": "DescriptionStyleModel",
          "model_module_version": "1.5.0",
          "state": {
            "_model_module": "@jupyter-widgets/controls",
            "_model_module_version": "1.5.0",
            "_model_name": "DescriptionStyleModel",
            "_view_count": null,
            "_view_module": "@jupyter-widgets/base",
            "_view_module_version": "1.2.0",
            "_view_name": "StyleView",
            "description_width": ""
          }
        }
      }
    }
  },
  "nbformat": 4,
  "nbformat_minor": 0
}